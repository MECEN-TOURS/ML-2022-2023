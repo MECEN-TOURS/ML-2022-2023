{
 "cells": [
  {
   "cell_type": "markdown",
   "metadata": {},
   "source": [
    "# Objectif"
   ]
  },
  {
   "cell_type": "markdown",
   "metadata": {},
   "source": [
    "Récuperer le fichier:\n",
    "`https://github.com/VPerrollaz/immobilier/blob/master/donnees/brute.json`\n",
    "\n",
    "puis transformer le en un dataset permettant de faire de l'apprentissage."
   ]
  },
  {
   "cell_type": "markdown",
   "metadata": {},
   "source": [
    "# Récupération fichier"
   ]
  },
  {
   "cell_type": "code",
   "execution_count": 1,
   "metadata": {},
   "outputs": [],
   "source": [
    "from requests import get"
   ]
  },
  {
   "cell_type": "code",
   "execution_count": 2,
   "metadata": {},
   "outputs": [],
   "source": [
    "ADRESSE = \"https://raw.githubusercontent.com/VPerrollaz/immobilier/master/donnees/brute.json\""
   ]
  },
  {
   "cell_type": "code",
   "execution_count": 3,
   "metadata": {},
   "outputs": [
    {
     "data": {
      "text/plain": [
       "200"
      ]
     },
     "execution_count": 3,
     "metadata": {},
     "output_type": "execute_result"
    }
   ],
   "source": [
    "requete = get(ADRESSE)\n",
    "requete.status_code"
   ]
  },
  {
   "cell_type": "code",
   "execution_count": 4,
   "metadata": {},
   "outputs": [
    {
     "data": {
      "text/plain": [
       "'OK'"
      ]
     },
     "execution_count": 4,
     "metadata": {},
     "output_type": "execute_result"
    }
   ],
   "source": [
    "requete.reason"
   ]
  },
  {
   "cell_type": "code",
   "execution_count": 5,
   "metadata": {},
   "outputs": [],
   "source": [
    "contenu = requete.text"
   ]
  },
  {
   "cell_type": "code",
   "execution_count": 6,
   "metadata": {},
   "outputs": [
    {
     "data": {
      "text/plain": [
       "str"
      ]
     },
     "execution_count": 6,
     "metadata": {},
     "output_type": "execute_result"
    }
   ],
   "source": [
    "type(contenu)"
   ]
  },
  {
   "cell_type": "code",
   "execution_count": 7,
   "metadata": {},
   "outputs": [
    {
     "data": {
      "text/plain": [
       "'{\"id\": \"annonce-138905473-376235\", \"genre\": \"Appartement\", \"prix\": \"374 400 \\\\u20ac\", \"pcs\": \"3 p 2 ch 90 m\\\\u00b2\", \"desc\": \"Appartement type 3 - TOURS CATH\\\\u00c9DRALE TOURS CATH\\\\u00c9DRALE: Ravissant appartement type 3 d\\'environ 90 m\\\\u00b2 dans r\\\\u00e9sidence de standing (~50 lots) avec cave et parking. Entr\\\\u00e9e,...\\\\n\\\\u00c7a m\\'int\\\\u00e9resse\", \"lien\": \"https://www.seloger.com/annonces/achat/appartement/tours-37/cathedrale/138905473.htm\"}\\n{\"id\": \"annonce-140620177-376235\", \"genre\": \"Appartement\", \"prix\": \"499 200 \\\\u20ac\", \"pcs\": \"5 p 4 ch 146,27 m\\\\u00b2\", \"desc\": \"TOURS HYPERCENTRE - Appartement TOURS HYPERCENTRE: Superbe appartement de 146,37 m\\\\u00b2 (LOI CARREZ) dans un immeuble de caract\\\\u00e8re avec ascenseur. Entr\\\\u00e9e, s\\\\u00e9jour SUD, vaste...\\\\n\\\\u00c7a m\\'int\\\\u00e9resse\", \"lien\": \"https://www.seloger.com/annonces/achat/appartement/tours-37/centre/140620177.htm\"}\\n{\"id\": \"annonce-140620179-376235\", \"genre\": \"Appartement\", \"prix\": \"499 200 \\\\u20ac\", \"pcs\": \"5 p 3 ch 110 m\\\\u00b2\",'"
      ]
     },
     "execution_count": 7,
     "metadata": {},
     "output_type": "execute_result"
    }
   ],
   "source": [
    "contenu[:1000]"
   ]
  },
  {
   "cell_type": "code",
   "execution_count": 8,
   "metadata": {},
   "outputs": [
    {
     "data": {
      "text/plain": [
       "'es avec jardin ou appartements du 2 au 3 pi\\\\u00e8ces: faites votre choix - Exceptionnel: une cuisine Blanchet d\\'Huismes am\\\\u00e9nag\\\\u00e9e et install\\\\u00e9e dans...\\\\n\\\\u00c7a m\\'int\\\\u00e9resse\", \"lien\": \"https://www.selogerneuf.com/annonces/achat/maison/tours-37/138636083/#?cmp=INTSL_ListToDetail\"}\\n{\"id\": \"annonce-137873909-139524\", \"genre\": \"Boutique\", \"prix\": \"195 000 \\\\u20ac\", \"pcs\": \"173 m\\\\u00b2\", \"desc\": \"Place Saint \\\\u00c9loi, Local commercial de 173m\\\\u00b2 avec acc\\\\u00e8s PMR. Il comprend des espaces bureaux en rez-de-chauss\\\\u00e9e de 92m\\\\u00b2 environ et 79m\\\\u00b2 \\\\u00e0 l\\'\\\\u00e9tage. Belle fa\\\\u00e7ade.\\\\n\\\\u00c7a m\\'int\\\\u00e9resse\", \"lien\": \"https://www.seloger.com/annonces/achat/boutique/tours-37/137873909.htm\"}\\n{\"id\": \"annonce-136457803-733454\", \"genre\": \"Parking\", \"prix\": \"15 000 \\\\u20ac\", \"pcs\": \"13 m\\\\u00b2\", \"desc\": \"GRAMMONT.PLACE DE LA LIBERT\\\\u00c9. Garage en sous-sol.\\\\n\\\\u00c7a m\\'int\\\\u00e9resse\", \"lien\": \"https://www.seloger.com/annonces/achat/parking/tours-37/136457803.htm\"}\\n'"
      ]
     },
     "execution_count": 8,
     "metadata": {},
     "output_type": "execute_result"
    }
   ],
   "source": [
    "contenu[-1000:]"
   ]
  },
  {
   "cell_type": "markdown",
   "metadata": {},
   "source": [
    "# Décodage du json\n",
    "\n",
    "Délicat car construction à la main sans librairie de sérialisation (i.e. `pyserde`)!"
   ]
  },
  {
   "cell_type": "code",
   "execution_count": 9,
   "metadata": {},
   "outputs": [],
   "source": [
    "import json"
   ]
  },
  {
   "cell_type": "code",
   "execution_count": 10,
   "metadata": {},
   "outputs": [
    {
     "ename": "JSONDecodeError",
     "evalue": "Extra data: line 2 column 1 (char 445)",
     "output_type": "error",
     "traceback": [
      "\u001b[1;31m---------------------------------------------------------------------------\u001b[0m",
      "\u001b[1;31mJSONDecodeError\u001b[0m                           Traceback (most recent call last)",
      "\u001b[1;32m<ipython-input-10-6562aeba8693>\u001b[0m in \u001b[0;36m<module>\u001b[1;34m\u001b[0m\n\u001b[1;32m----> 1\u001b[1;33m \u001b[0mjson\u001b[0m\u001b[1;33m.\u001b[0m\u001b[0mloads\u001b[0m\u001b[1;33m(\u001b[0m\u001b[0mcontenu\u001b[0m\u001b[1;33m)\u001b[0m\u001b[1;33m\u001b[0m\u001b[1;33m\u001b[0m\u001b[0m\n\u001b[0m",
      "\u001b[1;32mc:\\programdata\\miniconda3\\lib\\json\\__init__.py\u001b[0m in \u001b[0;36mloads\u001b[1;34m(s, encoding, cls, object_hook, parse_float, parse_int, parse_constant, object_pairs_hook, **kw)\u001b[0m\n\u001b[0;32m    346\u001b[0m             \u001b[0mparse_int\u001b[0m \u001b[1;32mis\u001b[0m \u001b[1;32mNone\u001b[0m \u001b[1;32mand\u001b[0m \u001b[0mparse_float\u001b[0m \u001b[1;32mis\u001b[0m \u001b[1;32mNone\u001b[0m \u001b[1;32mand\u001b[0m\u001b[1;33m\u001b[0m\u001b[1;33m\u001b[0m\u001b[0m\n\u001b[0;32m    347\u001b[0m             parse_constant is None and object_pairs_hook is None and not kw):\n\u001b[1;32m--> 348\u001b[1;33m         \u001b[1;32mreturn\u001b[0m \u001b[0m_default_decoder\u001b[0m\u001b[1;33m.\u001b[0m\u001b[0mdecode\u001b[0m\u001b[1;33m(\u001b[0m\u001b[0ms\u001b[0m\u001b[1;33m)\u001b[0m\u001b[1;33m\u001b[0m\u001b[1;33m\u001b[0m\u001b[0m\n\u001b[0m\u001b[0;32m    349\u001b[0m     \u001b[1;32mif\u001b[0m \u001b[0mcls\u001b[0m \u001b[1;32mis\u001b[0m \u001b[1;32mNone\u001b[0m\u001b[1;33m:\u001b[0m\u001b[1;33m\u001b[0m\u001b[1;33m\u001b[0m\u001b[0m\n\u001b[0;32m    350\u001b[0m         \u001b[0mcls\u001b[0m \u001b[1;33m=\u001b[0m \u001b[0mJSONDecoder\u001b[0m\u001b[1;33m\u001b[0m\u001b[1;33m\u001b[0m\u001b[0m\n",
      "\u001b[1;32mc:\\programdata\\miniconda3\\lib\\json\\decoder.py\u001b[0m in \u001b[0;36mdecode\u001b[1;34m(self, s, _w)\u001b[0m\n\u001b[0;32m    338\u001b[0m         \u001b[0mend\u001b[0m \u001b[1;33m=\u001b[0m \u001b[0m_w\u001b[0m\u001b[1;33m(\u001b[0m\u001b[0ms\u001b[0m\u001b[1;33m,\u001b[0m \u001b[0mend\u001b[0m\u001b[1;33m)\u001b[0m\u001b[1;33m.\u001b[0m\u001b[0mend\u001b[0m\u001b[1;33m(\u001b[0m\u001b[1;33m)\u001b[0m\u001b[1;33m\u001b[0m\u001b[1;33m\u001b[0m\u001b[0m\n\u001b[0;32m    339\u001b[0m         \u001b[1;32mif\u001b[0m \u001b[0mend\u001b[0m \u001b[1;33m!=\u001b[0m \u001b[0mlen\u001b[0m\u001b[1;33m(\u001b[0m\u001b[0ms\u001b[0m\u001b[1;33m)\u001b[0m\u001b[1;33m:\u001b[0m\u001b[1;33m\u001b[0m\u001b[1;33m\u001b[0m\u001b[0m\n\u001b[1;32m--> 340\u001b[1;33m             \u001b[1;32mraise\u001b[0m \u001b[0mJSONDecodeError\u001b[0m\u001b[1;33m(\u001b[0m\u001b[1;34m\"Extra data\"\u001b[0m\u001b[1;33m,\u001b[0m \u001b[0ms\u001b[0m\u001b[1;33m,\u001b[0m \u001b[0mend\u001b[0m\u001b[1;33m)\u001b[0m\u001b[1;33m\u001b[0m\u001b[1;33m\u001b[0m\u001b[0m\n\u001b[0m\u001b[0;32m    341\u001b[0m         \u001b[1;32mreturn\u001b[0m \u001b[0mobj\u001b[0m\u001b[1;33m\u001b[0m\u001b[1;33m\u001b[0m\u001b[0m\n\u001b[0;32m    342\u001b[0m \u001b[1;33m\u001b[0m\u001b[0m\n",
      "\u001b[1;31mJSONDecodeError\u001b[0m: Extra data: line 2 column 1 (char 445)"
     ]
    }
   ],
   "source": [
    "json.loads(contenu)"
   ]
  },
  {
   "cell_type": "code",
   "execution_count": 11,
   "metadata": {},
   "outputs": [
    {
     "data": {
      "text/plain": [
       "'tm\"}\\n{\"id\"'"
      ]
     },
     "execution_count": 11,
     "metadata": {},
     "output_type": "execute_result"
    }
   ],
   "source": [
    "contenu[440:450]"
   ]
  },
  {
   "cell_type": "code",
   "execution_count": 12,
   "metadata": {},
   "outputs": [
    {
     "name": "stdout",
     "output_type": "stream",
     "text": [
      "{\"id\": \"annonce-138905473-376235\", \"genre\": \"Appartement\", \"prix\": \"374 400 \\u20ac\", \"pcs\": \"3 p 2 ch 90 m\\u00b2\", \"desc\": \"Appartement type 3 - TOURS CATH\\u00c9DRALE TOURS CATH\\u00c9DRALE: Ravissant appartement type 3 d'environ 90 m\\u00b2 dans r\\u00e9sidence de standing (~50 lots) avec cave et parking. Entr\\u00e9e,...\\n\\u00c7a m'int\\u00e9resse\", \"lien\": \"https://www.seloger.com/annonces/achat/appartement/tours-37/cathedrale/138905473.htm\"}\n",
      "{\"id\"\n"
     ]
    }
   ],
   "source": [
    "print(contenu[:450])"
   ]
  },
  {
   "cell_type": "markdown",
   "metadata": {},
   "source": [
    "On voit qu'on a juste une juxtaposition d'annonces représentées par des dictionnaires.\n",
    "Il faut rajouter les virgules et les crochets pour transformer le contenu en une liste de dictionnaires."
   ]
  },
  {
   "cell_type": "markdown",
   "metadata": {},
   "source": [
    "**REMARQUE** le `\\\\u00b2` représente 6 caractères alors que `\\u00b2` représente un caractère via sa numérotation unicode!"
   ]
  },
  {
   "cell_type": "code",
   "execution_count": 13,
   "metadata": {},
   "outputs": [
    {
     "name": "stdout",
     "output_type": "stream",
     "text": [
      "\\u00b2\n"
     ]
    }
   ],
   "source": [
    "print(\"\\\\u00b2\")"
   ]
  },
  {
   "cell_type": "code",
   "execution_count": 14,
   "metadata": {},
   "outputs": [
    {
     "name": "stdout",
     "output_type": "stream",
     "text": [
      "²\n"
     ]
    }
   ],
   "source": [
    "print(\"\\u00b2\")"
   ]
  },
  {
   "cell_type": "code",
   "execution_count": 15,
   "metadata": {},
   "outputs": [],
   "source": [
    "annonces = json.loads(\"[\" + contenu[:-1].replace(\"\\n\", \",\") + \"]\")"
   ]
  },
  {
   "cell_type": "code",
   "execution_count": 16,
   "metadata": {},
   "outputs": [
    {
     "data": {
      "text/plain": [
       "list"
      ]
     },
     "execution_count": 16,
     "metadata": {},
     "output_type": "execute_result"
    }
   ],
   "source": [
    "type(annonces)"
   ]
  },
  {
   "cell_type": "code",
   "execution_count": 17,
   "metadata": {},
   "outputs": [
    {
     "data": {
      "text/plain": [
       "dict"
      ]
     },
     "execution_count": 17,
     "metadata": {},
     "output_type": "execute_result"
    }
   ],
   "source": [
    "type(annonces[0])"
   ]
  },
  {
   "cell_type": "code",
   "execution_count": 18,
   "metadata": {},
   "outputs": [
    {
     "data": {
      "text/plain": [
       "{'id': 'annonce-138905473-376235',\n",
       " 'genre': 'Appartement',\n",
       " 'prix': '374 400 €',\n",
       " 'pcs': '3 p 2 ch 90 m²',\n",
       " 'desc': \"Appartement type 3 - TOURS CATHÉDRALE TOURS CATHÉDRALE: Ravissant appartement type 3 d'environ 90 m² dans résidence de standing (~50 lots) avec cave et parking. Entrée,...\\nÇa m'intéresse\",\n",
       " 'lien': 'https://www.seloger.com/annonces/achat/appartement/tours-37/cathedrale/138905473.htm'}"
      ]
     },
     "execution_count": 18,
     "metadata": {},
     "output_type": "execute_result"
    }
   ],
   "source": [
    "annonces[0]"
   ]
  },
  {
   "cell_type": "code",
   "execution_count": 19,
   "metadata": {},
   "outputs": [
    {
     "data": {
      "text/plain": [
       "1818"
      ]
     },
     "execution_count": 19,
     "metadata": {},
     "output_type": "execute_result"
    }
   ],
   "source": [
    "len(annonces)"
   ]
  },
  {
   "cell_type": "markdown",
   "metadata": {},
   "source": [
    "# Extraire l'information pertinente des colonnes\n",
    "\n",
    "e.g. \n",
    "- id (str), \n",
    "- genre (catégorie), \n",
    "- prix (int), \n",
    "- surface (int), \n",
    "- pieces (int), \n",
    "- neuf (bool), \n",
    "- quartier (categorie?)\n",
    "- ?"
   ]
  },
  {
   "cell_type": "code",
   "execution_count": 20,
   "metadata": {},
   "outputs": [],
   "source": [
    "import pandas as pd"
   ]
  },
  {
   "cell_type": "code",
   "execution_count": 42,
   "metadata": {},
   "outputs": [],
   "source": [
    "df = pd.DataFrame(annonces)"
   ]
  },
  {
   "cell_type": "code",
   "execution_count": 43,
   "metadata": {},
   "outputs": [
    {
     "data": {
      "text/html": [
       "<div>\n",
       "<style scoped>\n",
       "    .dataframe tbody tr th:only-of-type {\n",
       "        vertical-align: middle;\n",
       "    }\n",
       "\n",
       "    .dataframe tbody tr th {\n",
       "        vertical-align: top;\n",
       "    }\n",
       "\n",
       "    .dataframe thead th {\n",
       "        text-align: right;\n",
       "    }\n",
       "</style>\n",
       "<table border=\"1\" class=\"dataframe\">\n",
       "  <thead>\n",
       "    <tr style=\"text-align: right;\">\n",
       "      <th></th>\n",
       "      <th>id</th>\n",
       "      <th>genre</th>\n",
       "      <th>prix</th>\n",
       "      <th>pcs</th>\n",
       "      <th>desc</th>\n",
       "      <th>lien</th>\n",
       "    </tr>\n",
       "  </thead>\n",
       "  <tbody>\n",
       "    <tr>\n",
       "      <th>count</th>\n",
       "      <td>1818</td>\n",
       "      <td>1818</td>\n",
       "      <td>1818</td>\n",
       "      <td>1818</td>\n",
       "      <td>1818</td>\n",
       "      <td>1818</td>\n",
       "    </tr>\n",
       "    <tr>\n",
       "      <th>unique</th>\n",
       "      <td>1798</td>\n",
       "      <td>16</td>\n",
       "      <td>1152</td>\n",
       "      <td>1140</td>\n",
       "      <td>1591</td>\n",
       "      <td>1798</td>\n",
       "    </tr>\n",
       "    <tr>\n",
       "      <th>top</th>\n",
       "      <td>annonce-140014391-548829</td>\n",
       "      <td>Appartement</td>\n",
       "      <td>155 000 €</td>\n",
       "      <td>3 p 2 ch 65 m²</td>\n",
       "      <td>Livraison: Octobre 2020 - Rare, plein centre d...</td>\n",
       "      <td>https://www.seloger.com/annonces/investissemen...</td>\n",
       "    </tr>\n",
       "    <tr>\n",
       "      <th>freq</th>\n",
       "      <td>2</td>\n",
       "      <td>1041</td>\n",
       "      <td>11</td>\n",
       "      <td>30</td>\n",
       "      <td>19</td>\n",
       "      <td>2</td>\n",
       "    </tr>\n",
       "  </tbody>\n",
       "</table>\n",
       "</div>"
      ],
      "text/plain": [
       "                              id        genre       prix             pcs  \\\n",
       "count                       1818         1818       1818            1818   \n",
       "unique                      1798           16       1152            1140   \n",
       "top     annonce-140014391-548829  Appartement  155 000 €  3 p 2 ch 65 m²   \n",
       "freq                           2         1041         11              30   \n",
       "\n",
       "                                                     desc  \\\n",
       "count                                                1818   \n",
       "unique                                               1591   \n",
       "top     Livraison: Octobre 2020 - Rare, plein centre d...   \n",
       "freq                                                   19   \n",
       "\n",
       "                                                     lien  \n",
       "count                                                1818  \n",
       "unique                                               1798  \n",
       "top     https://www.seloger.com/annonces/investissemen...  \n",
       "freq                                                    2  "
      ]
     },
     "execution_count": 43,
     "metadata": {},
     "output_type": "execute_result"
    }
   ],
   "source": [
    "df.describe()"
   ]
  },
  {
   "cell_type": "code",
   "execution_count": 44,
   "metadata": {},
   "outputs": [
    {
     "data": {
      "text/html": [
       "<div>\n",
       "<style scoped>\n",
       "    .dataframe tbody tr th:only-of-type {\n",
       "        vertical-align: middle;\n",
       "    }\n",
       "\n",
       "    .dataframe tbody tr th {\n",
       "        vertical-align: top;\n",
       "    }\n",
       "\n",
       "    .dataframe thead th {\n",
       "        text-align: right;\n",
       "    }\n",
       "</style>\n",
       "<table border=\"1\" class=\"dataframe\">\n",
       "  <thead>\n",
       "    <tr style=\"text-align: right;\">\n",
       "      <th></th>\n",
       "      <th>id</th>\n",
       "      <th>genre</th>\n",
       "      <th>prix</th>\n",
       "      <th>pcs</th>\n",
       "      <th>desc</th>\n",
       "      <th>lien</th>\n",
       "    </tr>\n",
       "  </thead>\n",
       "  <tbody>\n",
       "    <tr>\n",
       "      <th>0</th>\n",
       "      <td>annonce-138905473-376235</td>\n",
       "      <td>Appartement</td>\n",
       "      <td>374 400 €</td>\n",
       "      <td>3 p 2 ch 90 m²</td>\n",
       "      <td>Appartement type 3 - TOURS CATHÉDRALE TOURS CA...</td>\n",
       "      <td>https://www.seloger.com/annonces/achat/apparte...</td>\n",
       "    </tr>\n",
       "    <tr>\n",
       "      <th>1</th>\n",
       "      <td>annonce-140620177-376235</td>\n",
       "      <td>Appartement</td>\n",
       "      <td>499 200 €</td>\n",
       "      <td>5 p 4 ch 146,27 m²</td>\n",
       "      <td>TOURS HYPERCENTRE - Appartement TOURS HYPERCEN...</td>\n",
       "      <td>https://www.seloger.com/annonces/achat/apparte...</td>\n",
       "    </tr>\n",
       "    <tr>\n",
       "      <th>2</th>\n",
       "      <td>annonce-140620179-376235</td>\n",
       "      <td>Appartement</td>\n",
       "      <td>499 200 €</td>\n",
       "      <td>5 p 3 ch 110 m²</td>\n",
       "      <td>TOURS PRÉBENDES NORD - APPARTEMENT TOURS PRÉBE...</td>\n",
       "      <td>https://www.seloger.com/annonces/achat/apparte...</td>\n",
       "    </tr>\n",
       "    <tr>\n",
       "      <th>3</th>\n",
       "      <td>annonce-133494153-376235</td>\n",
       "      <td>Maison / Villa</td>\n",
       "      <td>508 000 €</td>\n",
       "      <td>6 p 4 ch 132 m²</td>\n",
       "      <td>TOURS PRÉBENDES - PARTICULIER TOURANGEAUX TOUR...</td>\n",
       "      <td>https://www.seloger.com/annonces/achat/maison/...</td>\n",
       "    </tr>\n",
       "    <tr>\n",
       "      <th>4</th>\n",
       "      <td>annonce-137425993-376235</td>\n",
       "      <td>Maison / Villa</td>\n",
       "      <td>676 000 €</td>\n",
       "      <td>7 p 5 ch 185 m²</td>\n",
       "      <td>TOURS STRASBOURG / RABELAIS - Maison TOURS STR...</td>\n",
       "      <td>https://www.seloger.com/annonces/achat-de-pres...</td>\n",
       "    </tr>\n",
       "  </tbody>\n",
       "</table>\n",
       "</div>"
      ],
      "text/plain": [
       "                         id           genre       prix                 pcs  \\\n",
       "0  annonce-138905473-376235     Appartement  374 400 €      3 p 2 ch 90 m²   \n",
       "1  annonce-140620177-376235     Appartement  499 200 €  5 p 4 ch 146,27 m²   \n",
       "2  annonce-140620179-376235     Appartement  499 200 €     5 p 3 ch 110 m²   \n",
       "3  annonce-133494153-376235  Maison / Villa  508 000 €     6 p 4 ch 132 m²   \n",
       "4  annonce-137425993-376235  Maison / Villa  676 000 €     7 p 5 ch 185 m²   \n",
       "\n",
       "                                                desc  \\\n",
       "0  Appartement type 3 - TOURS CATHÉDRALE TOURS CA...   \n",
       "1  TOURS HYPERCENTRE - Appartement TOURS HYPERCEN...   \n",
       "2  TOURS PRÉBENDES NORD - APPARTEMENT TOURS PRÉBE...   \n",
       "3  TOURS PRÉBENDES - PARTICULIER TOURANGEAUX TOUR...   \n",
       "4  TOURS STRASBOURG / RABELAIS - Maison TOURS STR...   \n",
       "\n",
       "                                                lien  \n",
       "0  https://www.seloger.com/annonces/achat/apparte...  \n",
       "1  https://www.seloger.com/annonces/achat/apparte...  \n",
       "2  https://www.seloger.com/annonces/achat/apparte...  \n",
       "3  https://www.seloger.com/annonces/achat/maison/...  \n",
       "4  https://www.seloger.com/annonces/achat-de-pres...  "
      ]
     },
     "execution_count": 44,
     "metadata": {},
     "output_type": "execute_result"
    }
   ],
   "source": [
    "df.head()"
   ]
  },
  {
   "cell_type": "code",
   "execution_count": 45,
   "metadata": {},
   "outputs": [
    {
     "data": {
      "text/plain": [
       "id       object\n",
       "genre    object\n",
       "prix     object\n",
       "pcs      object\n",
       "desc     object\n",
       "lien     object\n",
       "dtype: object"
      ]
     },
     "execution_count": 45,
     "metadata": {},
     "output_type": "execute_result"
    }
   ],
   "source": [
    "df.dtypes"
   ]
  },
  {
   "cell_type": "markdown",
   "metadata": {},
   "source": [
    "## Appartement/Maison"
   ]
  },
  {
   "cell_type": "code",
   "execution_count": 46,
   "metadata": {},
   "outputs": [
    {
     "data": {
      "text/plain": [
       "array(['Appartement', 'Maison / Villa', 'Appartement neuf',\n",
       "       'Projet de construction', 'Maison / Villa neuve', 'Bâtiment',\n",
       "       'Parking', 'Bureau', 'Local commercial', 'Immeuble', 'Boutique',\n",
       "       'Terrain', 'Divers', 'Loft/Atelier/Surface', 'Château',\n",
       "       'Hôtel particulier'], dtype=object)"
      ]
     },
     "execution_count": 46,
     "metadata": {},
     "output_type": "execute_result"
    }
   ],
   "source": [
    "df.genre.unique()"
   ]
  },
  {
   "cell_type": "code",
   "execution_count": 47,
   "metadata": {},
   "outputs": [],
   "source": [
    "equivalent_appartements = {'Appartement', 'Appartement neuf'}\n",
    "equivalent_maisons = {'Maison / Villa', 'Maison / Villa neuve', 'Château', 'Hôtel particulier'}"
   ]
  },
  {
   "cell_type": "code",
   "execution_count": 48,
   "metadata": {},
   "outputs": [],
   "source": [
    "df[\"appartement\"] = df.eval(\"genre in @equivalent_appartements\")"
   ]
  },
  {
   "cell_type": "code",
   "execution_count": 49,
   "metadata": {},
   "outputs": [],
   "source": [
    "df[\"maison\"] = df.eval(\"genre in @equivalent_maisons\")"
   ]
  },
  {
   "cell_type": "code",
   "execution_count": 50,
   "metadata": {},
   "outputs": [],
   "source": [
    "df[\"a_supprimer\"] = df.eval(\"not (maison | appartement)\")"
   ]
  },
  {
   "cell_type": "code",
   "execution_count": 51,
   "metadata": {},
   "outputs": [
    {
     "data": {
      "text/html": [
       "<div>\n",
       "<style scoped>\n",
       "    .dataframe tbody tr th:only-of-type {\n",
       "        vertical-align: middle;\n",
       "    }\n",
       "\n",
       "    .dataframe tbody tr th {\n",
       "        vertical-align: top;\n",
       "    }\n",
       "\n",
       "    .dataframe thead th {\n",
       "        text-align: right;\n",
       "    }\n",
       "</style>\n",
       "<table border=\"1\" class=\"dataframe\">\n",
       "  <thead>\n",
       "    <tr style=\"text-align: right;\">\n",
       "      <th></th>\n",
       "      <th>id</th>\n",
       "      <th>genre</th>\n",
       "      <th>prix</th>\n",
       "      <th>pcs</th>\n",
       "      <th>desc</th>\n",
       "      <th>lien</th>\n",
       "      <th>appartement</th>\n",
       "      <th>maison</th>\n",
       "      <th>a_supprimer</th>\n",
       "    </tr>\n",
       "  </thead>\n",
       "  <tbody>\n",
       "    <tr>\n",
       "      <th>count</th>\n",
       "      <td>1818</td>\n",
       "      <td>1818</td>\n",
       "      <td>1818</td>\n",
       "      <td>1818</td>\n",
       "      <td>1818</td>\n",
       "      <td>1818</td>\n",
       "      <td>1818</td>\n",
       "      <td>1818</td>\n",
       "      <td>1818</td>\n",
       "    </tr>\n",
       "    <tr>\n",
       "      <th>unique</th>\n",
       "      <td>1798</td>\n",
       "      <td>16</td>\n",
       "      <td>1152</td>\n",
       "      <td>1140</td>\n",
       "      <td>1591</td>\n",
       "      <td>1798</td>\n",
       "      <td>2</td>\n",
       "      <td>2</td>\n",
       "      <td>2</td>\n",
       "    </tr>\n",
       "    <tr>\n",
       "      <th>top</th>\n",
       "      <td>annonce-140014391-548829</td>\n",
       "      <td>Appartement</td>\n",
       "      <td>155 000 €</td>\n",
       "      <td>3 p 2 ch 65 m²</td>\n",
       "      <td>Livraison: Octobre 2020 - Rare, plein centre d...</td>\n",
       "      <td>https://www.seloger.com/annonces/investissemen...</td>\n",
       "      <td>True</td>\n",
       "      <td>False</td>\n",
       "      <td>False</td>\n",
       "    </tr>\n",
       "    <tr>\n",
       "      <th>freq</th>\n",
       "      <td>2</td>\n",
       "      <td>1041</td>\n",
       "      <td>11</td>\n",
       "      <td>30</td>\n",
       "      <td>19</td>\n",
       "      <td>2</td>\n",
       "      <td>1253</td>\n",
       "      <td>1406</td>\n",
       "      <td>1665</td>\n",
       "    </tr>\n",
       "  </tbody>\n",
       "</table>\n",
       "</div>"
      ],
      "text/plain": [
       "                              id        genre       prix             pcs  \\\n",
       "count                       1818         1818       1818            1818   \n",
       "unique                      1798           16       1152            1140   \n",
       "top     annonce-140014391-548829  Appartement  155 000 €  3 p 2 ch 65 m²   \n",
       "freq                           2         1041         11              30   \n",
       "\n",
       "                                                     desc  \\\n",
       "count                                                1818   \n",
       "unique                                               1591   \n",
       "top     Livraison: Octobre 2020 - Rare, plein centre d...   \n",
       "freq                                                   19   \n",
       "\n",
       "                                                     lien appartement maison  \\\n",
       "count                                                1818        1818   1818   \n",
       "unique                                               1798           2      2   \n",
       "top     https://www.seloger.com/annonces/investissemen...        True  False   \n",
       "freq                                                    2        1253   1406   \n",
       "\n",
       "       a_supprimer  \n",
       "count         1818  \n",
       "unique           2  \n",
       "top          False  \n",
       "freq          1665  "
      ]
     },
     "execution_count": 51,
     "metadata": {},
     "output_type": "execute_result"
    }
   ],
   "source": [
    "df.describe()"
   ]
  },
  {
   "cell_type": "markdown",
   "metadata": {},
   "source": [
    "## Neuf / Ancien"
   ]
  },
  {
   "cell_type": "code",
   "execution_count": 52,
   "metadata": {},
   "outputs": [],
   "source": [
    "equivalent_neufs = {'Appartement neuf', 'Maison / Villa neuve'}\n",
    "df[\"neuf\"] = df.eval(\"genre in @equivalent_neufs\")"
   ]
  },
  {
   "cell_type": "markdown",
   "metadata": {},
   "source": [
    "## Prix"
   ]
  },
  {
   "cell_type": "code",
   "execution_count": 53,
   "metadata": {},
   "outputs": [],
   "source": [
    "masque = df[\"prix\"].str.replace(\"€\", \"\").str.replace(\" \", \"\").str.replace(\"HT\", \"\").str.replace(\"HH\", \"\").str.isdecimal()"
   ]
  },
  {
   "cell_type": "code",
   "execution_count": 54,
   "metadata": {},
   "outputs": [
    {
     "data": {
      "text/plain": [
       "843    €\n",
       "Name: prix, dtype: object"
      ]
     },
     "execution_count": 54,
     "metadata": {},
     "output_type": "execute_result"
    }
   ],
   "source": [
    "df[\"prix\"].loc[masque == False]"
   ]
  },
  {
   "cell_type": "code",
   "execution_count": 55,
   "metadata": {},
   "outputs": [],
   "source": [
    "df.drop(843, inplace=True)"
   ]
  },
  {
   "cell_type": "code",
   "execution_count": 61,
   "metadata": {},
   "outputs": [],
   "source": [
    "df[\"prix_nettoye\"] = (\n",
    "    df[\"prix\"]\n",
    "    .str.replace(\"€\", \"\")\n",
    "    .str.replace(\" \", \"\")\n",
    "    .str.replace(\"HT\", \"\")\n",
    "    .str.replace(\"HH\", \"\")\n",
    "    .astype(int)\n",
    ")"
   ]
  },
  {
   "cell_type": "code",
   "execution_count": 57,
   "metadata": {},
   "outputs": [
    {
     "data": {
      "text/plain": [
       "Index(['id', 'genre', 'prix', 'pcs', 'desc', 'lien', 'appartement', 'maison',\n",
       "       'a_supprimer', 'neuf', 'prix_nettoye'],\n",
       "      dtype='object')"
      ]
     },
     "execution_count": 57,
     "metadata": {},
     "output_type": "execute_result"
    }
   ],
   "source": [
    "df.columns"
   ]
  },
  {
   "cell_type": "code",
   "execution_count": 58,
   "metadata": {},
   "outputs": [
    {
     "data": {
      "text/plain": [
       "id              object\n",
       "genre           object\n",
       "prix            object\n",
       "pcs             object\n",
       "desc            object\n",
       "lien            object\n",
       "appartement       bool\n",
       "maison            bool\n",
       "a_supprimer       bool\n",
       "neuf              bool\n",
       "prix_nettoye     int32\n",
       "dtype: object"
      ]
     },
     "execution_count": 58,
     "metadata": {},
     "output_type": "execute_result"
    }
   ],
   "source": [
    "df.dtypes"
   ]
  },
  {
   "cell_type": "markdown",
   "metadata": {},
   "source": [
    "## Nombre de pièces"
   ]
  },
  {
   "cell_type": "code",
   "execution_count": 60,
   "metadata": {},
   "outputs": [
    {
     "data": {
      "text/plain": [
       "1575    1 p 30,83 m² 1 tess\n",
       "1638         4 p 2 ch 83 m²\n",
       "85         5 p 3 ch 88,2 m²\n",
       "1579      3 p 2 ch 73,21 m²\n",
       "805          4 p 3 ch 82 m²\n",
       "681          4 p 3 ch 76 m²\n",
       "618        2 p 1 ch 43,1 m²\n",
       "236          3 p 2 ch 78 m²\n",
       "97          8 p 4 ch 310 m²\n",
       "1734       4 p 3 ch 74,2 m²\n",
       "44          5 p 3 ch 110 m²\n",
       "1386        7 p 6 ch 199 m²\n",
       "991          4 p 2 ch 73 m²\n",
       "1574        1 p 29 m² 5 etg\n",
       "257       2 p 1 ch 48,87 m²\n",
       "1008         3 p 2 ch 73 m²\n",
       "279       4 p 3 ch 77,92 m²\n",
       "1319        6 p 4 ch 170 m²\n",
       "388         7 p 6 ch 182 m²\n",
       "841        4 p 96 m² 1 park\n",
       "Name: pcs, dtype: object"
      ]
     },
     "execution_count": 60,
     "metadata": {},
     "output_type": "execute_result"
    }
   ],
   "source": [
    "df.pcs.sample(n=20)"
   ]
  },
  {
   "cell_type": "markdown",
   "metadata": {},
   "source": [
    "### Elaboration d'un motif"
   ]
  },
  {
   "cell_type": "code",
   "execution_count": 63,
   "metadata": {},
   "outputs": [],
   "source": [
    "import re"
   ]
  },
  {
   "cell_type": "code",
   "execution_count": 129,
   "metadata": {},
   "outputs": [],
   "source": [
    "motif1 = re.compile(\"([1-9][0-9]*)\\\\s*p\\\\s*([1-9][0-9]*)?\\\\s*c?h?\\\\s*([1-9][0-9]*),?([0-9]+)?\\\\s*m².*\")"
   ]
  },
  {
   "cell_type": "code",
   "execution_count": 130,
   "metadata": {},
   "outputs": [
    {
     "data": {
      "text/plain": [
       "<re.Match object; span=(0, 17), match='4 p 3 ch 77,92 m²'>"
      ]
     },
     "execution_count": 130,
     "metadata": {},
     "output_type": "execute_result"
    }
   ],
   "source": [
    "motif1.match(\"4 p 3 ch 77,92 m²\")"
   ]
  },
  {
   "cell_type": "code",
   "execution_count": 131,
   "metadata": {},
   "outputs": [
    {
     "data": {
      "text/plain": [
       "('4', '3', '77', '92')"
      ]
     },
     "execution_count": 131,
     "metadata": {},
     "output_type": "execute_result"
    }
   ],
   "source": [
    "motif1.match(\"4 p 3 ch 77,92 m²\").groups()"
   ]
  },
  {
   "cell_type": "code",
   "execution_count": 132,
   "metadata": {},
   "outputs": [
    {
     "data": {
      "text/plain": [
       "<re.Match object; span=(0, 15), match='7 p 6 ch 199 m²'>"
      ]
     },
     "execution_count": 132,
     "metadata": {},
     "output_type": "execute_result"
    }
   ],
   "source": [
    "motif1.match(\"7 p 6 ch 199 m²\")"
   ]
  },
  {
   "cell_type": "code",
   "execution_count": 133,
   "metadata": {},
   "outputs": [
    {
     "data": {
      "text/plain": [
       "('7', '6', '199', None)"
      ]
     },
     "execution_count": 133,
     "metadata": {},
     "output_type": "execute_result"
    }
   ],
   "source": [
    "motif1.match(\"7 p 6 ch 199 m²\").groups()"
   ]
  },
  {
   "cell_type": "code",
   "execution_count": 134,
   "metadata": {},
   "outputs": [
    {
     "data": {
      "text/plain": [
       "<re.Match object; span=(0, 18), match='2 p 39,89 m² 1 asc'>"
      ]
     },
     "execution_count": 134,
     "metadata": {},
     "output_type": "execute_result"
    }
   ],
   "source": [
    "motif1.match(\"2 p 39,89 m² 1 asc\")"
   ]
  },
  {
   "cell_type": "code",
   "execution_count": 135,
   "metadata": {},
   "outputs": [
    {
     "data": {
      "text/plain": [
       "True     1667\n",
       "False     150\n",
       "Name: pcs, dtype: int64"
      ]
     },
     "execution_count": 135,
     "metadata": {},
     "output_type": "execute_result"
    }
   ],
   "source": [
    "df.pcs.str.match(motif1).value_counts()"
   ]
  },
  {
   "cell_type": "code",
   "execution_count": 136,
   "metadata": {},
   "outputs": [
    {
     "data": {
      "text/plain": [
       "False    143\n",
       "True      10\n",
       "Name: pcs, dtype: int64"
      ]
     },
     "execution_count": 136,
     "metadata": {},
     "output_type": "execute_result"
    }
   ],
   "source": [
    "df.pcs.str.match(motif1)[df.a_supprimer].value_counts()"
   ]
  },
  {
   "cell_type": "code",
   "execution_count": 137,
   "metadata": {},
   "outputs": [],
   "source": [
    "masque = ~df.a_supprimer & ~df.pcs.str.match(motif1)"
   ]
  },
  {
   "cell_type": "code",
   "execution_count": 139,
   "metadata": {},
   "outputs": [
    {
     "data": {
      "text/plain": [
       "430    2 p 1 ch 1 etg\n",
       "434    4 p 3 ch 1 etg\n",
       "436          9 p 4 ch\n",
       "511               2 p\n",
       "616    3 p 1 ch 1 asc\n",
       "617    4 p 3 ch 3 etg\n",
       "619         1 p 3 etg\n",
       "Name: pcs, dtype: object"
      ]
     },
     "execution_count": 139,
     "metadata": {},
     "output_type": "execute_result"
    }
   ],
   "source": [
    "df.pcs[masque]"
   ]
  },
  {
   "cell_type": "code",
   "execution_count": 143,
   "metadata": {},
   "outputs": [],
   "source": [
    "df[\"a_supprimer\"] = df[\"a_supprimer\"] | masque"
   ]
  },
  {
   "cell_type": "markdown",
   "metadata": {},
   "source": [
    "### Extraction des données"
   ]
  },
  {
   "cell_type": "code",
   "execution_count": 146,
   "metadata": {},
   "outputs": [],
   "source": [
    "groupes = df.pcs.str.extract(motif1)"
   ]
  },
  {
   "cell_type": "code",
   "execution_count": 152,
   "metadata": {},
   "outputs": [
    {
     "data": {
      "text/html": [
       "<div>\n",
       "<style scoped>\n",
       "    .dataframe tbody tr th:only-of-type {\n",
       "        vertical-align: middle;\n",
       "    }\n",
       "\n",
       "    .dataframe tbody tr th {\n",
       "        vertical-align: top;\n",
       "    }\n",
       "\n",
       "    .dataframe thead th {\n",
       "        text-align: right;\n",
       "    }\n",
       "</style>\n",
       "<table border=\"1\" class=\"dataframe\">\n",
       "  <thead>\n",
       "    <tr style=\"text-align: right;\">\n",
       "      <th></th>\n",
       "      <th>0</th>\n",
       "      <th>1</th>\n",
       "      <th>2</th>\n",
       "      <th>3</th>\n",
       "    </tr>\n",
       "  </thead>\n",
       "  <tbody>\n",
       "    <tr>\n",
       "      <th>0</th>\n",
       "      <td>3</td>\n",
       "      <td>2</td>\n",
       "      <td>90</td>\n",
       "      <td>NaN</td>\n",
       "    </tr>\n",
       "    <tr>\n",
       "      <th>1</th>\n",
       "      <td>5</td>\n",
       "      <td>4</td>\n",
       "      <td>146</td>\n",
       "      <td>27</td>\n",
       "    </tr>\n",
       "    <tr>\n",
       "      <th>2</th>\n",
       "      <td>5</td>\n",
       "      <td>3</td>\n",
       "      <td>110</td>\n",
       "      <td>NaN</td>\n",
       "    </tr>\n",
       "    <tr>\n",
       "      <th>3</th>\n",
       "      <td>6</td>\n",
       "      <td>4</td>\n",
       "      <td>132</td>\n",
       "      <td>NaN</td>\n",
       "    </tr>\n",
       "    <tr>\n",
       "      <th>4</th>\n",
       "      <td>7</td>\n",
       "      <td>5</td>\n",
       "      <td>185</td>\n",
       "      <td>NaN</td>\n",
       "    </tr>\n",
       "  </tbody>\n",
       "</table>\n",
       "</div>"
      ],
      "text/plain": [
       "   0  1    2    3\n",
       "0  3  2   90  NaN\n",
       "1  5  4  146   27\n",
       "2  5  3  110  NaN\n",
       "3  6  4  132  NaN\n",
       "4  7  5  185  NaN"
      ]
     },
     "execution_count": 152,
     "metadata": {},
     "output_type": "execute_result"
    }
   ],
   "source": [
    "groupes.head()"
   ]
  },
  {
   "cell_type": "code",
   "execution_count": 149,
   "metadata": {},
   "outputs": [],
   "source": [
    "df[\"nombre_pieces\"] = groupes[0].astype(float)"
   ]
  },
  {
   "cell_type": "code",
   "execution_count": 153,
   "metadata": {},
   "outputs": [],
   "source": [
    "df[\"surface\"] = groupes[2].astype(float)"
   ]
  },
  {
   "cell_type": "markdown",
   "metadata": {},
   "source": [
    "## Elimination des entrée inutiles"
   ]
  },
  {
   "cell_type": "code",
   "execution_count": 162,
   "metadata": {},
   "outputs": [
    {
     "data": {
      "text/plain": [
       "Index(['id', 'genre', 'prix', 'pcs', 'desc', 'lien', 'appartement', 'maison',\n",
       "       'a_supprimer', 'neuf', 'prix_nettoye', 'nombre_pieces', 'surface'],\n",
       "      dtype='object')"
      ]
     },
     "execution_count": 162,
     "metadata": {},
     "output_type": "execute_result"
    }
   ],
   "source": [
    "df.columns"
   ]
  },
  {
   "cell_type": "code",
   "execution_count": 211,
   "metadata": {},
   "outputs": [],
   "source": [
    "filtre = (\n",
    "    df\n",
    "    .query(\"not a_supprimer\")\n",
    "    .drop(columns=[\"genre\", \"prix\", \"pcs\", \"a_supprimer\"])\n",
    "    .drop_duplicates()\n",
    "    .drop(columns=\"id\")\n",
    ")"
   ]
  },
  {
   "cell_type": "markdown",
   "metadata": {},
   "source": [
    "# Exploitation de la colonne lien"
   ]
  },
  {
   "cell_type": "code",
   "execution_count": 212,
   "metadata": {},
   "outputs": [
    {
     "data": {
      "text/plain": [
       "Index(['desc', 'lien', 'appartement', 'maison', 'neuf', 'prix_nettoye',\n",
       "       'nombre_pieces', 'surface'],\n",
       "      dtype='object')"
      ]
     },
     "execution_count": 212,
     "metadata": {},
     "output_type": "execute_result"
    }
   ],
   "source": [
    "filtre.columns"
   ]
  },
  {
   "cell_type": "code",
   "execution_count": 213,
   "metadata": {},
   "outputs": [],
   "source": [
    "filtre[\"lien\"] = (\n",
    "    filtre.lien\n",
    "    .str.replace(\"https://www.seloger.com/annonces/\", \"\")\n",
    "    .str.replace(\"https://www.selogerneuf.com/annonces/\", \"\")\n",
    ")"
   ]
  },
  {
   "cell_type": "code",
   "execution_count": 214,
   "metadata": {},
   "outputs": [
    {
     "data": {
      "text/plain": [
       "0       [achat, appartement, tours-37, cathedrale, 138...\n",
       "1       [achat, appartement, tours-37, centre, 1406201...\n",
       "2       [achat, appartement, tours-37, centre, 1406201...\n",
       "3        [achat, maison, tours-37, centre, 133494153.htm]\n",
       "4       [achat-de-prestige, maison, tours-37, centre, ...\n",
       "                              ...                        \n",
       "1807    [achat, appartement, tours-37, 134769693, #?cm...\n",
       "1812        [achat, appartement, tours-37, 123293873.htm]\n",
       "1813        [achat, appartement, tours-37, 141342739.htm]\n",
       "1814    [achat, maison, tours-37, 137994967, #?cmp=INT...\n",
       "1815    [achat, maison, tours-37, 138636083, #?cmp=INT...\n",
       "Name: lien, Length: 1643, dtype: object"
      ]
     },
     "execution_count": 214,
     "metadata": {},
     "output_type": "execute_result"
    }
   ],
   "source": [
    "filtre.lien.str.split(\"/\")"
   ]
  },
  {
   "cell_type": "code",
   "execution_count": 215,
   "metadata": {},
   "outputs": [
    {
     "data": {
      "text/plain": [
       "0       5\n",
       "1       5\n",
       "2       5\n",
       "3       5\n",
       "4       5\n",
       "       ..\n",
       "1807    5\n",
       "1812    4\n",
       "1813    4\n",
       "1814    5\n",
       "1815    5\n",
       "Name: lien, Length: 1643, dtype: int64"
      ]
     },
     "execution_count": 215,
     "metadata": {},
     "output_type": "execute_result"
    }
   ],
   "source": [
    "filtre.lien.str.split(\"/\").apply(len)"
   ]
  },
  {
   "cell_type": "code",
   "execution_count": 216,
   "metadata": {},
   "outputs": [
    {
     "data": {
      "text/plain": [
       "achat                1242\n",
       "investissement        231\n",
       "achat-de-prestige     115\n",
       "https:                 55\n",
       "Name: lien, dtype: int64"
      ]
     },
     "execution_count": 216,
     "metadata": {},
     "output_type": "execute_result"
    }
   ],
   "source": [
    "filtre.lien.str.split(\"/\").apply(lambda ls: ls[0]).value_counts()"
   ]
  },
  {
   "cell_type": "code",
   "execution_count": 217,
   "metadata": {},
   "outputs": [
    {
     "data": {
      "text/plain": [
       "tours-37            866\n",
       "saint-symphorien     73\n",
       "centre               70\n",
       "grammont             59\n",
       "europe               36\n",
       "                   ... \n",
       "129996783             1\n",
       "131904129             1\n",
       "141452757             1\n",
       "129123079             1\n",
       "136292397             1\n",
       "Name: lien, Length: 241, dtype: int64"
      ]
     },
     "execution_count": 217,
     "metadata": {},
     "output_type": "execute_result"
    }
   ],
   "source": [
    "compte = filtre.lien.str.split(\"/\").apply(lambda ls: ls[-2]).value_counts()\n",
    "compte"
   ]
  },
  {
   "cell_type": "code",
   "execution_count": 218,
   "metadata": {},
   "outputs": [
    {
     "data": {
      "text/plain": [
       "tours-37            False\n",
       "saint-symphorien     True\n",
       "centre               True\n",
       "grammont             True\n",
       "europe               True\n",
       "                    ...  \n",
       "129996783           False\n",
       "131904129           False\n",
       "141452757           False\n",
       "129123079           False\n",
       "136292397           False\n",
       "Name: lien, Length: 241, dtype: bool"
      ]
     },
     "execution_count": 218,
     "metadata": {},
     "output_type": "execute_result"
    }
   ],
   "source": [
    "masque = (compte < 866) & (compte > 1)\n",
    "masque"
   ]
  },
  {
   "cell_type": "code",
   "execution_count": 219,
   "metadata": {},
   "outputs": [
    {
     "data": {
      "text/plain": [
       "Index(['saint-symphorien', 'centre', 'grammont', 'europe', 'la-fuye-velpeau',\n",
       "       'sainte-radegonde', 'les-fontaines', 'montjoyeux', 'rives-du-cher',\n",
       "       'beaujardin', 'sanitas-rotonde', 'febvotte-marat', 'paul-bert',\n",
       "       'cathedrale', 'lakanal-strasbourg', 'rabelais-tonnelle',\n",
       "       'deux-lions-gloriette', 'lamartine', 'rochepinard', 'giraudeau',\n",
       "       'la-bergeonnerie', 'douets-milletiere'],\n",
       "      dtype='object')"
      ]
     },
     "execution_count": 219,
     "metadata": {},
     "output_type": "execute_result"
    }
   ],
   "source": [
    "masque[masque].index"
   ]
  },
  {
   "cell_type": "code",
   "execution_count": 220,
   "metadata": {},
   "outputs": [],
   "source": [
    "quartiers = list(masque[masque].index)"
   ]
  },
  {
   "cell_type": "code",
   "execution_count": 221,
   "metadata": {},
   "outputs": [
    {
     "data": {
      "text/plain": [
       "['saint-symphorien',\n",
       " 'centre',\n",
       " 'grammont',\n",
       " 'europe',\n",
       " 'la-fuye-velpeau',\n",
       " 'sainte-radegonde',\n",
       " 'les-fontaines',\n",
       " 'montjoyeux',\n",
       " 'rives-du-cher',\n",
       " 'beaujardin',\n",
       " 'sanitas-rotonde',\n",
       " 'febvotte-marat',\n",
       " 'paul-bert',\n",
       " 'cathedrale',\n",
       " 'lakanal-strasbourg',\n",
       " 'rabelais-tonnelle',\n",
       " 'deux-lions-gloriette',\n",
       " 'lamartine',\n",
       " 'rochepinard',\n",
       " 'giraudeau',\n",
       " 'la-bergeonnerie',\n",
       " 'douets-milletiere']"
      ]
     },
     "execution_count": 221,
     "metadata": {},
     "output_type": "execute_result"
    }
   ],
   "source": [
    "quartiers"
   ]
  },
  {
   "cell_type": "code",
   "execution_count": 223,
   "metadata": {},
   "outputs": [],
   "source": [
    "def choisit_quartier(lien):\n",
    "    for quartier in quartiers:\n",
    "        if quartier in lien:\n",
    "            return quartier\n",
    "    return \"absence_de_renseignement\""
   ]
  },
  {
   "cell_type": "code",
   "execution_count": 224,
   "metadata": {},
   "outputs": [],
   "source": [
    "filtre[\"quartier\"] = filtre.lien.apply(choisit_quartier)"
   ]
  },
  {
   "cell_type": "code",
   "execution_count": 226,
   "metadata": {},
   "outputs": [
    {
     "data": {
      "text/plain": [
       "absence_de_renseignement    1084\n",
       "saint-symphorien              73\n",
       "centre                        70\n",
       "grammont                      59\n",
       "europe                        36\n",
       "la-fuye-velpeau               33\n",
       "sainte-radegonde              32\n",
       "les-fontaines                 28\n",
       "montjoyeux                    27\n",
       "rives-du-cher                 23\n",
       "beaujardin                    21\n",
       "sanitas-rotonde               20\n",
       "paul-bert                     20\n",
       "febvotte-marat                20\n",
       "cathedrale                    18\n",
       "lakanal-strasbourg            14\n",
       "rabelais-tonnelle             14\n",
       "deux-lions-gloriette          13\n",
       "lamartine                     11\n",
       "rochepinard                   10\n",
       "giraudeau                      9\n",
       "douets-milletiere              4\n",
       "la-bergeonnerie                4\n",
       "Name: quartier, dtype: int64"
      ]
     },
     "execution_count": 226,
     "metadata": {},
     "output_type": "execute_result"
    }
   ],
   "source": [
    "filtre.quartier.value_counts()"
   ]
  },
  {
   "cell_type": "markdown",
   "metadata": {},
   "source": [
    "# Exploitation de la colonne desc"
   ]
  },
  {
   "cell_type": "code",
   "execution_count": 227,
   "metadata": {},
   "outputs": [
    {
     "data": {
      "text/plain": [
       "1676    UN NOUVEAU QUARTIER, UNE NOUVELLE VIE - Idéale...\n",
       "254     IAD France - Aurélien LE DEAUT vous propose: Q...\n",
       "1691    Appartement situé au deuxième étage d'une peti...\n",
       "34      Située à proximité du CHUR et de la faculté de...\n",
       "413     Un produit remarquable, une adresse idéale, vo...\n",
       "983     Résidence Bellevue, Avenue de la République à ...\n",
       "285     IAD France - Alban BRIE vous propose: Dans une...\n",
       "1721    Tours Nord - Dans résidence de standing, appar...\n",
       "1256    IAD France - Nicolas BOURIN vous propose: * * ...\n",
       "341     IAD France - Cecile BUSSONNAIS vous propose: \"...\n",
       "8       TOURS PRÉBENDES NORD - EXCLUSIVITÉ TOURS PRÉBE...\n",
       "1551    Réf. 1695 Maison de maître 20 kms Tours Belle ...\n",
       "1504    A vendre Maison / villa TOURS (37000) TOURS, M...\n",
       "637     Face à la Loire, Panoramic est une résidence é...\n",
       "1500    Maison/appartement 3 chambres. Superbe restaur...\n",
       "135     Idéalement situé au coeur de Tours, appartemen...\n",
       "1777    TOURS HALLES, Au 4e étage avec ascenseur, appa...\n",
       "809     A deux pas des halles, appartement en duplex s...\n",
       "724     Au coeur d'un environnement calme, à 8 minutes...\n",
       "399     TOURS HYPER CENTRE AU PIED DE LA GARE TGV\\nAgr...\n",
       "Name: desc, dtype: object"
      ]
     },
     "execution_count": 227,
     "metadata": {},
     "output_type": "execute_result"
    }
   ],
   "source": [
    "filtre.sample(20).desc"
   ]
  },
  {
   "cell_type": "code",
   "execution_count": 229,
   "metadata": {},
   "outputs": [],
   "source": [
    "table = dict()"
   ]
  },
  {
   "cell_type": "code",
   "execution_count": 230,
   "metadata": {},
   "outputs": [],
   "source": [
    "for c in \"éèëêE\":\n",
    "    table[ord(c)] = ord(\"e\")"
   ]
  },
  {
   "cell_type": "code",
   "execution_count": 231,
   "metadata": {},
   "outputs": [
    {
     "data": {
      "text/plain": [
       "{233: 101, 232: 101, 235: 101, 234: 101, 69: 101}"
      ]
     },
     "execution_count": 231,
     "metadata": {},
     "output_type": "execute_result"
    }
   ],
   "source": [
    "table"
   ]
  },
  {
   "cell_type": "code",
   "execution_count": 232,
   "metadata": {},
   "outputs": [
    {
     "data": {
      "text/plain": [
       "'eeeee'"
      ]
     },
     "execution_count": 232,
     "metadata": {},
     "output_type": "execute_result"
    }
   ],
   "source": [
    "\"éEeëê\".translate(table)"
   ]
  },
  {
   "cell_type": "code",
   "execution_count": 234,
   "metadata": {},
   "outputs": [
    {
     "data": {
      "text/plain": [
       "0       appartement type 3 - tours cathedrale tours ca...\n",
       "1       tours hypercentre - appartement tours hypercen...\n",
       "2       tours prebendes nord - appartement tours prebe...\n",
       "3       tours prebendes - particulier tourangeaux tour...\n",
       "4       tours strasbourg / rabelais - maison tours str...\n",
       "                              ...                        \n",
       "1807    maisons de ville 3 chambres avec jardin ou app...\n",
       "1812    tours - fontaines, appartement de type 2 compr...\n",
       "1813    tours - appartement de type 3 comprenant sejou...\n",
       "1814    maisons de ville 3 chambres avec jardin ou app...\n",
       "1815    maisons de ville 3 chambres avec jardin ou app...\n",
       "Name: desc, Length: 1643, dtype: object"
      ]
     },
     "execution_count": 234,
     "metadata": {},
     "output_type": "execute_result"
    }
   ],
   "source": [
    "filtre.desc.str.lower().str.translate(table)"
   ]
  },
  {
   "cell_type": "code",
   "execution_count": 236,
   "metadata": {},
   "outputs": [
    {
     "data": {
      "text/plain": [
       "'le blabla 123 '"
      ]
     },
     "execution_count": 236,
     "metadata": {},
     "output_type": "execute_result"
    }
   ],
   "source": [
    "re.sub(\"\\\\W+\", \" \", \"le, - blabla.: ! 123 ()\")"
   ]
  },
  {
   "cell_type": "code",
   "execution_count": 239,
   "metadata": {},
   "outputs": [],
   "source": [
    "integrale = filtre.desc.str.lower().str.translate(table).str.replace(\"\\\\W+\", \" \").str.cat()"
   ]
  },
  {
   "cell_type": "code",
   "execution_count": 240,
   "metadata": {},
   "outputs": [
    {
     "data": {
      "text/plain": [
       "'appartement type 3 tours cathedrale tours cathedrale ravissant appartement type 3 d environ 90 m² da'"
      ]
     },
     "execution_count": 240,
     "metadata": {},
     "output_type": "execute_result"
    }
   ],
   "source": [
    "integrale[:100]"
   ]
  },
  {
   "cell_type": "code",
   "execution_count": 241,
   "metadata": {},
   "outputs": [],
   "source": [
    "token = integrale.split(\" \")"
   ]
  },
  {
   "cell_type": "code",
   "execution_count": 242,
   "metadata": {},
   "outputs": [
    {
     "data": {
      "text/plain": [
       "48319"
      ]
     },
     "execution_count": 242,
     "metadata": {},
     "output_type": "execute_result"
    }
   ],
   "source": [
    "len(token)"
   ]
  },
  {
   "cell_type": "code",
   "execution_count": 243,
   "metadata": {},
   "outputs": [],
   "source": [
    "compteur = dict()\n",
    "for mot in token:\n",
    "    compteur[mot] = compteur.get(mot, 0) + 1"
   ]
  },
  {
   "cell_type": "code",
   "execution_count": 245,
   "metadata": {},
   "outputs": [
    {
     "data": {
      "text/plain": [
       "2610"
      ]
     },
     "execution_count": 245,
     "metadata": {},
     "output_type": "execute_result"
    }
   ],
   "source": [
    "len(compteur)"
   ]
  },
  {
   "cell_type": "code",
   "execution_count": 244,
   "metadata": {},
   "outputs": [
    {
     "data": {
      "text/plain": [
       "{'appartement': 852,\n",
       " 'type': 255,\n",
       " '3': 265,\n",
       " 'tours': 832,\n",
       " 'cathedrale': 39,\n",
       " 'ravissant': 7,\n",
       " 'd': 753,\n",
       " 'environ': 197,\n",
       " '90': 11,\n",
       " 'm²': 616,\n",
       " 'dans': 532,\n",
       " 'residence': 449,\n",
       " 'de': 2651,\n",
       " 'standing': 86,\n",
       " '50': 23,\n",
       " 'lots': 24,\n",
       " 'avec': 1024,\n",
       " 'cave': 75,\n",
       " 'et': 1128,\n",
       " 'parking': 64,\n",
       " 'entree': 392,\n",
       " 'ça': 1643,\n",
       " 'm': 1674,\n",
       " 'interessetours': 331,\n",
       " 'hypercentre': 4,\n",
       " 'superbe': 36,\n",
       " '146': 1,\n",
       " '37': 7,\n",
       " 'loi': 20,\n",
       " 'carrez': 30,\n",
       " 'un': 727,\n",
       " 'immeuble': 60,\n",
       " 'caractere': 29,\n",
       " 'ascenseur': 169,\n",
       " 'sejour': 344,\n",
       " 'sud': 136,\n",
       " 'vaste': 46,\n",
       " 'prebendes': 81,\n",
       " 'nord': 229,\n",
       " 'bel': 149,\n",
       " '110': 9,\n",
       " 'petit': 29,\n",
       " '5': 94,\n",
       " 'terrasse': 100,\n",
       " '56': 6,\n",
       " '36': 5,\n",
       " 'particulier': 49,\n",
       " 'tourangeaux': 4,\n",
       " 'agreable': 80,\n",
       " 'maison': 313,\n",
       " 'particuliere': 9,\n",
       " '132': 1,\n",
       " 'jardin': 121,\n",
       " 'expose': 67,\n",
       " '130': 6,\n",
       " 'salon': 239,\n",
       " 'salle': 242,\n",
       " 'à': 839,\n",
       " 'manger': 39,\n",
       " 'strasbourg': 15,\n",
       " 'rabelais': 24,\n",
       " 'confortable': 9,\n",
       " 'recente': 64,\n",
       " '185': 1,\n",
       " 'edifiee': 10,\n",
       " 'sur': 321,\n",
       " 'terrain': 30,\n",
       " '500': 2,\n",
       " 'interesseaux': 11,\n",
       " 'portes': 23,\n",
       " 'propriete': 38,\n",
       " 'charme': 35,\n",
       " 'du': 531,\n",
       " 'xvii': 4,\n",
       " '18eme': 13,\n",
       " 'siecle': 19,\n",
       " '273': 1,\n",
       " 'parc': 69,\n",
       " 'aux': 55,\n",
       " 'belles': 45,\n",
       " 'essences': 1,\n",
       " '1ha25': 1,\n",
       " 'ce': 139,\n",
       " 'domaine': 5,\n",
       " 'est': 147,\n",
       " 'compose': 127,\n",
       " 'mairie': 5,\n",
       " 'hôtel': 19,\n",
       " '275': 2,\n",
       " '65': 12,\n",
       " '120': 9,\n",
       " 'garage': 58,\n",
       " 'double': 39,\n",
       " 'espace': 46,\n",
       " 'reception': 26,\n",
       " 'comprenant': 218,\n",
       " 'interesseexceptionnelle': 1,\n",
       " 'demeure': 29,\n",
       " 'bourgeoise': 7,\n",
       " '257': 1,\n",
       " '1': 81,\n",
       " '450': 4,\n",
       " 'clos': 32,\n",
       " 'independante': 31,\n",
       " 'la': 433,\n",
       " 'principale': 30,\n",
       " 'composee': 26,\n",
       " 'une': 1113,\n",
       " 'belle': 141,\n",
       " 'exclusivite': 51,\n",
       " '330': 5,\n",
       " 'edifie': 1,\n",
       " 'parcelle': 5,\n",
       " '521': 1,\n",
       " '4': 158,\n",
       " 'garages': 4,\n",
       " 'interessevente': 5,\n",
       " 'magnifique': 51,\n",
       " '270': 10,\n",
       " '2': 328,\n",
       " 'centrale': 1,\n",
       " 'enfilade': 7,\n",
       " 'exceptionnelle': 20,\n",
       " '400': 7,\n",
       " '19eme': 20,\n",
       " 'arbore': 27,\n",
       " 'ha': 7,\n",
       " 'bois': 5,\n",
       " 'paysage': 12,\n",
       " 'spacieuse': 12,\n",
       " 'centre': 322,\n",
       " '125': 4,\n",
       " 'cuisine': 457,\n",
       " 'etages': 12,\n",
       " 'chambres': 203,\n",
       " 'bureau': 21,\n",
       " 'velpeau': 48,\n",
       " '150': 8,\n",
       " 'cheminee': 42,\n",
       " 'amenagee': 151,\n",
       " 'donnant': 78,\n",
       " 'jolie': 35,\n",
       " '200': 15,\n",
       " 'piece': 162,\n",
       " 'vie': 119,\n",
       " 'traversante': 1,\n",
       " 'architecte': 15,\n",
       " '170': 8,\n",
       " 'cour': 13,\n",
       " 'voitures': 3,\n",
       " 'en': 470,\n",
       " 'rez': 106,\n",
       " 'chaussee': 88,\n",
       " 'studio': 85,\n",
       " 'conservatoire': 5,\n",
       " 'directoire': 3,\n",
       " 'jardinet': 7,\n",
       " 'vestiaire': 3,\n",
       " 'ravissante': 9,\n",
       " 'porche': 3,\n",
       " 'interessechoisissez': 5,\n",
       " 'haut': 31,\n",
       " 'gamme': 28,\n",
       " 'securisee': 108,\n",
       " 'beneficiant': 12,\n",
       " 'architecture': 20,\n",
       " 'contemporaine': 28,\n",
       " 'vous': 377,\n",
       " 'profiterez': 6,\n",
       " 'grand': 126,\n",
       " 'confort': 7,\n",
       " 'ses': 33,\n",
       " 'chapes': 5,\n",
       " 'thermo': 5,\n",
       " 'cluzel': 6,\n",
       " 't2': 82,\n",
       " 't3': 98,\n",
       " '61': 3,\n",
       " '53': 3,\n",
       " '62': 10,\n",
       " '31': 7,\n",
       " 't4': 77,\n",
       " '75': 9,\n",
       " 'halles': 73,\n",
       " '72': 6,\n",
       " '52': 5,\n",
       " 'ancien': 21,\n",
       " '114': 2,\n",
       " 'veranda': 10,\n",
       " '15': 22,\n",
       " 'interesseprofitez': 10,\n",
       " 'des': 532,\n",
       " 'dernieres': 10,\n",
       " 'opportunites': 10,\n",
       " 'situation': 19,\n",
       " 'ville': 178,\n",
       " 'pour': 201,\n",
       " 'cet': 225,\n",
       " 'ensemble': 29,\n",
       " 'immobilier': 20,\n",
       " 'coproprietes': 11,\n",
       " 'onyx': 10,\n",
       " '34': 14,\n",
       " 'beranger': 8,\n",
       " '140': 2,\n",
       " 'petite': 70,\n",
       " 'copropriete': 90,\n",
       " '8': 19,\n",
       " 'beau': 49,\n",
       " '67': 5,\n",
       " 'equipee': 100,\n",
       " 'arriere': 14,\n",
       " 'interesselivraison': 70,\n",
       " 'decembre': 13,\n",
       " '2020': 51,\n",
       " 'profitez': 30,\n",
       " 'frais': 9,\n",
       " 'notaire': 8,\n",
       " 'offerts': 9,\n",
       " 'dynamique': 13,\n",
       " 'innovante': 8,\n",
       " 'a': 208,\n",
       " 'heure': 16,\n",
       " 'paris': 13,\n",
       " 'tgv': 23,\n",
       " 'au': 679,\n",
       " 'coeur': 74,\n",
       " 'principaux': 12,\n",
       " 'lingerie': 4,\n",
       " 'interessesituee': 17,\n",
       " 'proximite': 153,\n",
       " 'chur': 11,\n",
       " 'faculte': 15,\n",
       " 'medecine': 20,\n",
       " 'le': 190,\n",
       " 'saint': 63,\n",
       " 'vincent': 11,\n",
       " 'propose': 210,\n",
       " '26': 17,\n",
       " 'appartements': 101,\n",
       " 'repartis': 11,\n",
       " 'bâtiments': 12,\n",
       " 'interessevotre': 13,\n",
       " 'pieces': 202,\n",
       " 'partir': 3,\n",
       " '112': 3,\n",
       " '000': 5,\n",
       " 'location': 6,\n",
       " 'accession': 4,\n",
       " 'livraison': 3,\n",
       " 's': 13,\n",
       " 'fevrier': 3,\n",
       " '2019': 23,\n",
       " '2eme': 48,\n",
       " 'semestre': 3,\n",
       " 'decouvrez': 10,\n",
       " 'les': 119,\n",
       " 'avantages': 5,\n",
       " 'disponibilite': 3,\n",
       " 'immediate': 27,\n",
       " 'habiter': 8,\n",
       " 'tva': 3,\n",
       " 'prix': 11,\n",
       " 'vente': 24,\n",
       " 'lieu': 6,\n",
       " '20': 33,\n",
       " 'possibilite': 18,\n",
       " 'pret': 3,\n",
       " 'taux': 3,\n",
       " 'zero': 3,\n",
       " 'investir': 19,\n",
       " 'interesseles': 10,\n",
       " 'neufs': 7,\n",
       " 'proposent': 9,\n",
       " 'surfaces': 7,\n",
       " 'vivre': 82,\n",
       " 'larges': 7,\n",
       " 'ouvertures': 8,\n",
       " 'l': 170,\n",
       " 'exterieur': 11,\n",
       " 'prestations': 38,\n",
       " 'modernes': 7,\n",
       " 'volets': 10,\n",
       " 'roulants': 10,\n",
       " 'electriques': 11,\n",
       " 'bain': 26,\n",
       " 'interessevous': 5,\n",
       " 'souhaitez': 4,\n",
       " 'installer': 1,\n",
       " 'ayant': 9,\n",
       " 'mais': 2,\n",
       " 'sans': 55,\n",
       " 'avoir': 2,\n",
       " 'inconvenients': 2,\n",
       " 'commerces': 194,\n",
       " 'ecoles': 83,\n",
       " 'portee': 1,\n",
       " 'interesseau': 44,\n",
       " 'choix': 12,\n",
       " 'achat': 22,\n",
       " 'comme': 2,\n",
       " 'logement': 5,\n",
       " 'principal': 4,\n",
       " 'ou': 73,\n",
       " 'investissement': 25,\n",
       " 'permettant': 3,\n",
       " 'beneficier': 2,\n",
       " 'defiscalisation': 3,\n",
       " 'seule': 2,\n",
       " 'collocation': 2,\n",
       " 'interesseexclusivite': 34,\n",
       " 'amepi': 2,\n",
       " 'chez': 16,\n",
       " 'c2si': 3,\n",
       " 'quartier': 241,\n",
       " 'calme': 176,\n",
       " 'plain': 12,\n",
       " 'pied': 113,\n",
       " '25': 19,\n",
       " 'accompagnee': 1,\n",
       " 'revez': 2,\n",
       " 'etre': 13,\n",
       " 'coince': 1,\n",
       " 'mi': 2,\n",
       " 'chemin': 1,\n",
       " 'christ': 23,\n",
       " 'roi': 23,\n",
       " 'beffroi': 2,\n",
       " 'pas': 99,\n",
       " 'demi': 1,\n",
       " 'tram': 78,\n",
       " 'qui': 47,\n",
       " 'conduit': 1,\n",
       " 'place': 139,\n",
       " 'jean': 28,\n",
       " 'interesseravissante': 2,\n",
       " 'dependance': 2,\n",
       " 'secteur': 74,\n",
       " 'peripherie': 3,\n",
       " 'cette': 103,\n",
       " 'famille': 13,\n",
       " 'offre': 89,\n",
       " 'surface': 29,\n",
       " '210': 4,\n",
       " 'tous': 43,\n",
       " 'beaux': 30,\n",
       " 'interessesecteur': 14,\n",
       " 'ouest': 47,\n",
       " 'minutes': 78,\n",
       " 'traversantes': 1,\n",
       " 'elements': 7,\n",
       " 'hyper': 48,\n",
       " 'sous': 41,\n",
       " 'sol': 45,\n",
       " 'charmante': 8,\n",
       " 'ete': 13,\n",
       " 'elegante': 22,\n",
       " 'boiseries': 2,\n",
       " 'symphorien': 21,\n",
       " 'proche': 243,\n",
       " 'toutes': 77,\n",
       " 'commodites': 115,\n",
       " 'iut': 9,\n",
       " 'tranport': 1,\n",
       " 'commun': 18,\n",
       " '51': 6,\n",
       " '70': 15,\n",
       " 'interesseen': 14,\n",
       " 'visiter': 22,\n",
       " 'absolument': 3,\n",
       " 'tres': 226,\n",
       " 'commoditees': 2,\n",
       " '24': 3,\n",
       " 'grande': 80,\n",
       " 'interessevaste': 1,\n",
       " 'art': 17,\n",
       " 'deco': 15,\n",
       " 'plus': 61,\n",
       " '145': 1,\n",
       " '79': 5,\n",
       " '1er': 56,\n",
       " 'etage': 290,\n",
       " 'accueille': 25,\n",
       " 'm2orientation': 1,\n",
       " 'deux': 193,\n",
       " '3eme': 38,\n",
       " 'chambre': 89,\n",
       " 'eau': 75,\n",
       " 'placard': 53,\n",
       " 'interessecommercialisation': 9,\n",
       " 'cours': 26,\n",
       " 'pavillonnaire': 10,\n",
       " 'serenite': 10,\n",
       " 'rares': 9,\n",
       " 'environnement': 49,\n",
       " 'villageois': 9,\n",
       " 'marche': 23,\n",
       " 'coty': 41,\n",
       " 'interesserue': 3,\n",
       " 'edouard': 7,\n",
       " 'vaillant': 7,\n",
       " 'beaujardin': 31,\n",
       " 'bon': 60,\n",
       " 'etat': 82,\n",
       " 'placards': 30,\n",
       " 'separee': 27,\n",
       " 'bains': 65,\n",
       " 'interessemaisons': 5,\n",
       " 'faites': 6,\n",
       " 'votre': 60,\n",
       " 'exceptionnel': 19,\n",
       " 'blanchet': 5,\n",
       " 'huismes': 5,\n",
       " 'installee': 5,\n",
       " 'interesse10': 5,\n",
       " 'mn': 51,\n",
       " 'idealement': 70,\n",
       " 'situee': 78,\n",
       " 'bourg': 5,\n",
       " 'ancienne': 17,\n",
       " 'restauree': 10,\n",
       " '198': 1,\n",
       " 'interesseiad': 115,\n",
       " 'france': 119,\n",
       " 'catherine': 3,\n",
       " 'roger': 5,\n",
       " 'balades': 2,\n",
       " 'bus': 59,\n",
       " 'services': 14,\n",
       " '85m²': 4,\n",
       " 'son': 42,\n",
       " '25m²': 2,\n",
       " 'interessevenez': 16,\n",
       " 'renovation': 5,\n",
       " 'elle': 38,\n",
       " 'ouverte': 89,\n",
       " 'sainte': 12,\n",
       " 'radegonde': 21,\n",
       " 'bords': 3,\n",
       " 'loire': 34,\n",
       " '2005': 3,\n",
       " 'niveaux': 12,\n",
       " 'se': 65,\n",
       " 'interesseideal': 9,\n",
       " 'investisseur': 31,\n",
       " 'recent': 13,\n",
       " 'principales': 12,\n",
       " '55': 8,\n",
       " 'situe': 231,\n",
       " '2013': 3,\n",
       " 'dernier': 87,\n",
       " 'penthouse': 1,\n",
       " '100': 11,\n",
       " 'exposee': 15,\n",
       " 'paul': 13,\n",
       " 'bert': 15,\n",
       " '82': 15,\n",
       " 'atypique': 16,\n",
       " 'disposant': 4,\n",
       " 'interesse5': 3,\n",
       " 'annees': 16,\n",
       " '1950': 1,\n",
       " '207': 1,\n",
       " '43': 4,\n",
       " 'interesseblanqui': 3,\n",
       " 'blanqui': 18,\n",
       " 'mirabeau': 8,\n",
       " 'local': 6,\n",
       " 'transformer': 3,\n",
       " '74': 2,\n",
       " 'interessedans': 38,\n",
       " 'recherche': 41,\n",
       " 'façade': 3,\n",
       " '30': 21,\n",
       " 'lumineux': 153,\n",
       " 'heurteloup': 9,\n",
       " 'ideal': 58,\n",
       " 'f1': 12,\n",
       " 'proposant': 7,\n",
       " 'coin': 16,\n",
       " 'nuit': 3,\n",
       " 'kitchenette': 12,\n",
       " 'interessenos': 10,\n",
       " 'honoraires': 16,\n",
       " 'opportunite': 8,\n",
       " 'saisir': 8,\n",
       " 'venez': 80,\n",
       " 'decouvrir': 77,\n",
       " '60': 6,\n",
       " 'parfait': 22,\n",
       " 'premier': 46,\n",
       " '45': 6,\n",
       " 'vue': 86,\n",
       " 'degagee': 26,\n",
       " 'interessedecouvrez': 2,\n",
       " 'triplex': 6,\n",
       " 'bien': 102,\n",
       " '1994': 1,\n",
       " 'entretenue': 32,\n",
       " 'ecole': 13,\n",
       " 'interessesur': 3,\n",
       " 'cher': 67,\n",
       " 'oriente': 12,\n",
       " 'niveau': 5,\n",
       " 'privilegie': 23,\n",
       " 'square': 6,\n",
       " 'montsoudun': 1,\n",
       " 'autoroute': 2,\n",
       " 'a10': 5,\n",
       " 'courrez': 1,\n",
       " 'vite': 7,\n",
       " 'sein': 22,\n",
       " 'mantegna': 2,\n",
       " 'tramway': 130,\n",
       " 'interessea': 175,\n",
       " '10': 49,\n",
       " 'balcon': 146,\n",
       " 'exposition': 13,\n",
       " 'nombreux': 16,\n",
       " 'interessesitue': 14,\n",
       " 'gardien': 23,\n",
       " 'poser': 6,\n",
       " 'vos': 38,\n",
       " 'valises': 12,\n",
       " '88m²': 1,\n",
       " 'entierement': 65,\n",
       " 'renove': 51,\n",
       " 'vis': 47,\n",
       " 'beneficient': 1,\n",
       " 'balcons': 7,\n",
       " 'offrant': 122,\n",
       " '64m²': 2,\n",
       " 'oree': 2,\n",
       " 'honore': 7,\n",
       " 'balzac': 12,\n",
       " 'spacieux': 31,\n",
       " 'rare': 44,\n",
       " 'duplex': 39,\n",
       " 'accueillera': 1,\n",
       " 'confortablement': 1,\n",
       " 'toits': 1,\n",
       " 'sa': 38,\n",
       " 'privilegiee': 6,\n",
       " 'eloi': 10,\n",
       " 'bretonneau': 21,\n",
       " 'rafraîchir': 7,\n",
       " '64': 10,\n",
       " 'pieds': 22,\n",
       " 'transports': 99,\n",
       " 'deuxieme': 13,\n",
       " 'general': 9,\n",
       " '85': 4,\n",
       " 'f4': 4,\n",
       " '76m²': 3,\n",
       " 'n': 3,\n",
       " 'am': 1,\n",
       " 'serez': 17,\n",
       " 'seduits': 2,\n",
       " 'par': 65,\n",
       " 'volumes': 27,\n",
       " 'interessecoup': 1,\n",
       " 'assure': 2,\n",
       " 'traversant': 28,\n",
       " 'rc': 1,\n",
       " 'wc': 81,\n",
       " 'interessequartier': 49,\n",
       " 'tourangeau': 11,\n",
       " 'rue': 56,\n",
       " 'metres': 16,\n",
       " 'emplacement': 32,\n",
       " 'unique': 11,\n",
       " '40m²': 7,\n",
       " 'prise': 7,\n",
       " '9': 3,\n",
       " '215': 1,\n",
       " 'total': 2,\n",
       " '28': 11,\n",
       " 'independant': 16,\n",
       " 'interessefort': 1,\n",
       " 'potentiel': 8,\n",
       " '640': 1,\n",
       " 'vieux': 11,\n",
       " 'st': 21,\n",
       " 'pierre': 14,\n",
       " 'corps': 8,\n",
       " 'entrepreneur': 2,\n",
       " 'artisan': 1,\n",
       " 'commerçant': 2,\n",
       " 'e': 15,\n",
       " 'interesse20mns': 1,\n",
       " 'montbazon': 1,\n",
       " 'côte': 4,\n",
       " 'château': 15,\n",
       " 'artigny': 1,\n",
       " '260m²': 2,\n",
       " 'entoure': 1,\n",
       " 'refait': 32,\n",
       " 'neuf': 42,\n",
       " 'cadre': 29,\n",
       " 'paisible': 6,\n",
       " 'verdoyant': 15,\n",
       " 'jeune': 2,\n",
       " 'couple': 1,\n",
       " 'desireux': 1,\n",
       " 'acquerir': 3,\n",
       " 'interessecette': 4,\n",
       " 'beneficie': 8,\n",
       " 'permet': 1,\n",
       " 'foncia': 2,\n",
       " 'service': 5,\n",
       " 'seniors': 5,\n",
       " 'bis': 25,\n",
       " 'faire': 5,\n",
       " 'entre': 22,\n",
       " 'grandmont': 26,\n",
       " 'lions': 43,\n",
       " 'etudiant': 7,\n",
       " 'studette': 2,\n",
       " '12': 18,\n",
       " '73': 10,\n",
       " 'etudiante': 3,\n",
       " 'soumis': 5,\n",
       " 'statut': 5,\n",
       " 'anas': 1,\n",
       " 'lamrini': 1,\n",
       " 't1': 14,\n",
       " '32': 13,\n",
       " 'celine': 6,\n",
       " 'motte': 2,\n",
       " 'president': 1,\n",
       " 'interesseproche': 38,\n",
       " 'publics': 1,\n",
       " 'locatif': 19,\n",
       " 'escem': 2,\n",
       " 'sites': 1,\n",
       " 'universitaires': 1,\n",
       " 'citya': 21,\n",
       " 'acheter': 4,\n",
       " 'sgti': 9,\n",
       " 'tout': 28,\n",
       " 'febvotte': 18,\n",
       " 'charmant': 27,\n",
       " 'chauffage': 10,\n",
       " 'individuel': 6,\n",
       " 'gaz': 5,\n",
       " 'ravalement': 3,\n",
       " 'verdun': 4,\n",
       " 'f2': 2,\n",
       " 'amenage': 10,\n",
       " '11': 10,\n",
       " 'repas': 5,\n",
       " 'dressing': 21,\n",
       " 'tranchee': 28,\n",
       " 'tenue': 1,\n",
       " 'avis': 1,\n",
       " 'investisseurs': 15,\n",
       " 'interessela': 6,\n",
       " 'fonciere': 3,\n",
       " 'royale': 3,\n",
       " 'elysees': 3,\n",
       " 'gestionnaire': 3,\n",
       " 'patrimoine': 6,\n",
       " 'presente': 8,\n",
       " 'rives': 8,\n",
       " '4eme': 20,\n",
       " 'ideale': 7,\n",
       " 'safti': 2,\n",
       " 'assurance': 1,\n",
       " 'revente': 2,\n",
       " 'offerte': 3,\n",
       " 'boise': 15,\n",
       " 'interessestudio': 6,\n",
       " 'parfaite': 2,\n",
       " '17m²': 1,\n",
       " 'loue': 35,\n",
       " 'depuis': 1,\n",
       " 'hc': 3,\n",
       " 'soit': 3,\n",
       " 'interesseà': 7,\n",
       " 'tarder': 5,\n",
       " 'primo': 4,\n",
       " 'accedants': 2,\n",
       " 'lys': 1,\n",
       " 'il': 64,\n",
       " 'orientation': 5,\n",
       " 'vendre': 160,\n",
       " 'facultes': 13,\n",
       " 'desservant': 26,\n",
       " 'complexe': 1,\n",
       " 'restaurer': 2,\n",
       " 'comportant': 3,\n",
       " 'ainsi': 10,\n",
       " 'bord': 13,\n",
       " '13': 17,\n",
       " 'interessetres': 10,\n",
       " 'faibles': 17,\n",
       " 'charges': 34,\n",
       " 'interesseolivier': 7,\n",
       " 'coradazzo': 7,\n",
       " 'conseiller': 10,\n",
       " 'dr': 10,\n",
       " 'house': 10,\n",
       " 'immo': 13,\n",
       " 'ecoute': 10,\n",
       " 'quatrieme': 2,\n",
       " 'seulement': 13,\n",
       " 'quelques': 18,\n",
       " 'charles': 1,\n",
       " 'gille': 1,\n",
       " 'troisieme': 6,\n",
       " 'sophie': 4,\n",
       " 'naour': 3,\n",
       " 'triple': 2,\n",
       " '35': 4,\n",
       " '16': 6,\n",
       " 'fille': 7,\n",
       " 'face': 15,\n",
       " 'piscine': 20,\n",
       " 'lac': 13,\n",
       " 'espaces': 9,\n",
       " 'verts': 8,\n",
       " '5mn': 6,\n",
       " '40': 28,\n",
       " 'utile': 2,\n",
       " '38': 5,\n",
       " 'interesseappartement': 54,\n",
       " 'agence': 47,\n",
       " '46': 6,\n",
       " 'douche': 14,\n",
       " '80': 9,\n",
       " 'habitables': 41,\n",
       " 'renover': 15,\n",
       " 'dont': 29,\n",
       " 'acquisition': 2,\n",
       " 'disponible': 4,\n",
       " 'grammont': 50,\n",
       " '30m²': 7,\n",
       " 'interesserives': 2,\n",
       " 'interesseidealement': 12,\n",
       " 'orangerie': 5,\n",
       " 'interessefoncia': 1,\n",
       " 'special': 4,\n",
       " '23m²': 1,\n",
       " '2007': 10,\n",
       " 'actuellement': 14,\n",
       " 'interessehonore': 4,\n",
       " 'alexandre': 1,\n",
       " 'misson': 1,\n",
       " 'clemence': 1,\n",
       " 'villemont': 1,\n",
       " 'arret': 5,\n",
       " 'gare': 86,\n",
       " 'anthony': 3,\n",
       " 'clisson': 3,\n",
       " 'meme': 1,\n",
       " 'que': 13,\n",
       " 'solenne': 5,\n",
       " 'souchet': 5,\n",
       " 'habitable': 18,\n",
       " 'cellier': 22,\n",
       " 'exlusivite': 1,\n",
       " '52m²': 2,\n",
       " 'anciennement': 1,\n",
       " '480': 2,\n",
       " 'euros': 17,\n",
       " 'hors': 9,\n",
       " 'vendu': 20,\n",
       " 'libre': 3,\n",
       " 'clarisse': 1,\n",
       " 'leblanc': 1,\n",
       " 'cause': 1,\n",
       " 'mutation': 2,\n",
       " 'marie': 8,\n",
       " 'helene': 6,\n",
       " 'cochet': 6,\n",
       " 'goût': 16,\n",
       " 'aucun': 6,\n",
       " 'jerôme': 8,\n",
       " 'cortabitarte': 8,\n",
       " 'thiers': 2,\n",
       " '32m²': 3,\n",
       " 'aurelien': 9,\n",
       " 'deaut': 10,\n",
       " 'posez': 6,\n",
       " 'interesseresidence': 9,\n",
       " 'plein': 82,\n",
       " 'loggia': 13,\n",
       " 'fermee': 7,\n",
       " 'valerie': 3,\n",
       " 'chartier': 1,\n",
       " 'commercial': 21,\n",
       " 'hall': 6,\n",
       " '60m²': 2,\n",
       " '5eme': 11,\n",
       " 'securise': 12,\n",
       " 'residentiel': 20,\n",
       " 'bordee': 3,\n",
       " 'laura': 5,\n",
       " 'huet': 5,\n",
       " 'ste': 8,\n",
       " 'moderne': 9,\n",
       " 'fonctionnel': 7,\n",
       " 'travaux': 22,\n",
       " 'cecile': 4,\n",
       " 'bussonnais': 4,\n",
       " '194': 2,\n",
       " 'auguste': 1,\n",
       " 'chevallier': 1,\n",
       " 'rivieres': 6,\n",
       " 'chevalerie': 3,\n",
       " 'equipements': 9,\n",
       " 'sportifs': 9,\n",
       " 'milieu': 6,\n",
       " 'coursimault': 3,\n",
       " 'interessequentin': 1,\n",
       " 'fournaise': 1,\n",
       " 'mezzanine': 4,\n",
       " 'interesse37200': 1,\n",
       " 'efficity': 23,\n",
       " 'immobiliere': 21,\n",
       " 'estime': 23,\n",
       " 'ligne': 31,\n",
       " 'hab': 7,\n",
       " '312': 1,\n",
       " 'accueil': 2,\n",
       " 'ouvrant': 8,\n",
       " 'rafraichir': 11,\n",
       " 'parquet': 20,\n",
       " 'sureleve': 2,\n",
       " '44': 29,\n",
       " 'julien': 2,\n",
       " 'threard': 2,\n",
       " 'vu': 1,\n",
       " 'bordure': 5,\n",
       " 'jeremy': 1,\n",
       " 'cendrier': 1,\n",
       " 'bergeonnerie': 2,\n",
       " 'interesseplace': 3,\n",
       " 'fac': 9,\n",
       " 'tanneurs': 2,\n",
       " 'voir': 5,\n",
       " 'rapidement': 3,\n",
       " 'sortie': 1,\n",
       " 'propre': 2,\n",
       " 'interessece': 14,\n",
       " 'degagement': 16,\n",
       " 'chantal': 4,\n",
       " 'dupont': 3,\n",
       " '57': 5,\n",
       " 'attendre': 1,\n",
       " 'interessecharmant': 1,\n",
       " '86': 4,\n",
       " 'communs': 5,\n",
       " 'immediats': 2,\n",
       " '58': 2,\n",
       " '20eme': 2,\n",
       " 'avenue': 35,\n",
       " 'historique': 12,\n",
       " '1bis': 2,\n",
       " 'dote': 2,\n",
       " 'incontestable': 1,\n",
       " 'interessebel': 13,\n",
       " 't5': 26,\n",
       " 'chru': 1,\n",
       " 'trousseau': 2,\n",
       " 'interesselimite': 1,\n",
       " 'avertin': 6,\n",
       " 'superficie': 23,\n",
       " '59': 3,\n",
       " '78': 4,\n",
       " 'dedie': 2,\n",
       " 'rangements': 19,\n",
       " 'laurent': 3,\n",
       " 'malet': 3,\n",
       " 'interessetype': 5,\n",
       " 'verdoyante': 4,\n",
       " 'profiter': 9,\n",
       " 'devenir': 1,\n",
       " 'proprietaire': 4,\n",
       " 'penderie': 4,\n",
       " 'ouvert': 7,\n",
       " '94': 2,\n",
       " 'carrefour': 2,\n",
       " 'emilie': 2,\n",
       " 'despres': 2,\n",
       " 'grâce': 8,\n",
       " 'traversants': 1,\n",
       " 'commerce': 5,\n",
       " 'interessede': 3,\n",
       " 'comprend': 25,\n",
       " 'bertrand': 3,\n",
       " 'joubert': 3,\n",
       " 'prenez': 3,\n",
       " 'f3': 4,\n",
       " 'anvers': 1,\n",
       " 'si': 6,\n",
       " 'tranquillite': 6,\n",
       " 'verdure': 8,\n",
       " 'etant': 2,\n",
       " 'nicolas': 6,\n",
       " 'bourin': 5,\n",
       " 'baisse': 1,\n",
       " 'fabienne': 4,\n",
       " 'moyrand': 4,\n",
       " 'ensoleilles': 1,\n",
       " 'iii': 7,\n",
       " '6eme': 3,\n",
       " 'baie': 3,\n",
       " 'vitree': 5,\n",
       " 'meriglier': 1,\n",
       " 'montjoyeux': 11,\n",
       " 'cyr': 20,\n",
       " '63': 6,\n",
       " 'richard': 2,\n",
       " 'olivron': 2,\n",
       " 'i': 2,\n",
       " 'visite': 3,\n",
       " 'virtuelle': 1,\n",
       " 'transforme': 5,\n",
       " '84m²': 2,\n",
       " 'elise': 1,\n",
       " 'branger': 1,\n",
       " 'apprecies': 1,\n",
       " '21m²': 1,\n",
       " 'recemment': 6,\n",
       " 'transport': 3,\n",
       " 'florian': 1,\n",
       " '6936': 1,\n",
       " 'charge': 4,\n",
       " 'an': 2,\n",
       " 'interesse37000': 2,\n",
       " '65m²': 6,\n",
       " 'neuvieme': 1,\n",
       " '7eme': 1,\n",
       " 'isabelle': 4,\n",
       " 'da': 2,\n",
       " 'silva': 2,\n",
       " 'liberte': 12,\n",
       " 'mylene': 1,\n",
       " 'gautier': 1,\n",
       " 'offant': 1,\n",
       " 'maryline': 2,\n",
       " 'pilet': 2,\n",
       " 'pres': 8,\n",
       " 'arthur': 1,\n",
       " 'talmard': 1,\n",
       " '17ieme': 1,\n",
       " 'renovee': 21,\n",
       " 'imprenable': 6,\n",
       " 'odia': 1,\n",
       " 'keita': 1,\n",
       " 'quartiers': 3,\n",
       " 'recherches': 1,\n",
       " 'etudiants': 3,\n",
       " '71': 2,\n",
       " 'decoration': 10,\n",
       " 'amenagements': 1,\n",
       " 'equipe': 8,\n",
       " 'pion': 1,\n",
       " '75m²': 2,\n",
       " 'hôpital': 10,\n",
       " '49m²': 1,\n",
       " 'joli': 19,\n",
       " 'interesseproximite': 1,\n",
       " 'lakanal': 4,\n",
       " 'toilettes': 5,\n",
       " '49': 2,\n",
       " '69': 3,\n",
       " 'cedric': 2,\n",
       " 'calmebeau': 1,\n",
       " 'securite': 2,\n",
       " '9eme': 2,\n",
       " 'chaleureux': 2,\n",
       " 'terrasses': 12,\n",
       " 'monsoudun': 1,\n",
       " 'privatif': 15,\n",
       " '6660': 1,\n",
       " 'annee': 3,\n",
       " 'boulevard': 7,\n",
       " 'interesset4': 4,\n",
       " '55m²': 4,\n",
       " 'construite': 1,\n",
       " 'françois': 3,\n",
       " 'sicard': 2,\n",
       " 'hauteur': 8,\n",
       " 'plafond': 12,\n",
       " 'luminosite': 5,\n",
       " 'interessecopropriete': 1,\n",
       " 'min': 27,\n",
       " 'colleges': 3,\n",
       " 'ere': 1,\n",
       " 'audrey': 2,\n",
       " 'gravelaine': 1,\n",
       " '3e': 2,\n",
       " 'borde': 5,\n",
       " 'interessehyper': 18,\n",
       " 'excellente': 2,\n",
       " 'interesselibre': 1,\n",
       " 'toute': 5,\n",
       " 'occupation': 2,\n",
       " ...}"
      ]
     },
     "execution_count": 244,
     "metadata": {},
     "output_type": "execute_result"
    }
   ],
   "source": [
    "compteur"
   ]
  },
  {
   "cell_type": "code",
   "execution_count": null,
   "metadata": {},
   "outputs": [],
   "source": []
  }
 ],
 "metadata": {
  "kernelspec": {
   "display_name": "Python 3",
   "language": "python",
   "name": "python3"
  },
  "language_info": {
   "codemirror_mode": {
    "name": "ipython",
    "version": 3
   },
   "file_extension": ".py",
   "mimetype": "text/x-python",
   "name": "python",
   "nbconvert_exporter": "python",
   "pygments_lexer": "ipython3",
   "version": "3.7.4"
  }
 },
 "nbformat": 4,
 "nbformat_minor": 4
}
