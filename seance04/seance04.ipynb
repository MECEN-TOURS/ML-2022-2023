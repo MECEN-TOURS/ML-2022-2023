{
 "cells": [
  {
   "cell_type": "markdown",
   "metadata": {},
   "source": [
    "# Introduction au webscraping"
   ]
  },
  {
   "cell_type": "markdown",
   "metadata": {},
   "source": [
    "**Objectif** récupérer les informations sur la composition du *CAC40* à partir de la  [fiche wikipédia](https://fr.wikipedia.org/wiki/CAC_40)"
   ]
  },
  {
   "cell_type": "code",
   "execution_count": 1,
   "metadata": {},
   "outputs": [],
   "source": [
    "from requests import get"
   ]
  },
  {
   "cell_type": "code",
   "execution_count": 2,
   "metadata": {},
   "outputs": [],
   "source": [
    "from typing import List, Tuple"
   ]
  },
  {
   "cell_type": "code",
   "execution_count": 3,
   "metadata": {},
   "outputs": [],
   "source": [
    "from dataclasses import dataclass"
   ]
  },
  {
   "cell_type": "code",
   "execution_count": 4,
   "metadata": {},
   "outputs": [],
   "source": [
    "import re"
   ]
  },
  {
   "cell_type": "code",
   "execution_count": 5,
   "metadata": {},
   "outputs": [],
   "source": [
    "requete = get(\"https://fr.wikipedia.org/wiki/CAC_40\")"
   ]
  },
  {
   "cell_type": "code",
   "execution_count": 6,
   "metadata": {},
   "outputs": [
    {
     "data": {
      "text/plain": [
       "requests.models.Response"
      ]
     },
     "execution_count": 6,
     "metadata": {},
     "output_type": "execute_result"
    }
   ],
   "source": [
    "type(requete)"
   ]
  },
  {
   "cell_type": "code",
   "execution_count": 7,
   "metadata": {},
   "outputs": [
    {
     "data": {
      "text/plain": [
       "['__attrs__',\n",
       " '__bool__',\n",
       " '__class__',\n",
       " '__delattr__',\n",
       " '__dict__',\n",
       " '__dir__',\n",
       " '__doc__',\n",
       " '__enter__',\n",
       " '__eq__',\n",
       " '__exit__',\n",
       " '__format__',\n",
       " '__ge__',\n",
       " '__getattribute__',\n",
       " '__getstate__',\n",
       " '__gt__',\n",
       " '__hash__',\n",
       " '__init__',\n",
       " '__init_subclass__',\n",
       " '__iter__',\n",
       " '__le__',\n",
       " '__lt__',\n",
       " '__module__',\n",
       " '__ne__',\n",
       " '__new__',\n",
       " '__nonzero__',\n",
       " '__reduce__',\n",
       " '__reduce_ex__',\n",
       " '__repr__',\n",
       " '__setattr__',\n",
       " '__setstate__',\n",
       " '__sizeof__',\n",
       " '__str__',\n",
       " '__subclasshook__',\n",
       " '__weakref__',\n",
       " '_content',\n",
       " '_content_consumed',\n",
       " '_next',\n",
       " 'apparent_encoding',\n",
       " 'close',\n",
       " 'connection',\n",
       " 'content',\n",
       " 'cookies',\n",
       " 'elapsed',\n",
       " 'encoding',\n",
       " 'headers',\n",
       " 'history',\n",
       " 'is_permanent_redirect',\n",
       " 'is_redirect',\n",
       " 'iter_content',\n",
       " 'iter_lines',\n",
       " 'json',\n",
       " 'links',\n",
       " 'next',\n",
       " 'ok',\n",
       " 'raise_for_status',\n",
       " 'raw',\n",
       " 'reason',\n",
       " 'request',\n",
       " 'status_code',\n",
       " 'text',\n",
       " 'url']"
      ]
     },
     "execution_count": 7,
     "metadata": {},
     "output_type": "execute_result"
    }
   ],
   "source": [
    "dir(requete)"
   ]
  },
  {
   "cell_type": "markdown",
   "metadata": {},
   "source": [
    "**REMARQUE** code 200 tout s'est bien passé."
   ]
  },
  {
   "cell_type": "code",
   "execution_count": 8,
   "metadata": {},
   "outputs": [
    {
     "data": {
      "text/plain": [
       "200"
      ]
     },
     "execution_count": 8,
     "metadata": {},
     "output_type": "execute_result"
    }
   ],
   "source": [
    "requete.status_code"
   ]
  },
  {
   "cell_type": "code",
   "execution_count": 9,
   "metadata": {},
   "outputs": [
    {
     "data": {
      "text/plain": [
       "'UTF-8'"
      ]
     },
     "execution_count": 9,
     "metadata": {},
     "output_type": "execute_result"
    }
   ],
   "source": [
    "requete.encoding"
   ]
  },
  {
   "cell_type": "code",
   "execution_count": 10,
   "metadata": {},
   "outputs": [
    {
     "data": {
      "text/plain": [
       "'utf-8'"
      ]
     },
     "execution_count": 10,
     "metadata": {},
     "output_type": "execute_result"
    }
   ],
   "source": [
    "requete.apparent_encoding"
   ]
  },
  {
   "cell_type": "code",
   "execution_count": 11,
   "metadata": {},
   "outputs": [
    {
     "data": {
      "text/plain": [
       "bytes"
      ]
     },
     "execution_count": 11,
     "metadata": {},
     "output_type": "execute_result"
    }
   ],
   "source": [
    "type(requete.content)"
   ]
  },
  {
   "cell_type": "code",
   "execution_count": 12,
   "metadata": {},
   "outputs": [
    {
     "data": {
      "text/plain": [
       "str"
      ]
     },
     "execution_count": 12,
     "metadata": {},
     "output_type": "execute_result"
    }
   ],
   "source": [
    "type(requete.text)"
   ]
  },
  {
   "cell_type": "markdown",
   "metadata": {},
   "source": [
    "**REMARQUE** ici l'encodage (`utf8`) a été géré automatiquement, on peut devoir le faire soit même en utilisant `encode` de `bytes` vers `str`!"
   ]
  },
  {
   "cell_type": "code",
   "execution_count": 13,
   "metadata": {},
   "outputs": [],
   "source": [
    "contenu = requete.text"
   ]
  },
  {
   "cell_type": "code",
   "execution_count": 14,
   "metadata": {},
   "outputs": [
    {
     "name": "stdout",
     "output_type": "stream",
     "text": [
      "97245\n"
     ]
    }
   ],
   "source": [
    "debut = contenu.find(\"<table class\")\n",
    "print(debut)"
   ]
  },
  {
   "cell_type": "code",
   "execution_count": 15,
   "metadata": {},
   "outputs": [
    {
     "name": "stdout",
     "output_type": "stream",
     "text": [
      "<table class=\"wikitable sortable\">\n",
      "\n",
      "<tbody><tr>\n",
      "<th width=\"15%\">Société\n",
      "</th>\n",
      "<th width=\"20%\">Secteur\n",
      "</th>\n",
      "<th width=\"9%\" data-sort-type=\"number\">Poids indiciel (en&#160;%)<sup id=\"cite_ref-59\" class=\"reference\"><a href=\"#cite_note-59\"><span class=\"cite_crochet\">[</span>27<span class=\"cite_crochet\">]</span></a></sup>\n",
      "</th>\n",
      "<th data-sort-type=\"number\" width=\"9%\"><a href=\"/wiki/Chiffre_d%27affaires\" title=\"Chiffre d&#39;affaires\">Chiffre d'affaires</a> 2020 (en milliards d'euros)<sup id=\"cite_ref-60\" class=\"reference\"><a href=\"#cite_note-60\"><span class=\"cite_crochet\">[</span>28<span class=\"cite_crochet\">]</span></a></sup>\n",
      "</th>\n",
      "<th data-sort-type=\"number\" width=\"9%\"><a href=\"/wiki/Capitalisation_boursi%C3%A8re\" title=\"Capitalisation boursière\">Capitalisation boursière</a> (en milliards d'euros)<sup id=\"cite_ref-61\" class=\"reference\"><a href=\"#cite_note-61\"><span class=\"cite_crochet\">[</span>29<span class=\"cite_crochet\">]</span></a></sup>\n",
      "</th>\n",
      "<th width=\"9%\">Entrée dans l'indice\n",
      "</th><\n"
     ]
    }
   ],
   "source": [
    "print(contenu[debut: debut+1000])"
   ]
  },
  {
   "cell_type": "code",
   "execution_count": 16,
   "metadata": {},
   "outputs": [
    {
     "name": "stdout",
     "output_type": "stream",
     "text": [
      "125064\n"
     ]
    }
   ],
   "source": [
    "auxiliaire = contenu.find(\"Worldline</a>\", debut)\n",
    "fin = contenu.find(\"</table>\", auxiliaire) + 7\n",
    "print(fin)"
   ]
  },
  {
   "cell_type": "code",
   "execution_count": 17,
   "metadata": {},
   "outputs": [
    {
     "name": "stdout",
     "output_type": "stream",
     "text": [
      "ass=\"cite_crochet\">[</span>30<span class=\"cite_crochet\">]</span></a></sup>\n",
      "</td></tr></tbody></table>\n",
      "<div style=\"clear:both;\"></div>\n",
      "<h3><span class=\"mw-headline\" id=\"Historique_de_la_composition\">Hi\n"
     ]
    }
   ],
   "source": [
    "print(contenu[fin-100: fin+100])"
   ]
  },
  {
   "cell_type": "code",
   "execution_count": 18,
   "metadata": {
    "collapsed": true,
    "jupyter": {
     "outputs_hidden": true
    }
   },
   "outputs": [
    {
     "name": "stdout",
     "output_type": "stream",
     "text": [
      "<table class=\"wikitable sortable\">\n",
      "\n",
      "<tbody><tr>\n",
      "<th width=\"15%\">Société\n",
      "</th>\n",
      "<th width=\"20%\">Secteur\n",
      "</th>\n",
      "<th width=\"9%\" data-sort-type=\"number\">Poids indiciel (en&#160;%)<sup id=\"cite_ref-59\" class=\"reference\"><a href=\"#cite_note-59\"><span class=\"cite_crochet\">[</span>27<span class=\"cite_crochet\">]</span></a></sup>\n",
      "</th>\n",
      "<th data-sort-type=\"number\" width=\"9%\"><a href=\"/wiki/Chiffre_d%27affaires\" title=\"Chiffre d&#39;affaires\">Chiffre d'affaires</a> 2020 (en milliards d'euros)<sup id=\"cite_ref-60\" class=\"reference\"><a href=\"#cite_note-60\"><span class=\"cite_crochet\">[</span>28<span class=\"cite_crochet\">]</span></a></sup>\n",
      "</th>\n",
      "<th data-sort-type=\"number\" width=\"9%\"><a href=\"/wiki/Capitalisation_boursi%C3%A8re\" title=\"Capitalisation boursière\">Capitalisation boursière</a> (en milliards d'euros)<sup id=\"cite_ref-61\" class=\"reference\"><a href=\"#cite_note-61\"><span class=\"cite_crochet\">[</span>29<span class=\"cite_crochet\">]</span></a></sup>\n",
      "</th>\n",
      "<th width=\"9%\">Entrée dans l'indice\n",
      "</th></tr>\n",
      "<tr>\n",
      "<td><a href=\"/wiki/Air_liquide\" title=\"Air liquide\">Air liquide</a>\n",
      "</td>\n",
      "<td><a href=\"/wiki/Gaz_industriel\" title=\"Gaz industriel\">Gaz industriel</a>\n",
      "</td>\n",
      "<td>3,50\n",
      "</td>\n",
      "<td>20,49\n",
      "</td>\n",
      "<td>66,56\n",
      "</td>\n",
      "<td><span data-sort-value=\"19871231 !\"></span><time class=\"nowrap date-lien\" datetime=\"1987-12-31\" data-sort-value=\"1987-12-31\"><a href=\"/wiki/31_d%C3%A9cembre\" title=\"31 décembre\">31</a> <a href=\"/wiki/D%C3%A9cembre_1987\" title=\"Décembre 1987\">décembre</a> <a href=\"/wiki/1987\" title=\"1987\">1987</a></time>\n",
      "</td></tr>\n",
      "<tr>\n",
      "<td><a href=\"/wiki/Airbus_(groupe)\" title=\"Airbus (groupe)\">Airbus</a>\n",
      "</td>\n",
      "<td><a href=\"/wiki/A%C3%A9ronautique\" title=\"Aéronautique\">Aéronautique</a>, <a href=\"/wiki/D%C3%A9fense_et_s%C3%A9curit%C3%A9\" class=\"mw-redirect\" title=\"Défense et sécurité\">défense</a>\n",
      "</td>\n",
      "<td>3,87\n",
      "</td>\n",
      "<td>49,91\n",
      "</td>\n",
      "<td>74,87\n",
      "</td>\n",
      "<td><span data-sort-value=\"19900205 !\"></span><time class=\"nowrap date-lien\" datetime=\"1990-02-05\" data-sort-value=\"1990-02-05\"><a href=\"/wiki/5_f%C3%A9vrier\" title=\"5 février\">5</a> <a href=\"/wiki/F%C3%A9vrier_1990\" title=\"Février 1990\">février</a> <a href=\"/wiki/1990\" title=\"1990\">1990</a></time><sup id=\"cite_ref-62\" class=\"reference\"><a href=\"#cite_note-62\"><span class=\"cite_crochet\">[</span>Note 33<span class=\"cite_crochet\">]</span></a></sup>\n",
      "</td></tr>\n",
      "<tr>\n",
      "<td><a href=\"/wiki/Alstom\" title=\"Alstom\">Alstom</a>\n",
      "</td>\n",
      "<td><a href=\"/wiki/Constructeur_ferroviaire\" title=\"Constructeur ferroviaire\">Industrie ferroviaire</a>\n",
      "</td>\n",
      "<td>0,43\n",
      "</td>\n",
      "<td>8,78\n",
      "</td>\n",
      "<td>8,17\n",
      "</td>\n",
      "<td><span data-sort-value=\"20200921 !\"></span><time class=\"nowrap date-lien\" datetime=\"2020-09-21\" data-sort-value=\"2020-09-21\"><a href=\"/wiki/21_septembre\" title=\"21 septembre\">21</a> <a href=\"/wiki/Septembre_2020\" title=\"Septembre 2020\">septembre</a> <a href=\"/wiki/2020\" title=\"2020\">2020</a></time><sup id=\"cite_ref-63\" class=\"reference\"><a href=\"#cite_note-63\"><span class=\"cite_crochet\">[</span>Note 34<span class=\"cite_crochet\">]</span></a></sup>\n",
      "</td></tr>\n",
      "<tr>\n",
      "<td><a href=\"/wiki/ArcelorMittal\" title=\"ArcelorMittal\">ArcelorMittal</a>\n",
      "</td>\n",
      "<td><a href=\"/wiki/Acier\" title=\"Acier\">Acier</a>, <a href=\"/wiki/Mat%C3%A9riau_de_construction\" title=\"Matériau de construction\">matériau de construction</a>\n",
      "</td>\n",
      "<td>1,16\n",
      "</td>\n",
      "<td>47,57\n",
      "</td>\n",
      "<td>18,98\n",
      "</td>\n",
      "<td><span data-sort-value=\"20031121 !\"></span><time class=\"nowrap date-lien\" datetime=\"2003-11-21\" data-sort-value=\"2003-11-21\"><a href=\"/wiki/21_novembre\" title=\"21 novembre\">21</a> <a href=\"/wiki/Novembre_2003\" title=\"Novembre 2003\">novembre</a> <a href=\"/wiki/2003\" title=\"2003\">2003</a></time><sup id=\"cite_ref-64\" class=\"reference\"><a href=\"#cite_note-64\"><span class=\"cite_crochet\">[</span>Note 35<span class=\"cite_crochet\">]</span></a></sup>\n",
      "</td></tr>\n",
      "<tr>\n",
      "<td><a href=\"/wiki/Axa\" title=\"Axa\">Axa</a>\n",
      "</td>\n",
      "<td><a href=\"/wiki/Assurance\" title=\"Assurance\">Assurance</a>, <a href=\"/wiki/Services_financiers\" class=\"mw-redirect\" title=\"Services financiers\">services financiers</a>\n",
      "</td>\n",
      "<td>2,69\n",
      "</td>\n",
      "<td>93,91\n",
      "</td>\n",
      "<td>50,76\n",
      "</td>\n",
      "<td><span data-sort-value=\"19871231 !\"></span><time class=\"nowrap date-lien\" datetime=\"1987-12-31\" data-sort-value=\"1987-12-31\"><a href=\"/wiki/31_d%C3%A9cembre\" title=\"31 décembre\">31</a> <a href=\"/wiki/D%C3%A9cembre_1987\" title=\"Décembre 1987\">décembre</a> <a href=\"/wiki/1987\" title=\"1987\">1987</a></time><sup id=\"cite_ref-65\" class=\"reference\"><a href=\"#cite_note-65\"><span class=\"cite_crochet\">[</span>Note 36<span class=\"cite_crochet\">]</span></a></sup>\n",
      "</td></tr>\n",
      "<tr>\n",
      "<td><a href=\"/wiki/BNP_Paribas\" title=\"BNP Paribas\">BNP Paribas</a>\n",
      "</td>\n",
      "<td><a href=\"/wiki/Banque\" title=\"Banque\">Banque</a>, <a href=\"/wiki/Services_financiers\" class=\"mw-redirect\" title=\"Services financiers\">services financiers</a>, <a href=\"/wiki/Assurance\" title=\"Assurance\">assurance</a>\n",
      "</td>\n",
      "<td>2,94\n",
      "</td>\n",
      "<td>44,27\n",
      "</td>\n",
      "<td>55,93\n",
      "</td>\n",
      "<td><span data-sort-value=\"19871231 !\"></span><time class=\"nowrap date-lien\" datetime=\"1987-12-31\" data-sort-value=\"1987-12-31\"><a href=\"/wiki/31_d%C3%A9cembre\" title=\"31 décembre\">31</a> <a href=\"/wiki/D%C3%A9cembre_1987\" title=\"Décembre 1987\">décembre</a> <a href=\"/wiki/1987\" title=\"1987\">1987</a></time><sup id=\"cite_ref-66\" class=\"reference\"><a href=\"#cite_note-66\"><span class=\"cite_crochet\">[</span>Note 37<span class=\"cite_crochet\">]</span></a></sup>\n",
      "</td></tr>\n",
      "<tr>\n",
      "<td><a href=\"/wiki/Bouygues\" title=\"Bouygues\">Bouygues</a>\n",
      "</td>\n",
      "<td><a href=\"/wiki/BTP\" class=\"mw-redirect\" title=\"BTP\">BTP</a>, <a href=\"/wiki/Immobilier\" class=\"mw-redirect\" title=\"Immobilier\">immobilier</a>, <a href=\"/wiki/M%C3%A9dia\" title=\"Média\">médias</a>, <a href=\"/wiki/T%C3%A9l%C3%A9communications\" title=\"Télécommunications\">télécommunications</a>\n",
      "</td>\n",
      "<td>0,58\n",
      "</td>\n",
      "<td>34,69\n",
      "</td>\n",
      "<td>11,02\n",
      "</td>\n",
      "<td><span data-sort-value=\"19871231 !\"></span><time class=\"nowrap date-lien\" datetime=\"1987-12-31\" data-sort-value=\"1987-12-31\"><a href=\"/wiki/31_d%C3%A9cembre\" title=\"31 décembre\">31</a> <a href=\"/wiki/D%C3%A9cembre_1987\" title=\"Décembre 1987\">décembre</a> <a href=\"/wiki/1987\" title=\"1987\">1987</a></time><sup id=\"cite_ref-67\" class=\"reference\"><a href=\"#cite_note-67\"><span class=\"cite_crochet\">[</span>Note 38<span class=\"cite_crochet\">]</span></a></sup>\n",
      "</td></tr>\n",
      "<tr>\n",
      "<td><a href=\"/wiki/Capgemini\" title=\"Capgemini\">Capgemini</a>\n",
      "</td>\n",
      "<td><a href=\"/wiki/Services_informatiques\" class=\"mw-redirect\" title=\"Services informatiques\">Services informatiques</a>\n",
      "</td>\n",
      "<td>1,46\n",
      "</td>\n",
      "<td>15,85\n",
      "</td>\n",
      "<td>27,88\n",
      "</td>\n",
      "<td><span data-sort-value=\"19880803 !\"></span><time class=\"nowrap date-lien\" datetime=\"1988-08-03\" data-sort-value=\"1988-08-03\"><a href=\"/wiki/3_ao%C3%BBt\" title=\"3 août\">3</a> <a href=\"/wiki/Ao%C3%BBt_1988\" title=\"Août 1988\">août</a> <a href=\"/wiki/1988\" title=\"1988\">1988</a></time><sup id=\"cite_ref-68\" class=\"reference\"><a href=\"#cite_note-68\"><span class=\"cite_crochet\">[</span>Note 39<span class=\"cite_crochet\">]</span></a></sup>\n",
      "</td></tr>\n",
      "<tr>\n",
      "<td><a href=\"/wiki/Groupe_Carrefour\" title=\"Groupe Carrefour\">Carrefour</a>\n",
      "</td>\n",
      "<td><a href=\"/wiki/Grande_distribution\" title=\"Grande distribution\">Distribution</a>\n",
      "</td>\n",
      "<td>0,67\n",
      "</td>\n",
      "<td>69,97\n",
      "</td>\n",
      "<td>12,57\n",
      "</td>\n",
      "<td><span data-sort-value=\"19871231 !\"></span><time class=\"nowrap date-lien\" datetime=\"1987-12-31\" data-sort-value=\"1987-12-31\"><a href=\"/wiki/31_d%C3%A9cembre\" title=\"31 décembre\">31</a> <a href=\"/wiki/D%C3%A9cembre_1987\" title=\"Décembre 1987\">décembre</a> <a href=\"/wiki/1987\" title=\"1987\">1987</a></time>\n",
      "</td></tr>\n",
      "<tr>\n",
      "<td><a href=\"/wiki/Cr%C3%A9dit_agricole\" title=\"Crédit agricole\">Crédit agricole</a>\n",
      "</td>\n",
      "<td><a href=\"/wiki/Banque\" title=\"Banque\">Banque</a>, <a href=\"/wiki/Services_financiers\" class=\"mw-redirect\" title=\"Services financiers\">services financiers</a>, <a href=\"/wiki/Assurance\" title=\"Assurance\">assurance</a>\n",
      "</td>\n",
      "<td>1,39\n",
      "</td>\n",
      "<td>20,5\n",
      "</td>\n",
      "<td>26,42\n",
      "</td>\n",
      "<td><span data-sort-value=\"19990907 !\"></span><time class=\"nowrap date-lien\" datetime=\"1999-09-07\" data-sort-value=\"1999-09-07\"><a href=\"/wiki/7_septembre\" title=\"7 septembre\">7</a> <a href=\"/wiki/Septembre_1999\" title=\"Septembre 1999\">septembre</a> <a href=\"/wiki/1999\" title=\"1999\">1999</a></time><sup id=\"cite_ref-69\" class=\"reference\"><a href=\"#cite_note-69\"><span class=\"cite_crochet\">[</span>Note 40<span class=\"cite_crochet\">]</span></a></sup>\n",
      "</td></tr>\n",
      "<tr>\n",
      "<td><a href=\"/wiki/Danone\" title=\"Danone\">Danone</a>\n",
      "</td>\n",
      "<td><a href=\"/wiki/Agroalimentaire\" class=\"mw-redirect\" title=\"Agroalimentaire\">Agroalimentaire</a>\n",
      "</td>\n",
      "<td>1,93\n",
      "</td>\n",
      "<td>23,62\n",
      "</td>\n",
      "<td>36,02\n",
      "</td>\n",
      "<td><span data-sort-value=\"19871231 !\"></span><time class=\"nowrap date-lien\" datetime=\"1987-12-31\" data-sort-value=\"1987-12-31\"><a href=\"/wiki/31_d%C3%A9cembre\" title=\"31 décembre\">31</a> <a href=\"/wiki/D%C3%A9cembre_1987\" title=\"Décembre 1987\">décembre</a> <a href=\"/wiki/1987\" title=\"1987\">1987</a></time><sup id=\"cite_ref-70\" class=\"reference\"><a href=\"#cite_note-70\"><span class=\"cite_crochet\">[</span>Note 41<span class=\"cite_crochet\">]</span></a></sup>\n",
      "</td></tr>\n",
      "<tr>\n",
      "<td><a href=\"/wiki/Dassault_Syst%C3%A8mes\" title=\"Dassault Systèmes\">Dassault Systèmes</a>\n",
      "</td>\n",
      "<td><a href=\"/wiki/Services_informatiques\" class=\"mw-redirect\" title=\"Services informatiques\">Services informatiques</a>, <a href=\"/wiki/Technologie\" title=\"Technologie\">technologies</a>\n",
      "</td>\n",
      "<td>2,47\n",
      "</td>\n",
      "<td>4,45\n",
      "</td>\n",
      "<td>47,09\n",
      "</td>\n",
      "<td><span data-sort-value=\"20180924 !\"></span><time class=\"nowrap date-lien\" datetime=\"2018-09-24\" data-sort-value=\"2018-09-24\"><a href=\"/wiki/24_septembre\" title=\"24 septembre\">24</a> <a href=\"/wiki/Septembre_2018\" title=\"Septembre 2018\">septembre</a> <a href=\"/wiki/2018\" title=\"2018\">2018</a></time>\n",
      "</td></tr>\n",
      "<tr>\n",
      "<td><a href=\"/wiki/Engie\" title=\"Engie\">Engie</a>\n",
      "</td>\n",
      "<td><a href=\"/wiki/%C3%89nergie_(%C3%A9conomie)\" title=\"Énergie (économie)\">Énergie</a>, <a href=\"/wiki/Gaz_industriel\" title=\"Gaz industriel\">gaz industriel</a>, <a href=\"/wiki/Industrie_p%C3%A9troli%C3%A8re\" title=\"Industrie pétrolière\">industrie pétrolière</a>\n",
      "</td>\n",
      "<td>1,43\n",
      "</td>\n",
      "<td>55,75\n",
      "</td>\n",
      "<td>27,26\n",
      "</td>\n",
      "<td><span data-sort-value=\"19871231 !\"></span><time class=\"nowrap date-lien\" datetime=\"1987-12-31\" data-sort-value=\"1987-12-31\"><a href=\"/wiki/31_d%C3%A9cembre\" title=\"31 décembre\">31</a> <a href=\"/wiki/D%C3%A9cembre_1987\" title=\"Décembre 1987\">décembre</a> <a href=\"/wiki/1987\" title=\"1987\">1987</a></time><sup id=\"cite_ref-71\" class=\"reference\"><a href=\"#cite_note-71\"><span class=\"cite_crochet\">[</span>Note 42<span class=\"cite_crochet\">]</span></a></sup>\n",
      "</td></tr>\n",
      "<tr>\n",
      "<td><a href=\"/wiki/EssilorLuxottica\" title=\"EssilorLuxottica\">EssilorLuxottica</a>\n",
      "</td>\n",
      "<td><a href=\"/wiki/Optique\" title=\"Optique\">Optique</a>\n",
      "</td>\n",
      "<td>3,34\n",
      "</td>\n",
      "<td>14,43\n",
      "</td>\n",
      "<td>64,36\n",
      "</td>\n",
      "<td><span data-sort-value=\"19871231 !\"></span><time class=\"nowrap date-lien\" datetime=\"1987-12-31\" data-sort-value=\"1987-12-31\"><a href=\"/wiki/31_d%C3%A9cembre\" title=\"31 décembre\">31</a> <a href=\"/wiki/D%C3%A9cembre_1987\" title=\"Décembre 1987\">décembre</a> <a href=\"/wiki/1987\" title=\"1987\">1987</a></time><sup id=\"cite_ref-72\" class=\"reference\"><a href=\"#cite_note-72\"><span class=\"cite_crochet\">[</span>Note 43<span class=\"cite_crochet\">]</span></a></sup>\n",
      "</td></tr>\n",
      "<tr>\n",
      "<td><a href=\"/wiki/Eurofins_Scientific\" title=\"Eurofins Scientific\">Eurofins Scientific</a>\n",
      "</td>\n",
      "<td><a href=\"/wiki/Biotechnologie\" title=\"Biotechnologie\">Biotechnologie</a>\n",
      "</td>\n",
      "<td>0,76\n",
      "</td>\n",
      "<td>5,44\n",
      "</td>\n",
      "<td>14,47\n",
      "</td>\n",
      "<td><span data-sort-value=\"20210917 !\"></span><time class=\"nowrap date-lien\" datetime=\"2021-09-17\" data-sort-value=\"2021-09-17\"><a href=\"/wiki/17_septembre\" title=\"17 septembre\">17</a> <a href=\"/wiki/Septembre_2021\" title=\"Septembre 2021\">septembre</a> <a href=\"/wiki/2021\" title=\"2021\">2021</a></time>\n",
      "</td></tr>\n",
      "<tr>\n",
      "<td><a href=\"/wiki/Herm%C3%A8s_International\" title=\"Hermès International\">Hermès International</a>\n",
      "</td>\n",
      "<td><a href=\"/wiki/Luxe\" title=\"Luxe\">Luxe</a>\n",
      "</td>\n",
      "<td>5,91\n",
      "</td>\n",
      "<td>6,39\n",
      "</td>\n",
      "<td>112,48\n",
      "</td>\n",
      "<td><span data-sort-value=\"20180618 !\"></span><time class=\"nowrap date-lien\" datetime=\"2018-06-18\" data-sort-value=\"2018-06-18\"><a href=\"/wiki/18_juin\" title=\"18 juin\">18</a> <a href=\"/wiki/Juin_2018\" title=\"Juin 2018\">juin</a> <a href=\"/wiki/2018\" title=\"2018\">2018</a></time>\n",
      "</td></tr>\n",
      "<tr>\n",
      "<td><a href=\"/wiki/Kering\" title=\"Kering\">Kering</a>\n",
      "</td>\n",
      "<td><a href=\"/wiki/Luxe\" title=\"Luxe\">Luxe</a>\n",
      "</td>\n",
      "<td>3,19\n",
      "</td>\n",
      "<td>13,1\n",
      "</td>\n",
      "<td>60,76\n",
      "</td>\n",
      "<td><span data-sort-value=\"19950209 !\"></span><time class=\"nowrap date-lien\" datetime=\"1995-02-09\" data-sort-value=\"1995-02-09\"><a href=\"/wiki/9_f%C3%A9vrier\" title=\"9 février\">9</a> <a href=\"/wiki/F%C3%A9vrier_1995\" title=\"Février 1995\">février</a> <a href=\"/wiki/1995\" title=\"1995\">1995</a></time><sup id=\"cite_ref-73\" class=\"reference\"><a href=\"#cite_note-73\"><span class=\"cite_crochet\">[</span>Note 44<span class=\"cite_crochet\">]</span></a></sup>\n",
      "</td></tr>\n",
      "<tr>\n",
      "<td><a href=\"/wiki/Legrand_(entreprise)\" title=\"Legrand (entreprise)\">Legrand</a>\n",
      "</td>\n",
      "<td><a href=\"/wiki/Mat%C3%A9riel_%C3%A9lectrique\" class=\"mw-redirect\" title=\"Matériel électrique\">Matériel électrique</a>\n",
      "</td>\n",
      "<td>0,99\n",
      "</td>\n",
      "<td>6,1\n",
      "</td>\n",
      "<td>18,71\n",
      "</td>\n",
      "<td><span data-sort-value=\"19871231 !\"></span><time class=\"nowrap date-lien\" datetime=\"1987-12-31\" data-sort-value=\"1987-12-31\"><a href=\"/wiki/31_d%C3%A9cembre\" title=\"31 décembre\">31</a> <a href=\"/wiki/D%C3%A9cembre_1987\" title=\"Décembre 1987\">décembre</a> <a href=\"/wiki/1987\" title=\"1987\">1987</a></time><sup id=\"cite_ref-74\" class=\"reference\"><a href=\"#cite_note-74\"><span class=\"cite_crochet\">[</span>Note 45<span class=\"cite_crochet\">]</span></a></sup>\n",
      "</td></tr>\n",
      "<tr>\n",
      "<td><a href=\"/wiki/L%27Or%C3%A9al\" title=\"L&#39;Oréal\">L'Oréal</a>\n",
      "</td>\n",
      "<td><a href=\"/wiki/Cosm%C3%A9tique\" title=\"Cosmétique\">Cosmétique</a>\n",
      "</td>\n",
      "<td>9,28\n",
      "</td>\n",
      "<td>27,99\n",
      "</td>\n",
      "<td>176,65\n",
      "</td>\n",
      "<td><span data-sort-value=\"19871231 !\"></span><time class=\"nowrap date-lien\" datetime=\"1987-12-31\" data-sort-value=\"1987-12-31\"><a href=\"/wiki/31_d%C3%A9cembre\" title=\"31 décembre\">31</a> <a href=\"/wiki/D%C3%A9cembre_1987\" title=\"Décembre 1987\">décembre</a> <a href=\"/wiki/1987\" title=\"1987\">1987</a></time>\n",
      "</td></tr>\n",
      "<tr>\n",
      "<td><a href=\"/wiki/LVMH_-_Mo%C3%ABt_Hennessy_Louis_Vuitton\" title=\"LVMH - Moët Hennessy Louis Vuitton\">LVMH</a>\n",
      "</td>\n",
      "<td><a href=\"/wiki/Luxe\" title=\"Luxe\">Luxe</a>\n",
      "</td>\n",
      "<td>15,38\n",
      "</td>\n",
      "<td>44,65\n",
      "</td>\n",
      "<td>292,76\n",
      "</td>\n",
      "<td><span data-sort-value=\"19871231 !\"></span><time class=\"nowrap date-lien\" datetime=\"1987-12-31\" data-sort-value=\"1987-12-31\"><a href=\"/wiki/31_d%C3%A9cembre\" title=\"31 décembre\">31</a> <a href=\"/wiki/D%C3%A9cembre_1987\" title=\"Décembre 1987\">décembre</a> <a href=\"/wiki/1987\" title=\"1987\">1987</a></time>\n",
      "</td></tr>\n",
      "<tr>\n",
      "<td><a href=\"/wiki/Michelin\" title=\"Michelin\">Michelin</a>\n",
      "</td>\n",
      "<td><a href=\"/wiki/Pneumatique_(v%C3%A9hicule)\" title=\"Pneumatique (véhicule)\">Pneumatique</a>, <a href=\"/wiki/%C3%89quipementier_automobile\" title=\"Équipementier automobile\">équipementier automobile</a>, <a href=\"/wiki/Tourisme\" title=\"Tourisme\">tourisme</a>\n",
      "</td>\n",
      "<td>0,25\n",
      "</td>\n",
      "<td>20,47\n",
      "</td>\n",
      "<td>18,69\n",
      "</td>\n",
      "<td><span data-sort-value=\"19871231 !\"></span><time class=\"nowrap date-lien\" datetime=\"1987-12-31\" data-sort-value=\"1987-12-31\"><a href=\"/wiki/31_d%C3%A9cembre\" title=\"31 décembre\">31</a> <a href=\"/wiki/D%C3%A9cembre_1987\" title=\"Décembre 1987\">décembre</a> <a href=\"/wiki/1987\" title=\"1987\">1987</a></time>\n",
      "</td></tr>\n",
      "<tr>\n",
      "<td><a href=\"/wiki/Orange_(entreprise)\" title=\"Orange (entreprise)\">Orange</a>\n",
      "</td>\n",
      "<td><a href=\"/wiki/T%C3%A9l%C3%A9communications\" title=\"Télécommunications\">Télécommunication</a>, <a href=\"/wiki/Banque\" title=\"Banque\">banque</a>\n",
      "</td>\n",
      "<td>1,58\n",
      "</td>\n",
      "<td>42,27\n",
      "</td>\n",
      "<td>30,01\n",
      "</td>\n",
      "<td><span data-sort-value=\"19971112 !\"></span><time class=\"nowrap date-lien\" datetime=\"1997-11-12\" data-sort-value=\"1997-11-12\"><a href=\"/wiki/12_novembre\" title=\"12 novembre\">12</a> <a href=\"/wiki/Novembre_1997\" title=\"Novembre 1997\">novembre</a> <a href=\"/wiki/1997\" title=\"1997\">1997</a></time><sup id=\"cite_ref-75\" class=\"reference\"><a href=\"#cite_note-75\"><span class=\"cite_crochet\">[</span>Note 46<span class=\"cite_crochet\">]</span></a></sup>\n",
      "</td></tr>\n",
      "<tr>\n",
      "<td><a href=\"/wiki/Pernod_Ricard\" title=\"Pernod Ricard\">Pernod Ricard</a>\n",
      "</td>\n",
      "<td><a href=\"/wiki/Spiritueux\" class=\"mw-redirect\" title=\"Spiritueux\">Spiritueux</a>\n",
      "</td>\n",
      "<td>2,41\n",
      "</td>\n",
      "<td>8,45\n",
      "</td>\n",
      "<td>45,21\n",
      "</td>\n",
      "<td><span data-sort-value=\"19871231 !\"></span><time class=\"nowrap date-lien\" datetime=\"1987-12-31\" data-sort-value=\"1987-12-31\"><a href=\"/wiki/31_d%C3%A9cembre\" title=\"31 décembre\">31</a> <a href=\"/wiki/D%C3%A9cembre_1987\" title=\"Décembre 1987\">décembre</a> <a href=\"/wiki/1987\" title=\"1987\">1987</a></time><sup id=\"cite_ref-76\" class=\"reference\"><a href=\"#cite_note-76\"><span class=\"cite_crochet\">[</span>Note 47<span class=\"cite_crochet\">]</span></a></sup>\n",
      "</td></tr>\n",
      "<tr>\n",
      "<td><a href=\"/wiki/Publicis_Groupe\" title=\"Publicis Groupe\">Publicis Groupe</a>\n",
      "</td>\n",
      "<td><a href=\"/wiki/Publicit%C3%A9\" title=\"Publicité\">Publicité</a>, <a href=\"/wiki/M%C3%A9dia\" title=\"Média\">médias</a>\n",
      "</td>\n",
      "<td>0,62\n",
      "</td>\n",
      "<td>10,79\n",
      "</td>\n",
      "<td>11,82\n",
      "</td>\n",
      "<td><span data-sort-value=\"20041001 !\"></span><time class=\"nowrap date-lien\" datetime=\"2004-10-01\" data-sort-value=\"2004-10-01\"><a href=\"/wiki/1er_octobre\" title=\"1er octobre\">1<sup>er</sup></a> <a href=\"/wiki/Octobre_2004\" title=\"Octobre 2004\">octobre</a> <a href=\"/wiki/2004\" title=\"2004\">2004</a></time><sup id=\"cite_ref-77\" class=\"reference\"><a href=\"#cite_note-77\"><span class=\"cite_crochet\">[</span>Note 48<span class=\"cite_crochet\">]</span></a></sup>\n",
      "</td></tr>\n",
      "<tr>\n",
      "<td><a href=\"/wiki/Renault\" title=\"Renault\">Renault</a>\n",
      "</td>\n",
      "<td><a href=\"/wiki/Automobile\" title=\"Automobile\">Automobile</a>\n",
      "</td>\n",
      "<td>0,38\n",
      "</td>\n",
      "<td>43,47\n",
      "</td>\n",
      "<td>7,2\n",
      "</td>\n",
      "<td><span data-sort-value=\"19950209 !\"></span><time class=\"nowrap date-lien\" datetime=\"1995-02-09\" data-sort-value=\"1995-02-09\"><a href=\"/wiki/9_f%C3%A9vrier\" title=\"9 février\">9</a> <a href=\"/wiki/F%C3%A9vrier_1995\" title=\"Février 1995\">février</a> <a href=\"/wiki/1995\" title=\"1995\">1995</a></time>\n",
      "</td></tr>\n",
      "<tr>\n",
      "<td><a href=\"/wiki/Safran_(entreprise)\" title=\"Safran (entreprise)\">Safran</a>\n",
      "</td>\n",
      "<td><a href=\"/wiki/A%C3%A9ronautique\" title=\"Aéronautique\">Aéronautique</a>, <a href=\"/wiki/Industrie_de_l%27armement\" title=\"Industrie de l&#39;armement\">défense</a>\n",
      "</td>\n",
      "<td>2,13\n",
      "</td>\n",
      "<td>16,63\n",
      "</td>\n",
      "<td>40,63\n",
      "</td>\n",
      "<td><span data-sort-value=\"20110919 !\"></span><time class=\"nowrap date-lien\" datetime=\"2011-09-19\" data-sort-value=\"2011-09-19\"><a href=\"/wiki/19_septembre\" title=\"19 septembre\">19</a> <a href=\"/wiki/Septembre_2011\" title=\"Septembre 2011\">septembre</a> <a href=\"/wiki/2011\" title=\"2011\">2011</a></time>\n",
      "</td></tr>\n",
      "<tr>\n",
      "<td><a href=\"/wiki/Saint-Gobain\" title=\"Saint-Gobain\">Saint-Gobain</a>\n",
      "</td>\n",
      "<td><a href=\"/wiki/Mat%C3%A9riaux_de_construction\" class=\"mw-redirect\" title=\"Matériaux de construction\">Matériaux de construction</a>, <a href=\"/wiki/Verre\" title=\"Verre\">verre</a>\n",
      "</td>\n",
      "<td>1,13\n",
      "</td>\n",
      "<td>38,13\n",
      "</td>\n",
      "<td>21,35\n",
      "</td>\n",
      "<td><span data-sort-value=\"19871231 !\"></span><time class=\"nowrap date-lien\" datetime=\"1987-12-31\" data-sort-value=\"1987-12-31\"><a href=\"/wiki/31_d%C3%A9cembre\" title=\"31 décembre\">31</a> <a href=\"/wiki/D%C3%A9cembre_1987\" title=\"Décembre 1987\">décembre</a> <a href=\"/wiki/1987\" title=\"1987\">1987</a></time>\n",
      "</td></tr>\n",
      "<tr>\n",
      "<td><a href=\"/wiki/Sanofi\" title=\"Sanofi\">Sanofi</a>\n",
      "</td>\n",
      "<td><a href=\"/wiki/Pharmacie\" title=\"Pharmacie\">Pharmacie</a>\n",
      "</td>\n",
      "<td>6,47\n",
      "</td>\n",
      "<td>36,04\n",
      "</td>\n",
      "<td>123,39\n",
      "</td>\n",
      "<td><span data-sort-value=\"19871231 !\"></span><time class=\"nowrap date-lien\" datetime=\"1987-12-31\" data-sort-value=\"1987-12-31\"><a href=\"/wiki/31_d%C3%A9cembre\" title=\"31 décembre\">31</a> <a href=\"/wiki/D%C3%A9cembre_1987\" title=\"Décembre 1987\">décembre</a> <a href=\"/wiki/1987\" title=\"1987\">1987</a></time>\n",
      "</td></tr>\n",
      "<tr>\n",
      "<td><a href=\"/wiki/Schneider_Electric\" title=\"Schneider Electric\">Schneider Electric</a>\n",
      "</td>\n",
      "<td><a href=\"/wiki/Mat%C3%A9riel_%C3%A9lectrique\" class=\"mw-redirect\" title=\"Matériel électrique\">Matériel électrique</a>\n",
      "</td>\n",
      "<td>3,34\n",
      "</td>\n",
      "<td>25,16\n",
      "</td>\n",
      "<td>63,34\n",
      "</td>\n",
      "<td><span data-sort-value=\"19871231 !\"></span><time class=\"nowrap date-lien\" datetime=\"1987-12-31\" data-sort-value=\"1987-12-31\"><a href=\"/wiki/31_d%C3%A9cembre\" title=\"31 décembre\">31</a> <a href=\"/wiki/D%C3%A9cembre_1987\" title=\"Décembre 1987\">décembre</a> <a href=\"/wiki/1987\" title=\"1987\">1987</a></time><sup id=\"cite_ref-78\" class=\"reference\"><a href=\"#cite_note-78\"><span class=\"cite_crochet\">[</span>Note 49<span class=\"cite_crochet\">]</span></a></sup>\n",
      "</td></tr>\n",
      "<tr>\n",
      "<td><a href=\"/wiki/Soci%C3%A9t%C3%A9_g%C3%A9n%C3%A9rale\" title=\"Société générale\">Société générale</a>\n",
      "</td>\n",
      "<td><a href=\"/wiki/Banque\" title=\"Banque\">Banque</a>, <a href=\"/wiki/Services_financiers\" class=\"mw-redirect\" title=\"Services financiers\">services financiers</a>, <a href=\"/wiki/Assurance\" title=\"Assurance\">assurance</a>\n",
      "</td>\n",
      "<td>0,91\n",
      "</td>\n",
      "<td>22,11\n",
      "</td>\n",
      "<td>17,42\n",
      "</td>\n",
      "<td><span data-sort-value=\"19871231 !\"></span><time class=\"nowrap date-lien\" datetime=\"1987-12-31\" data-sort-value=\"1987-12-31\"><a href=\"/wiki/31_d%C3%A9cembre\" title=\"31 décembre\">31</a> <a href=\"/wiki/D%C3%A9cembre_1987\" title=\"Décembre 1987\">décembre</a> <a href=\"/wiki/1987\" title=\"1987\">1987</a></time>\n",
      "</td></tr>\n",
      "<tr>\n",
      "<td><a href=\"/wiki/Stellantis\" title=\"Stellantis\">Stellantis</a>\n",
      "</td>\n",
      "<td><a href=\"/wiki/Automobile\" title=\"Automobile\">Automobile</a>, <a href=\"/wiki/%C3%89quipementier_automobile\" title=\"Équipementier automobile\">équipementier automobile</a>\n",
      "</td>\n",
      "<td>1,93\n",
      "</td>\n",
      "<td>86,68\n",
      "</td>\n",
      "<td>36,81\n",
      "</td>\n",
      "<td><span data-sort-value=\"19871231 !\"></span><time class=\"nowrap date-lien\" datetime=\"1987-12-31\" data-sort-value=\"1987-12-31\"><a href=\"/wiki/31_d%C3%A9cembre\" title=\"31 décembre\">31</a> <a href=\"/wiki/D%C3%A9cembre_1987\" title=\"Décembre 1987\">décembre</a> <a href=\"/wiki/1987\" title=\"1987\">1987</a></time><sup id=\"cite_ref-79\" class=\"reference\"><a href=\"#cite_note-79\"><span class=\"cite_crochet\">[</span>Note 50<span class=\"cite_crochet\">]</span></a></sup>\n",
      "</td></tr>\n",
      "<tr>\n",
      "<td><a href=\"/wiki/STMicroelectronics\" title=\"STMicroelectronics\">STMicroelectronics</a>\n",
      "</td>\n",
      "<td><a href=\"/wiki/Technologie\" title=\"Technologie\">Technologies</a>\n",
      "</td>\n",
      "<td>1,39\n",
      "</td>\n",
      "<td>9,09\n",
      "</td>\n",
      "<td>26,52\n",
      "</td>\n",
      "<td><span data-sort-value=\"20170918 !\"></span><time class=\"nowrap date-lien\" datetime=\"2017-09-18\" data-sort-value=\"2017-09-18\"><a href=\"/wiki/18_septembre\" title=\"18 septembre\">18</a> <a href=\"/wiki/Septembre_2017\" title=\"Septembre 2017\">septembre</a> <a href=\"/wiki/2017\" title=\"2017\">2017</a></time>\n",
      "</td></tr>\n",
      "<tr>\n",
      "<td><a href=\"/wiki/Teleperformance\" title=\"Teleperformance\">Teleperformance</a>\n",
      "</td>\n",
      "<td><a href=\"/wiki/Soci%C3%A9t%C3%A9_de_services\" title=\"Société de services\">Société de services</a>, <a href=\"/wiki/Gestion_de_la_relation_client\" title=\"Gestion de la relation client\">Gestion de la relation client</a>\n",
      "</td>\n",
      "<td>0,91\n",
      "</td>\n",
      "<td>5,73\n",
      "</td>\n",
      "<td>17,49\n",
      "</td>\n",
      "<td><span data-sort-value=\"20200622 !\"></span><time class=\"nowrap date-lien\" datetime=\"2020-06-22\" data-sort-value=\"2020-06-22\"><a href=\"/wiki/22_juin\" title=\"22 juin\">22</a> <a href=\"/wiki/Juin_2020\" title=\"Juin 2020\">juin</a> <a href=\"/wiki/2020\" title=\"2020\">2020</a></time>\n",
      "</td></tr>\n",
      "<tr>\n",
      "<td><a href=\"/wiki/Thales\" title=\"Thales\">Thales</a>\n",
      "</td>\n",
      "<td><a href=\"/wiki/%C3%89quipementier_a%C3%A9ronautique\" title=\"Équipementier aéronautique\">Équipementier aéronautique</a>\n",
      "</td>\n",
      "<td>1,35\n",
      "</td>\n",
      "<td>16,99\n",
      "</td>\n",
      "<td>25,64\n",
      "</td>\n",
      "<td><span data-sort-value=\"20190624 !\"></span><time class=\"nowrap date-lien\" datetime=\"2019-06-24\" data-sort-value=\"2019-06-24\"><a href=\"/wiki/24_juin\" title=\"24 juin\">24</a> <a href=\"/wiki/Juin_2019\" title=\"Juin 2019\">juin</a> <a href=\"/wiki/2019\" title=\"2019\">2019</a></time>\n",
      "</td></tr>\n",
      "<tr>\n",
      "<td><a href=\"/wiki/TotalEnergies\" title=\"TotalEnergies\">TotalEnergies</a>\n",
      "</td>\n",
      "<td><a href=\"/wiki/Industrie_p%C3%A9troli%C3%A8re\" title=\"Industrie pétrolière\">Industrie pétrolière</a>, <a href=\"/wiki/Gaz_industriel\" title=\"Gaz industriel\">gaz industriel</a>\n",
      "</td>\n",
      "<td>6,87\n",
      "</td>\n",
      "<td>125,63\n",
      "</td>\n",
      "<td>131,35\n",
      "</td>\n",
      "<td><span data-sort-value=\"19871231 !\"></span><time class=\"nowrap date-lien\" datetime=\"1987-12-31\" data-sort-value=\"1987-12-31\"><a href=\"/wiki/31_d%C3%A9cembre\" title=\"31 décembre\">31</a> <a href=\"/wiki/D%C3%A9cembre_1987\" title=\"Décembre 1987\">décembre</a> <a href=\"/wiki/1987\" title=\"1987\">1987</a></time><sup id=\"cite_ref-80\" class=\"reference\"><a href=\"#cite_note-80\"><span class=\"cite_crochet\">[</span>Note 51<span class=\"cite_crochet\">]</span></a></sup>\n",
      "</td></tr>\n",
      "<tr>\n",
      "<td><a href=\"/wiki/Unibail-Rodamco-Westfield\" title=\"Unibail-Rodamco-Westfield\">Unibail-Rodamco-Westfield</a>\n",
      "</td>\n",
      "<td><a href=\"/wiki/Immobilier\" class=\"mw-redirect\" title=\"Immobilier\">Immobilier</a>\n",
      "</td>\n",
      "<td>0,36\n",
      "</td>\n",
      "<td>1,9\n",
      "</td>\n",
      "<td>6,81\n",
      "</td>\n",
      "<td><span data-sort-value=\"20070618 !\"></span><time class=\"nowrap date-lien\" datetime=\"2007-06-18\" data-sort-value=\"2007-06-18\"><a href=\"/wiki/18_juin\" title=\"18 juin\">18</a> <a href=\"/wiki/Juin_2007\" title=\"Juin 2007\">juin</a> <a href=\"/wiki/2007\" title=\"2007\">2007</a></time>\n",
      "</td></tr>\n",
      "<tr>\n",
      "<td><a href=\"/wiki/Veolia\" title=\"Veolia\">Veolia</a>\n",
      "</td>\n",
      "<td><a href=\"/wiki/Environnement\" title=\"Environnement\">Environnement</a>, <a href=\"/wiki/%C3%89nergie\" title=\"Énergie\">énergie</a>\n",
      "</td>\n",
      "<td>0,87\n",
      "</td>\n",
      "<td>26,01\n",
      "</td>\n",
      "<td>16,55\n",
      "</td>\n",
      "<td><span data-sort-value=\"19871231 !\"></span><time class=\"nowrap date-lien\" datetime=\"1987-12-31\" data-sort-value=\"1987-12-31\"><a href=\"/wiki/31_d%C3%A9cembre\" title=\"31 décembre\">31</a> <a href=\"/wiki/D%C3%A9cembre_1987\" title=\"Décembre 1987\">décembre</a> <a href=\"/wiki/1987\" title=\"1987\">1987</a></time><sup id=\"cite_ref-81\" class=\"reference\"><a href=\"#cite_note-81\"><span class=\"cite_crochet\">[</span>Note 52<span class=\"cite_crochet\">]</span></a></sup>\n",
      "</td></tr>\n",
      "<tr>\n",
      "<td><a href=\"/wiki/Vinci_(entreprise)\" title=\"Vinci (entreprise)\">Vinci</a>\n",
      "</td>\n",
      "<td><a href=\"/wiki/BTP\" class=\"mw-redirect\" title=\"BTP\">BTP</a>, <a href=\"/wiki/Immobilier\" class=\"mw-redirect\" title=\"Immobilier\">Immobilier</a>\n",
      "</td>\n",
      "<td>2,67\n",
      "</td>\n",
      "<td>43,93\n",
      "</td>\n",
      "<td>51,23\n",
      "</td>\n",
      "<td><span data-sort-value=\"20020403 !\"></span><time class=\"nowrap date-lien\" datetime=\"2002-04-03\" data-sort-value=\"2002-04-03\"><a href=\"/wiki/3_avril\" title=\"3 avril\">3</a> <a href=\"/wiki/Avril_2002\" title=\"Avril 2002\">avril</a> <a href=\"/wiki/2002\" title=\"2002\">2002</a></time>\n",
      "</td></tr>\n",
      "<tr>\n",
      "<td><a href=\"/wiki/Vivendi\" title=\"Vivendi\">Vivendi</a>\n",
      "</td>\n",
      "<td><a href=\"/wiki/M%C3%A9dia\" title=\"Média\">Médias</a>, <a href=\"/wiki/Publicit%C3%A9\" title=\"Publicité\">publicité</a>, <a href=\"/wiki/T%C3%A9l%C3%A9communications\" title=\"Télécommunications\">télécommunications</a>\n",
      "</td>\n",
      "<td>0,56\n",
      "</td>\n",
      "<td>16,09\n",
      "</td>\n",
      "<td>10,61\n",
      "</td>\n",
      "<td><span data-sort-value=\"19871231 !\"></span><time class=\"nowrap date-lien\" datetime=\"1987-12-31\" data-sort-value=\"1987-12-31\"><a href=\"/wiki/31_d%C3%A9cembre\" title=\"31 décembre\">31</a> <a href=\"/wiki/D%C3%A9cembre_1987\" title=\"Décembre 1987\">décembre</a> <a href=\"/wiki/1987\" title=\"1987\">1987</a></time><sup id=\"cite_ref-82\" class=\"reference\"><a href=\"#cite_note-82\"><span class=\"cite_crochet\">[</span>Note 53<span class=\"cite_crochet\">]</span></a></sup>\n",
      "</td></tr>\n",
      "<tr>\n",
      "<td><a href=\"/wiki/Worldline\" title=\"Worldline\">Worldline</a>\n",
      "</td>\n",
      "<td><a href=\"/wiki/Technologie_financi%C3%A8re\" title=\"Technologie financière\">Technologie financière</a>\n",
      "</td>\n",
      "<td>0,52\n",
      "</td>\n",
      "<td>2,75\n",
      "</td>\n",
      "<td>9,96\n",
      "</td>\n",
      "<td><span data-sort-value=\"20200323 !\"></span><time class=\"nowrap date-lien\" datetime=\"2020-03-23\" data-sort-value=\"2020-03-23\"><a href=\"/wiki/23_mars\" title=\"23 mars\">23</a> <a href=\"/wiki/Mars_2020\" title=\"Mars 2020\">mars</a> <a href=\"/wiki/2020\" title=\"2020\">2020</a></time><sup id=\"cite_ref-:0_83-0\" class=\"reference\"><a href=\"#cite_note-:0-83\"><span class=\"cite_crochet\">[</span>30<span class=\"cite_crochet\">]</span></a></sup>\n",
      "</td></tr></tbody></table>\n"
     ]
    }
   ],
   "source": [
    "table = contenu[debut:fin+1]\n",
    "print(table)"
   ]
  },
  {
   "cell_type": "markdown",
   "metadata": {},
   "source": [
    "**EXERCICE** Coder une fonction prenant la table et renvoyant la liste des lignes de la table. (les lignes commencent par la balise `<tr>` et finissent pas `</tr>`)"
   ]
  },
  {
   "cell_type": "code",
   "execution_count": 19,
   "metadata": {},
   "outputs": [],
   "source": [
    "def decoupe_lignes(table: str) -> List[str]:\n",
    "    lignes = list()\n",
    "    fin = 0\n",
    "    while True:\n",
    "        debut = table.find(\"<tr>\", fin) + 4\n",
    "        if debut == 3:\n",
    "            break\n",
    "        fin = table.find(\"</tr>\", debut)\n",
    "        lignes.append(table[debut:fin])\n",
    "    return lignes\n"
   ]
  },
  {
   "cell_type": "code",
   "execution_count": 20,
   "metadata": {},
   "outputs": [],
   "source": [
    "entree_test = \"<table> blabla <tr> première ligne</tr>\\n<tr>deuxième ligne</tr>\\n</table>\"\n",
    "sortie_test = [\n",
    "    \" première ligne\",\n",
    "    \"deuxième ligne\"\n",
    "]"
   ]
  },
  {
   "cell_type": "code",
   "execution_count": 21,
   "metadata": {},
   "outputs": [],
   "source": [
    "assert sortie_test == decoupe_lignes(entree_test)"
   ]
  },
  {
   "cell_type": "code",
   "execution_count": 22,
   "metadata": {},
   "outputs": [],
   "source": [
    "lignes = decoupe_lignes(table)"
   ]
  },
  {
   "cell_type": "code",
   "execution_count": 23,
   "metadata": {},
   "outputs": [
    {
     "data": {
      "text/plain": [
       "41"
      ]
     },
     "execution_count": 23,
     "metadata": {},
     "output_type": "execute_result"
    }
   ],
   "source": [
    "len(lignes)"
   ]
  },
  {
   "cell_type": "code",
   "execution_count": 24,
   "metadata": {},
   "outputs": [],
   "source": [
    "header, *lignes = lignes"
   ]
  },
  {
   "cell_type": "code",
   "execution_count": 25,
   "metadata": {},
   "outputs": [
    {
     "name": "stdout",
     "output_type": "stream",
     "text": [
      "\n",
      "<td><a href=\"/wiki/Air_liquide\" title=\"Air liquide\">Air liquide</a>\n",
      "</td>\n",
      "<td><a href=\"/wiki/Gaz_industriel\" title=\"Gaz industriel\">Gaz industriel</a>\n",
      "</td>\n",
      "<td>3,50\n",
      "</td>\n",
      "<td>20,49\n",
      "</td>\n",
      "<td>66,56\n",
      "</td>\n",
      "<td><span data-sort-value=\"19871231 !\"></span><time class=\"nowrap date-lien\" datetime=\"1987-12-31\" data-sort-value=\"1987-12-31\"><a href=\"/wiki/31_d%C3%A9cembre\" title=\"31 décembre\">31</a> <a href=\"/wiki/D%C3%A9cembre_1987\" title=\"Décembre 1987\">décembre</a> <a href=\"/wiki/1987\" title=\"1987\">1987</a></time>\n",
      "</td>\n"
     ]
    }
   ],
   "source": [
    "print(lignes[0])"
   ]
  },
  {
   "cell_type": "markdown",
   "metadata": {},
   "source": [
    "**EXERCICE** coder une fonction qui extrait les éléments des différentes colonnes pour une ligne donnée."
   ]
  },
  {
   "cell_type": "code",
   "execution_count": 48,
   "metadata": {},
   "outputs": [],
   "source": [
    "def decoupe_colonnes(ligne: str) -> List[str]:\n",
    "    colonnes = list()\n",
    "    fin = 0\n",
    "    while True:\n",
    "        debut = ligne.find(\"<td>\", fin) + 4\n",
    "        if debut == 3:\n",
    "            break\n",
    "        fin = ligne.find(\"</td>\", debut)\n",
    "        colonnes.append(ligne[debut:fin].strip())\n",
    "    return colonnes"
   ]
  },
  {
   "cell_type": "code",
   "execution_count": 51,
   "metadata": {},
   "outputs": [],
   "source": [
    "entree = \"<td>blabla 12\\n</td>...<td>deuxième  </td>\"\n",
    "sortie = [\n",
    "    \"blabla 12\",\n",
    "    \"deuxième\"\n",
    "]"
   ]
  },
  {
   "cell_type": "code",
   "execution_count": 52,
   "metadata": {},
   "outputs": [],
   "source": [
    "assert sortie == decoupe_colonnes(entree)"
   ]
  },
  {
   "cell_type": "code",
   "execution_count": 53,
   "metadata": {},
   "outputs": [],
   "source": [
    "table2d = [decoupe_colonnes(ligne) for ligne in lignes]"
   ]
  },
  {
   "cell_type": "code",
   "execution_count": 54,
   "metadata": {},
   "outputs": [
    {
     "data": {
      "text/plain": [
       "['<a href=\"/wiki/Air_liquide\" title=\"Air liquide\">Air liquide</a>',\n",
       " '<a href=\"/wiki/Gaz_industriel\" title=\"Gaz industriel\">Gaz industriel</a>',\n",
       " '3,50',\n",
       " '20,49',\n",
       " '66,56',\n",
       " '<span data-sort-value=\"19871231 !\"></span><time class=\"nowrap date-lien\" datetime=\"1987-12-31\" data-sort-value=\"1987-12-31\"><a href=\"/wiki/31_d%C3%A9cembre\" title=\"31 décembre\">31</a> <a href=\"/wiki/D%C3%A9cembre_1987\" title=\"Décembre 1987\">décembre</a> <a href=\"/wiki/1987\" title=\"1987\">1987</a></time>']"
      ]
     },
     "execution_count": 54,
     "metadata": {},
     "output_type": "execute_result"
    }
   ],
   "source": [
    "table2d[0]"
   ]
  },
  {
   "cell_type": "markdown",
   "metadata": {},
   "source": [
    "**EXERCICE** En s'inspirant du contenu de `header`, extraire une information complètement structurée de la table."
   ]
  },
  {
   "cell_type": "markdown",
   "metadata": {},
   "source": [
    "## Apparté sur les expressions régulières"
   ]
  },
  {
   "cell_type": "code",
   "execution_count": 55,
   "metadata": {},
   "outputs": [],
   "source": [
    "chaine = \"<td> blablabl <a>contenu</a> </td>\""
   ]
  },
  {
   "cell_type": "code",
   "execution_count": 56,
   "metadata": {},
   "outputs": [],
   "source": [
    "motif = re.compile(\"<a.*</a>\")"
   ]
  },
  {
   "cell_type": "code",
   "execution_count": 57,
   "metadata": {},
   "outputs": [
    {
     "data": {
      "text/plain": [
       "<re.Match object; span=(0, 28), match='<a>blabla</a><a>reblabla</a>'>"
      ]
     },
     "execution_count": 57,
     "metadata": {},
     "output_type": "execute_result"
    }
   ],
   "source": [
    "motif.match(\"<a>blabla</a><a>reblabla</a>\")"
   ]
  },
  {
   "cell_type": "code",
   "execution_count": 58,
   "metadata": {},
   "outputs": [
    {
     "data": {
      "text/plain": [
       "['<a>blabla</a><a>reblabla</a>']"
      ]
     },
     "execution_count": 58,
     "metadata": {},
     "output_type": "execute_result"
    }
   ],
   "source": [
    "motif.findall(\"<a>blabla</a><a>reblabla</a>\")"
   ]
  },
  {
   "cell_type": "code",
   "execution_count": 59,
   "metadata": {},
   "outputs": [],
   "source": [
    "motif_petit = re.compile(\"<a.*?</a>\")"
   ]
  },
  {
   "cell_type": "code",
   "execution_count": 60,
   "metadata": {},
   "outputs": [
    {
     "data": {
      "text/plain": [
       "['<a>blabla</a>', '<a>reblabla</a>']"
      ]
     },
     "execution_count": 60,
     "metadata": {},
     "output_type": "execute_result"
    }
   ],
   "source": [
    "motif_petit.findall(\"<a>blabla</a><a>reblabla</a>\")"
   ]
  },
  {
   "cell_type": "code",
   "execution_count": 61,
   "metadata": {},
   "outputs": [
    {
     "data": {
      "text/plain": [
       "['<a href=\"#cite_note-59\"><span class=\"cite_crochet\">[</span>27<span class=\"cite_crochet\">]</span></a>',\n",
       " '<a href=\"/wiki/Chiffre_d%27affaires\" title=\"Chiffre d&#39;affaires\">Chiffre d\\'affaires</a> 2020 (en milliards d\\'euros)<sup id=\"cite_ref-60\" class=\"reference\"><a href=\"#cite_note-60\"><span class=\"cite_crochet\">[</span>28<span class=\"cite_crochet\">]</span></a>',\n",
       " '<a href=\"/wiki/Capitalisation_boursi%C3%A8re\" title=\"Capitalisation boursière\">Capitalisation boursière</a> (en milliards d\\'euros)<sup id=\"cite_ref-61\" class=\"reference\"><a href=\"#cite_note-61\"><span class=\"cite_crochet\">[</span>29<span class=\"cite_crochet\">]</span></a>']"
      ]
     },
     "execution_count": 61,
     "metadata": {},
     "output_type": "execute_result"
    }
   ],
   "source": [
    "motif.findall(header)"
   ]
  },
  {
   "cell_type": "markdown",
   "metadata": {},
   "source": [
    "## Retour à l'exercice"
   ]
  },
  {
   "cell_type": "code",
   "execution_count": 62,
   "metadata": {},
   "outputs": [],
   "source": [
    "@dataclass\n",
    "class Entreprise:\n",
    "    nom: str\n",
    "    lien: str\n",
    "    secteur: str\n",
    "    poids_indiciel: float\n",
    "    chiffre_affaire_euros: int\n",
    "    capitalisation_euros: int\n",
    "    date_entree: Tuple[int, int, int]"
   ]
  },
  {
   "cell_type": "code",
   "execution_count": 63,
   "metadata": {},
   "outputs": [],
   "source": [
    "def structure(ligne: str) -> Entreprise:\n",
    "    ..."
   ]
  },
  {
   "cell_type": "code",
   "execution_count": 64,
   "metadata": {},
   "outputs": [
    {
     "name": "stdout",
     "output_type": "stream",
     "text": [
      "'<a href=\"/wiki/Air_liquide\" title=\"Air liquide\">Air liquide</a>'\n",
      "'<a href=\"/wiki/Gaz_industriel\" title=\"Gaz industriel\">Gaz industriel</a>'\n",
      "'3,50'\n",
      "'20,49'\n",
      "'66,56'\n",
      "'<span data-sort-value=\"19871231 !\"></span><time class=\"nowrap date-lien\" datetime=\"1987-12-31\" data-sort-value=\"1987-12-31\"><a href=\"/wiki/31_d%C3%A9cembre\" title=\"31 décembre\">31</a> <a href=\"/wiki/D%C3%A9cembre_1987\" title=\"Décembre 1987\">décembre</a> <a href=\"/wiki/1987\" title=\"1987\">1987</a></time>'\n"
     ]
    }
   ],
   "source": [
    "for colonne in table2d[0]:\n",
    "    print(repr(colonne))"
   ]
  },
  {
   "cell_type": "code",
   "execution_count": 65,
   "metadata": {},
   "outputs": [],
   "source": [
    "nom, secteur, pi, ca, cb, en = table2d[0]"
   ]
  },
  {
   "cell_type": "code",
   "execution_count": 42,
   "metadata": {},
   "outputs": [],
   "source": [
    "motif_nom = re.compile(\"<a href=\\\"(.*?)\\\".*?>(.*?)</a>\")"
   ]
  },
  {
   "cell_type": "code",
   "execution_count": 43,
   "metadata": {},
   "outputs": [],
   "source": [
    "resultat = motif_nom.match(nom)"
   ]
  },
  {
   "cell_type": "code",
   "execution_count": 44,
   "metadata": {},
   "outputs": [
    {
     "data": {
      "text/plain": [
       "('/wiki/Air_liquide', 'Air liquide')"
      ]
     },
     "execution_count": 44,
     "metadata": {},
     "output_type": "execute_result"
    }
   ],
   "source": [
    "resultat.groups()"
   ]
  },
  {
   "cell_type": "code",
   "execution_count": 66,
   "metadata": {},
   "outputs": [],
   "source": [
    "motif_secteur = re.compile(\"<a href=\\\".*?\\\".*?>(.*?)</a>\")"
   ]
  },
  {
   "cell_type": "code",
   "execution_count": 68,
   "metadata": {},
   "outputs": [
    {
     "data": {
      "text/plain": [
       "('Gaz industriel',)"
      ]
     },
     "execution_count": 68,
     "metadata": {},
     "output_type": "execute_result"
    }
   ],
   "source": [
    "motif_secteur.match(secteur).groups()"
   ]
  },
  {
   "cell_type": "code",
   "execution_count": 71,
   "metadata": {},
   "outputs": [],
   "source": [
    "motif_nombre = re.compile(\"([0-9]+),([0-9]+)\")"
   ]
  },
  {
   "cell_type": "code",
   "execution_count": 72,
   "metadata": {},
   "outputs": [
    {
     "data": {
      "text/plain": [
       "('3', '50')"
      ]
     },
     "execution_count": 72,
     "metadata": {},
     "output_type": "execute_result"
    }
   ],
   "source": [
    "motif_nombre.match(pi).groups()"
   ]
  },
  {
   "cell_type": "code",
   "execution_count": 73,
   "metadata": {},
   "outputs": [
    {
     "data": {
      "text/plain": [
       "('20', '49')"
      ]
     },
     "execution_count": 73,
     "metadata": {},
     "output_type": "execute_result"
    }
   ],
   "source": [
    "motif_nombre.match(ca).groups()"
   ]
  },
  {
   "cell_type": "code",
   "execution_count": 74,
   "metadata": {},
   "outputs": [
    {
     "data": {
      "text/plain": [
       "('66', '56')"
      ]
     },
     "execution_count": 74,
     "metadata": {},
     "output_type": "execute_result"
    }
   ],
   "source": [
    "motif_nombre.match(cb).groups()"
   ]
  },
  {
   "cell_type": "code",
   "execution_count": 75,
   "metadata": {},
   "outputs": [],
   "source": [
    "motif_introduction = re.compile(\".*datetime=\\\"([0-9]+)-([0-9]+)-([0-9]+)\\\".*\")"
   ]
  },
  {
   "cell_type": "code",
   "execution_count": 77,
   "metadata": {},
   "outputs": [
    {
     "data": {
      "text/plain": [
       "('1987', '12', '31')"
      ]
     },
     "execution_count": 77,
     "metadata": {},
     "output_type": "execute_result"
    }
   ],
   "source": [
    "motif_introduction.match(en).groups()"
   ]
  },
  {
   "cell_type": "code",
   "execution_count": null,
   "metadata": {},
   "outputs": [],
   "source": []
  }
 ],
 "metadata": {
  "kernelspec": {
   "display_name": "Python 3",
   "language": "python",
   "name": "python3"
  },
  "language_info": {
   "codemirror_mode": {
    "name": "ipython",
    "version": 3
   },
   "file_extension": ".py",
   "mimetype": "text/x-python",
   "name": "python",
   "nbconvert_exporter": "python",
   "pygments_lexer": "ipython3",
   "version": "3.7.4"
  }
 },
 "nbformat": 4,
 "nbformat_minor": 4
}
