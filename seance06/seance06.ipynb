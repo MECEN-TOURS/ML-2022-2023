{
 "cells": [
  {
   "cell_type": "code",
   "execution_count": 1,
   "metadata": {},
   "outputs": [
    {
     "name": "stdout",
     "output_type": "stream",
     "text": [
      "première ligne\n",
      "<a>\n",
      "test dans a\n",
      "<b class=\"prems deuz\">\n",
      "test dans b\n",
      "</b>\n",
      "<c> vide </c>\n",
      "</a>\n",
      "<d attribut='toto'> dans d </d>\n",
      "\n"
     ]
    }
   ],
   "source": [
    "code = \"\"\"première ligne\n",
    "<a>\n",
    "test dans a\n",
    "<b class=\"prems deuz\">\n",
    "test dans b\n",
    "</b>\n",
    "<c> vide </c>\n",
    "</a>\n",
    "<d attribut='toto'> dans d </d>\n",
    "\"\"\"\n",
    "print(code)"
   ]
  },
  {
   "cell_type": "markdown",
   "metadata": {},
   "source": [
    "# Structure d'arbre sur bs4"
   ]
  },
  {
   "cell_type": "code",
   "execution_count": 2,
   "metadata": {},
   "outputs": [],
   "source": [
    "from bs4 import BeautifulSoup"
   ]
  },
  {
   "cell_type": "code",
   "execution_count": 3,
   "metadata": {},
   "outputs": [],
   "source": [
    "soupe = BeautifulSoup(code, \"lxml\")"
   ]
  },
  {
   "cell_type": "code",
   "execution_count": 4,
   "metadata": {},
   "outputs": [
    {
     "data": {
      "text/plain": [
       "bs4.BeautifulSoup"
      ]
     },
     "execution_count": 4,
     "metadata": {},
     "output_type": "execute_result"
    }
   ],
   "source": [
    "type(soupe)"
   ]
  },
  {
   "cell_type": "code",
   "execution_count": 5,
   "metadata": {},
   "outputs": [
    {
     "data": {
      "text/plain": [
       "'<html><body><p>première ligne\\n<a>\\ntest dans a\\n<b class=\"prems deuz\">\\ntest dans b\\n</b>\\n<c> vide </c>\\n</a>\\n<d attribut=\"toto\"> dans d </d>\\n</p></body></html>'"
      ]
     },
     "execution_count": 5,
     "metadata": {},
     "output_type": "execute_result"
    }
   ],
   "source": [
    "str(soupe)"
   ]
  },
  {
   "cell_type": "code",
   "execution_count": 6,
   "metadata": {},
   "outputs": [
    {
     "data": {
      "text/plain": [
       "list"
      ]
     },
     "execution_count": 6,
     "metadata": {},
     "output_type": "execute_result"
    }
   ],
   "source": [
    "type(soupe.contents)"
   ]
  },
  {
   "cell_type": "code",
   "execution_count": 7,
   "metadata": {},
   "outputs": [
    {
     "data": {
      "text/plain": [
       "1"
      ]
     },
     "execution_count": 7,
     "metadata": {},
     "output_type": "execute_result"
    }
   ],
   "source": [
    "len(soupe.contents)"
   ]
  },
  {
   "cell_type": "code",
   "execution_count": 8,
   "metadata": {},
   "outputs": [
    {
     "data": {
      "text/plain": [
       "bs4.element.Tag"
      ]
     },
     "execution_count": 8,
     "metadata": {},
     "output_type": "execute_result"
    }
   ],
   "source": [
    "enfant = soupe.contents[0]\n",
    "type(enfant)"
   ]
  },
  {
   "cell_type": "code",
   "execution_count": 9,
   "metadata": {},
   "outputs": [
    {
     "data": {
      "text/plain": [
       "'html'"
      ]
     },
     "execution_count": 9,
     "metadata": {},
     "output_type": "execute_result"
    }
   ],
   "source": [
    "enfant.name"
   ]
  },
  {
   "cell_type": "code",
   "execution_count": 10,
   "metadata": {},
   "outputs": [
    {
     "data": {
      "text/plain": [
       "[<body><p>première ligne\n",
       " <a>\n",
       " test dans a\n",
       " <b class=\"prems deuz\">\n",
       " test dans b\n",
       " </b>\n",
       " <c> vide </c>\n",
       " </a>\n",
       " <d attribut=\"toto\"> dans d </d>\n",
       " </p></body>]"
      ]
     },
     "execution_count": 10,
     "metadata": {},
     "output_type": "execute_result"
    }
   ],
   "source": [
    "enfant.contents"
   ]
  },
  {
   "cell_type": "code",
   "execution_count": 11,
   "metadata": {},
   "outputs": [
    {
     "data": {
      "text/plain": [
       "bs4.element.Tag"
      ]
     },
     "execution_count": 11,
     "metadata": {},
     "output_type": "execute_result"
    }
   ],
   "source": [
    "interne = soupe.html.body.p\n",
    "type(interne)"
   ]
  },
  {
   "cell_type": "code",
   "execution_count": 12,
   "metadata": {},
   "outputs": [
    {
     "data": {
      "text/plain": [
       "'p'"
      ]
     },
     "execution_count": 12,
     "metadata": {},
     "output_type": "execute_result"
    }
   ],
   "source": [
    "interne.name"
   ]
  },
  {
   "cell_type": "code",
   "execution_count": 13,
   "metadata": {},
   "outputs": [
    {
     "name": "stdout",
     "output_type": "stream",
     "text": [
      "<p>\n",
      " première ligne\n",
      " <a>\n",
      "  test dans a\n",
      "  <b class=\"prems deuz\">\n",
      "   test dans b\n",
      "  </b>\n",
      "  <c>\n",
      "   vide\n",
      "  </c>\n",
      " </a>\n",
      " <d attribut=\"toto\">\n",
      "  dans d\n",
      " </d>\n",
      "</p>\n"
     ]
    }
   ],
   "source": [
    "print(interne.prettify())"
   ]
  },
  {
   "cell_type": "code",
   "execution_count": 14,
   "metadata": {},
   "outputs": [
    {
     "data": {
      "text/plain": [
       "5"
      ]
     },
     "execution_count": 14,
     "metadata": {},
     "output_type": "execute_result"
    }
   ],
   "source": [
    "len(interne.contents)"
   ]
  },
  {
   "cell_type": "code",
   "execution_count": 15,
   "metadata": {},
   "outputs": [
    {
     "data": {
      "text/plain": [
       "[bs4.element.NavigableString,\n",
       " bs4.element.Tag,\n",
       " bs4.element.NavigableString,\n",
       " bs4.element.Tag,\n",
       " bs4.element.NavigableString]"
      ]
     },
     "execution_count": 15,
     "metadata": {},
     "output_type": "execute_result"
    }
   ],
   "source": [
    "[type(c) for c in interne.contents]"
   ]
  },
  {
   "cell_type": "code",
   "execution_count": 16,
   "metadata": {},
   "outputs": [],
   "source": [
    "un, deux, trois, quatre, cinq = interne.contents"
   ]
  },
  {
   "cell_type": "code",
   "execution_count": 17,
   "metadata": {},
   "outputs": [
    {
     "data": {
      "text/plain": [
       "'première ligne\\n'"
      ]
     },
     "execution_count": 17,
     "metadata": {},
     "output_type": "execute_result"
    }
   ],
   "source": [
    "un"
   ]
  },
  {
   "cell_type": "code",
   "execution_count": 18,
   "metadata": {},
   "outputs": [
    {
     "data": {
      "text/plain": [
       "bs4.element.NavigableString"
      ]
     },
     "execution_count": 18,
     "metadata": {},
     "output_type": "execute_result"
    }
   ],
   "source": [
    "type(un)"
   ]
  },
  {
   "cell_type": "code",
   "execution_count": 19,
   "metadata": {},
   "outputs": [
    {
     "data": {
      "text/plain": [
       "'\\n'"
      ]
     },
     "execution_count": 19,
     "metadata": {},
     "output_type": "execute_result"
    }
   ],
   "source": [
    "trois"
   ]
  },
  {
   "cell_type": "code",
   "execution_count": 20,
   "metadata": {},
   "outputs": [
    {
     "data": {
      "text/plain": [
       "'\\n'"
      ]
     },
     "execution_count": 20,
     "metadata": {},
     "output_type": "execute_result"
    }
   ],
   "source": [
    "cinq"
   ]
  },
  {
   "cell_type": "code",
   "execution_count": 21,
   "metadata": {},
   "outputs": [
    {
     "data": {
      "text/plain": [
       "<a>\n",
       "test dans a\n",
       "<b class=\"prems deuz\">\n",
       "test dans b\n",
       "</b>\n",
       "<c> vide </c>\n",
       "</a>"
      ]
     },
     "execution_count": 21,
     "metadata": {},
     "output_type": "execute_result"
    }
   ],
   "source": [
    "deux"
   ]
  },
  {
   "cell_type": "code",
   "execution_count": 22,
   "metadata": {},
   "outputs": [
    {
     "data": {
      "text/plain": [
       "<d attribut=\"toto\"> dans d </d>"
      ]
     },
     "execution_count": 22,
     "metadata": {},
     "output_type": "execute_result"
    }
   ],
   "source": [
    "quatre"
   ]
  },
  {
   "cell_type": "code",
   "execution_count": 23,
   "metadata": {},
   "outputs": [
    {
     "data": {
      "text/plain": [
       "'toto'"
      ]
     },
     "execution_count": 23,
     "metadata": {},
     "output_type": "execute_result"
    }
   ],
   "source": [
    "quatre[\"attribut\"]"
   ]
  },
  {
   "cell_type": "code",
   "execution_count": 24,
   "metadata": {},
   "outputs": [
    {
     "data": {
      "text/plain": [
       "[' dans d ']"
      ]
     },
     "execution_count": 24,
     "metadata": {},
     "output_type": "execute_result"
    }
   ],
   "source": [
    "quatre.contents"
   ]
  },
  {
   "cell_type": "code",
   "execution_count": 25,
   "metadata": {},
   "outputs": [
    {
     "data": {
      "text/plain": [
       "' dans d '"
      ]
     },
     "execution_count": 25,
     "metadata": {},
     "output_type": "execute_result"
    }
   ],
   "source": [
    "quatre.get_text()"
   ]
  },
  {
   "cell_type": "code",
   "execution_count": 26,
   "metadata": {},
   "outputs": [
    {
     "data": {
      "text/plain": [
       "<a>\n",
       "test dans a\n",
       "<b class=\"prems deuz\">\n",
       "test dans b\n",
       "</b>\n",
       "<c> vide </c>\n",
       "</a>"
      ]
     },
     "execution_count": 26,
     "metadata": {},
     "output_type": "execute_result"
    }
   ],
   "source": [
    "deux"
   ]
  },
  {
   "cell_type": "code",
   "execution_count": 27,
   "metadata": {},
   "outputs": [
    {
     "data": {
      "text/plain": [
       "['\\ntest dans a\\n',\n",
       " <b class=\"prems deuz\">\n",
       " test dans b\n",
       " </b>,\n",
       " '\\n',\n",
       " <c> vide </c>,\n",
       " '\\n']"
      ]
     },
     "execution_count": 27,
     "metadata": {},
     "output_type": "execute_result"
    }
   ],
   "source": [
    "deux.contents"
   ]
  },
  {
   "cell_type": "code",
   "execution_count": 28,
   "metadata": {},
   "outputs": [
    {
     "data": {
      "text/plain": [
       "<p>première ligne\n",
       "<a>\n",
       "test dans a\n",
       "<b class=\"prems deuz\">\n",
       "test dans b\n",
       "</b>\n",
       "<c> vide </c>\n",
       "</a>\n",
       "<d attribut=\"toto\"> dans d </d>\n",
       "</p>"
      ]
     },
     "execution_count": 28,
     "metadata": {},
     "output_type": "execute_result"
    }
   ],
   "source": [
    "deux.parent"
   ]
  },
  {
   "cell_type": "markdown",
   "metadata": {},
   "source": [
    "# Requêtes bs4"
   ]
  },
  {
   "cell_type": "code",
   "execution_count": 29,
   "metadata": {},
   "outputs": [
    {
     "name": "stdout",
     "output_type": "stream",
     "text": [
      "<html>\n",
      " <body>\n",
      "  <p>\n",
      "   première ligne\n",
      "   <a>\n",
      "    test dans a\n",
      "    <b class=\"prems deuz\">\n",
      "     test dans b\n",
      "    </b>\n",
      "    <c>\n",
      "     vide\n",
      "    </c>\n",
      "   </a>\n",
      "   <d attribut=\"toto\">\n",
      "    dans d\n",
      "   </d>\n",
      "  </p>\n",
      " </body>\n",
      "</html>\n"
     ]
    }
   ],
   "source": [
    "print(soupe.prettify())"
   ]
  },
  {
   "cell_type": "code",
   "execution_count": 30,
   "metadata": {},
   "outputs": [
    {
     "data": {
      "text/plain": [
       "<d attribut=\"toto\"> dans d </d>"
      ]
     },
     "execution_count": 30,
     "metadata": {},
     "output_type": "execute_result"
    }
   ],
   "source": [
    "soupe.find(\"d\")"
   ]
  },
  {
   "cell_type": "code",
   "execution_count": 31,
   "metadata": {},
   "outputs": [
    {
     "data": {
      "text/plain": [
       "[<c> vide </c>, <d attribut=\"toto\"> dans d </d>]"
      ]
     },
     "execution_count": 31,
     "metadata": {},
     "output_type": "execute_result"
    }
   ],
   "source": [
    "soupe.find_all([\"c\", \"d\"])"
   ]
  },
  {
   "cell_type": "code",
   "execution_count": 32,
   "metadata": {},
   "outputs": [],
   "source": [
    "import re"
   ]
  },
  {
   "cell_type": "code",
   "execution_count": 33,
   "metadata": {},
   "outputs": [
    {
     "data": {
      "text/plain": [
       "[<a>\n",
       " test dans a\n",
       " <b class=\"prems deuz\">\n",
       " test dans b\n",
       " </b>\n",
       " <c> vide </c>\n",
       " </a>,\n",
       " <c> vide </c>]"
      ]
     },
     "execution_count": 33,
     "metadata": {},
     "output_type": "execute_result"
    }
   ],
   "source": [
    "soupe.find_all(re.compile(\"a|c\"))"
   ]
  },
  {
   "cell_type": "code",
   "execution_count": 34,
   "metadata": {},
   "outputs": [],
   "source": [
    "def filtre(tag):\n",
    "    return tag.name == \"a\" or (tag.has_attr(\"attribut\") and tag[\"attribut\"] == \"toto\")"
   ]
  },
  {
   "cell_type": "code",
   "execution_count": 35,
   "metadata": {},
   "outputs": [
    {
     "data": {
      "text/plain": [
       "[<a>\n",
       " test dans a\n",
       " <b class=\"prems deuz\">\n",
       " test dans b\n",
       " </b>\n",
       " <c> vide </c>\n",
       " </a>,\n",
       " <d attribut=\"toto\"> dans d </d>]"
      ]
     },
     "execution_count": 35,
     "metadata": {},
     "output_type": "execute_result"
    }
   ],
   "source": [
    "soupe.find_all(filtre)"
   ]
  },
  {
   "cell_type": "code",
   "execution_count": 36,
   "metadata": {},
   "outputs": [
    {
     "data": {
      "text/plain": [
       "<b class=\"prems deuz\">\n",
       "test dans b\n",
       "</b>"
      ]
     },
     "execution_count": 36,
     "metadata": {},
     "output_type": "execute_result"
    }
   ],
   "source": [
    "soupe.find(\"b\")"
   ]
  },
  {
   "cell_type": "code",
   "execution_count": 37,
   "metadata": {},
   "outputs": [],
   "source": [
    "soupe.find(\"e\")"
   ]
  },
  {
   "cell_type": "code",
   "execution_count": 38,
   "metadata": {},
   "outputs": [
    {
     "data": {
      "text/plain": [
       "<b class=\"prems deuz\">\n",
       "test dans b\n",
       "</b>"
      ]
     },
     "execution_count": 38,
     "metadata": {},
     "output_type": "execute_result"
    }
   ],
   "source": [
    "soupe.b"
   ]
  },
  {
   "cell_type": "code",
   "execution_count": 39,
   "metadata": {},
   "outputs": [
    {
     "data": {
      "text/plain": [
       "['prems', 'deuz']"
      ]
     },
     "execution_count": 39,
     "metadata": {},
     "output_type": "execute_result"
    }
   ],
   "source": [
    "soupe.b[\"class\"]"
   ]
  },
  {
   "cell_type": "code",
   "execution_count": 40,
   "metadata": {},
   "outputs": [],
   "source": [
    "def requete(tag):\n",
    "    return tag.has_attr(\"class\") and tag[\"class\"] == \"prems deuz\""
   ]
  },
  {
   "cell_type": "code",
   "execution_count": 41,
   "metadata": {},
   "outputs": [],
   "source": [
    "soupe.find(requete)"
   ]
  },
  {
   "cell_type": "markdown",
   "metadata": {},
   "source": [
    "**Documentation officielle** de [beautiful soup](https://www.crummy.com/software/BeautifulSoup/bs4/doc/)"
   ]
  },
  {
   "cell_type": "markdown",
   "metadata": {},
   "source": [
    "# Retour au CAC 40"
   ]
  },
  {
   "cell_type": "markdown",
   "metadata": {},
   "source": [
    "**Exercice** Refaire la récupération de données sur la page du CAC40 via `bs4`, `re` et `requests`."
   ]
  },
  {
   "cell_type": "code",
   "execution_count": 42,
   "metadata": {},
   "outputs": [],
   "source": [
    "class ScrapingObsolete(Exception):\n",
    "    pass"
   ]
  },
  {
   "cell_type": "code",
   "execution_count": 43,
   "metadata": {},
   "outputs": [],
   "source": [
    "adresse = \"https://fr.wikipedia.org/wiki/CAC_40\""
   ]
  },
  {
   "cell_type": "code",
   "execution_count": 44,
   "metadata": {},
   "outputs": [],
   "source": [
    "from requests import get"
   ]
  },
  {
   "cell_type": "code",
   "execution_count": 45,
   "metadata": {},
   "outputs": [],
   "source": [
    "requete = get(adresse)\n",
    "if requete.status_code == 200:\n",
    "    soupe = BeautifulSoup(requete.text)"
   ]
  },
  {
   "cell_type": "code",
   "execution_count": 46,
   "metadata": {},
   "outputs": [],
   "source": [
    "def selection(tag):\n",
    "    if tag.name != \"table\":\n",
    "        return False\n",
    "    resultat = tag.find(\"th\")\n",
    "    if resultat is None:\n",
    "        return False\n",
    "    return \"Société\" in resultat.get_text() \n",
    "    "
   ]
  },
  {
   "cell_type": "code",
   "execution_count": 47,
   "metadata": {},
   "outputs": [],
   "source": [
    "resultat = soupe.find_all(selection)\n",
    "if len(resultat) == 1:\n",
    "    resultat, = resultat\n",
    "else:\n",
    "    raise ScrapingObsolete(\"Il y a plus d'un résultat\")"
   ]
  },
  {
   "cell_type": "code",
   "execution_count": 48,
   "metadata": {},
   "outputs": [
    {
     "data": {
      "text/plain": [
       "[None, 'tbody']"
      ]
     },
     "execution_count": 48,
     "metadata": {},
     "output_type": "execute_result"
    }
   ],
   "source": [
    "[c.name for c in resultat.contents]"
   ]
  },
  {
   "cell_type": "code",
   "execution_count": 77,
   "metadata": {},
   "outputs": [],
   "source": [
    "from dataclasses import dataclass\n",
    "from typing import List, Tuple\n",
    "from serde import serde\n",
    "from serde.json import from_json, to_json\n",
    "\n",
    "@serde\n",
    "@dataclass\n",
    "class Entreprise:\n",
    "    nom: str\n",
    "    lien: str\n",
    "    secteur: str\n",
    "    poids_indiciel: float\n",
    "    chiffre_affaire_euros: int\n",
    "    capitalisation_euros: int\n",
    "    date_entree: Tuple[int, int, int]"
   ]
  },
  {
   "cell_type": "markdown",
   "metadata": {},
   "source": [
    "**EXERCICE** Récupérer une liste d'objets de type `Entreprise` à partir de la table."
   ]
  },
  {
   "cell_type": "code",
   "execution_count": 50,
   "metadata": {},
   "outputs": [],
   "source": [
    "header, *lignes = resultat.find_all(\"tr\")\n",
    "if len(lignes) != 40:\n",
    "    raise ScrapingObsolete(\"Il devrait y avoir 40 lignes pour 40 entreprises!\")"
   ]
  },
  {
   "cell_type": "code",
   "execution_count": 51,
   "metadata": {},
   "outputs": [],
   "source": [
    "def decoupe_ligne(ligne):\n",
    "    return ligne.find_all(\"td\")"
   ]
  },
  {
   "cell_type": "code",
   "execution_count": 52,
   "metadata": {},
   "outputs": [],
   "source": [
    "societe, secteur, pi, ca, cb, di = decoupe_ligne(lignes[0])"
   ]
  },
  {
   "cell_type": "code",
   "execution_count": 53,
   "metadata": {},
   "outputs": [],
   "source": [
    "def gere_societe(colonne) -> Tuple[str, str]:\n",
    "    lien = colonne.find(\"a\")\n",
    "    return lien[\"title\"], \"https://fr.wikipedia.org\" + lien[\"href\"]"
   ]
  },
  {
   "cell_type": "code",
   "execution_count": 54,
   "metadata": {},
   "outputs": [
    {
     "data": {
      "text/plain": [
       "('Air liquide', 'https://fr.wikipedia.org/wiki/Air_liquide')"
      ]
     },
     "execution_count": 54,
     "metadata": {},
     "output_type": "execute_result"
    }
   ],
   "source": [
    "gere_societe(societe)"
   ]
  },
  {
   "cell_type": "code",
   "execution_count": 55,
   "metadata": {},
   "outputs": [
    {
     "data": {
      "text/plain": [
       "<td><a href=\"/wiki/Gaz_industriel\" title=\"Gaz industriel\">Gaz industriel</a>\n",
       "</td>"
      ]
     },
     "execution_count": 55,
     "metadata": {},
     "output_type": "execute_result"
    }
   ],
   "source": [
    "secteur"
   ]
  },
  {
   "cell_type": "code",
   "execution_count": 56,
   "metadata": {},
   "outputs": [],
   "source": [
    "def gere_secteur(colonne) -> str:\n",
    "    lien = colonne.find(\"a\")\n",
    "    return lien[\"title\"]"
   ]
  },
  {
   "cell_type": "code",
   "execution_count": 57,
   "metadata": {},
   "outputs": [
    {
     "data": {
      "text/plain": [
       "'Gaz industriel'"
      ]
     },
     "execution_count": 57,
     "metadata": {},
     "output_type": "execute_result"
    }
   ],
   "source": [
    "gere_secteur(secteur)"
   ]
  },
  {
   "cell_type": "code",
   "execution_count": 58,
   "metadata": {},
   "outputs": [
    {
     "data": {
      "text/plain": [
       "<td>3,50\n",
       "</td>"
      ]
     },
     "execution_count": 58,
     "metadata": {},
     "output_type": "execute_result"
    }
   ],
   "source": [
    "pi"
   ]
  },
  {
   "cell_type": "code",
   "execution_count": 59,
   "metadata": {},
   "outputs": [
    {
     "ename": "ValueError",
     "evalue": "could not convert string to float: '3,50'",
     "output_type": "error",
     "traceback": [
      "\u001b[0;31m---------------------------------------------------------------------------\u001b[0m",
      "\u001b[0;31mValueError\u001b[0m                                Traceback (most recent call last)",
      "Cell \u001b[0;32mIn [59], line 1\u001b[0m\n\u001b[0;32m----> 1\u001b[0m \u001b[38;5;28;43mfloat\u001b[39;49m\u001b[43m(\u001b[49m\u001b[38;5;124;43m\"\u001b[39;49m\u001b[38;5;124;43m3,50\u001b[39;49m\u001b[38;5;124;43m\"\u001b[39;49m\u001b[43m)\u001b[49m\n",
      "\u001b[0;31mValueError\u001b[0m: could not convert string to float: '3,50'"
     ]
    }
   ],
   "source": [
    "float(\"3,50\")"
   ]
  },
  {
   "cell_type": "code",
   "execution_count": 60,
   "metadata": {},
   "outputs": [
    {
     "data": {
      "text/plain": [
       "3.5"
      ]
     },
     "execution_count": 60,
     "metadata": {},
     "output_type": "execute_result"
    }
   ],
   "source": [
    "float(\"3.50\")"
   ]
  },
  {
   "cell_type": "code",
   "execution_count": 61,
   "metadata": {},
   "outputs": [],
   "source": [
    "def gere_pi(colonne) -> float:\n",
    "    return float(colonne.get_text().strip().replace(\",\", \".\"))"
   ]
  },
  {
   "cell_type": "code",
   "execution_count": 62,
   "metadata": {},
   "outputs": [
    {
     "data": {
      "text/plain": [
       "3.5"
      ]
     },
     "execution_count": 62,
     "metadata": {},
     "output_type": "execute_result"
    }
   ],
   "source": [
    "gere_pi(pi)"
   ]
  },
  {
   "cell_type": "code",
   "execution_count": 63,
   "metadata": {},
   "outputs": [
    {
     "data": {
      "text/plain": [
       "<td>20,49\n",
       "</td>"
      ]
     },
     "execution_count": 63,
     "metadata": {},
     "output_type": "execute_result"
    }
   ],
   "source": [
    "ca"
   ]
  },
  {
   "cell_type": "code",
   "execution_count": 64,
   "metadata": {},
   "outputs": [],
   "source": [
    "def gere_ca(colonne) -> int:\n",
    "    return int(10 ** 9 * float(colonne.get_text().strip().replace(\",\", \".\")))"
   ]
  },
  {
   "cell_type": "code",
   "execution_count": 65,
   "metadata": {},
   "outputs": [
    {
     "data": {
      "text/plain": [
       "20490000000"
      ]
     },
     "execution_count": 65,
     "metadata": {},
     "output_type": "execute_result"
    }
   ],
   "source": [
    "gere_ca(ca)"
   ]
  },
  {
   "cell_type": "code",
   "execution_count": 66,
   "metadata": {},
   "outputs": [
    {
     "data": {
      "text/plain": [
       "<td>66,56\n",
       "</td>"
      ]
     },
     "execution_count": 66,
     "metadata": {},
     "output_type": "execute_result"
    }
   ],
   "source": [
    "cb"
   ]
  },
  {
   "cell_type": "code",
   "execution_count": 67,
   "metadata": {},
   "outputs": [],
   "source": [
    "def gere_cb(colonne) -> int:\n",
    "    return int(10 ** 9 * float(colonne.get_text().strip().replace(\",\", \".\")))"
   ]
  },
  {
   "cell_type": "code",
   "execution_count": 68,
   "metadata": {},
   "outputs": [
    {
     "data": {
      "text/plain": [
       "66560000000"
      ]
     },
     "execution_count": 68,
     "metadata": {},
     "output_type": "execute_result"
    }
   ],
   "source": [
    "gere_cb(cb)"
   ]
  },
  {
   "cell_type": "code",
   "execution_count": 69,
   "metadata": {},
   "outputs": [
    {
     "data": {
      "text/plain": [
       "<td><span data-sort-value=\"19871231 !\"></span><time class=\"nowrap date-lien\" data-sort-value=\"1987-12-31\" datetime=\"1987-12-31\"><a href=\"/wiki/31_d%C3%A9cembre\" title=\"31 décembre\">31</a> <a href=\"/wiki/D%C3%A9cembre_1987\" title=\"Décembre 1987\">décembre</a> <a href=\"/wiki/1987\" title=\"1987\">1987</a></time>\n",
       "</td>"
      ]
     },
     "execution_count": 69,
     "metadata": {},
     "output_type": "execute_result"
    }
   ],
   "source": [
    "di"
   ]
  },
  {
   "cell_type": "code",
   "execution_count": 70,
   "metadata": {},
   "outputs": [],
   "source": [
    "def gere_di(colonne) -> Tuple[int, int, int]:\n",
    "    chiffres = colonne.find(\"span\")[\"data-sort-value\"]\n",
    "    return int(chiffres[0:4]), int(chiffres[4:6]), int(chiffres[6:8])"
   ]
  },
  {
   "cell_type": "code",
   "execution_count": 71,
   "metadata": {},
   "outputs": [
    {
     "data": {
      "text/plain": [
       "(1987, 12, 31)"
      ]
     },
     "execution_count": 71,
     "metadata": {},
     "output_type": "execute_result"
    }
   ],
   "source": [
    "gere_di(di)"
   ]
  },
  {
   "cell_type": "code",
   "execution_count": 78,
   "metadata": {},
   "outputs": [],
   "source": [
    "resultat_final = list()\n",
    "for ligne in lignes:\n",
    "    societe, secteur, pi, ca, cb, di = decoupe_ligne(ligne)\n",
    "    nom, lien = gere_societe(societe)\n",
    "    resultat_final.append(\n",
    "        Entreprise(\n",
    "            nom = nom,\n",
    "            lien = lien,\n",
    "            secteur = gere_secteur(secteur),\n",
    "            poids_indiciel = gere_pi(pi),\n",
    "            chiffre_affaire_euros = gere_ca(ca),\n",
    "            capitalisation_euros = gere_cb(cb),\n",
    "            date_entree = gere_di(di),\n",
    "        )\n",
    "    )\n",
    "    "
   ]
  },
  {
   "cell_type": "code",
   "execution_count": 79,
   "metadata": {
    "collapsed": true,
    "jupyter": {
     "outputs_hidden": true
    },
    "tags": []
   },
   "outputs": [
    {
     "data": {
      "text/plain": [
       "[Entreprise(nom='Air liquide', lien='https://fr.wikipedia.org/wiki/Air_liquide', secteur='Gaz industriel', poids_indiciel=3.5, chiffre_affaire_euros=20490000000, capitalisation_euros=66560000000, date_entree=(1987, 12, 31)),\n",
       " Entreprise(nom='Airbus (groupe)', lien='https://fr.wikipedia.org/wiki/Airbus_(groupe)', secteur='Aéronautique', poids_indiciel=3.87, chiffre_affaire_euros=49910000000, capitalisation_euros=74870000000, date_entree=(1990, 2, 5)),\n",
       " Entreprise(nom='Alstom', lien='https://fr.wikipedia.org/wiki/Alstom', secteur='Constructeur ferroviaire', poids_indiciel=0.43, chiffre_affaire_euros=8780000000, capitalisation_euros=8170000000, date_entree=(2020, 9, 21)),\n",
       " Entreprise(nom='ArcelorMittal', lien='https://fr.wikipedia.org/wiki/ArcelorMittal', secteur='Acier', poids_indiciel=1.16, chiffre_affaire_euros=47570000000, capitalisation_euros=18980000000, date_entree=(2003, 11, 21)),\n",
       " Entreprise(nom='Axa', lien='https://fr.wikipedia.org/wiki/Axa', secteur='Assurance', poids_indiciel=2.69, chiffre_affaire_euros=93910000000, capitalisation_euros=50760000000, date_entree=(1987, 12, 31)),\n",
       " Entreprise(nom='BNP Paribas', lien='https://fr.wikipedia.org/wiki/BNP_Paribas', secteur='Banque', poids_indiciel=2.94, chiffre_affaire_euros=44270000000, capitalisation_euros=55930000000, date_entree=(1987, 12, 31)),\n",
       " Entreprise(nom='Bouygues', lien='https://fr.wikipedia.org/wiki/Bouygues', secteur='BTP', poids_indiciel=0.58, chiffre_affaire_euros=34690000000, capitalisation_euros=11020000000, date_entree=(1987, 12, 31)),\n",
       " Entreprise(nom='Capgemini', lien='https://fr.wikipedia.org/wiki/Capgemini', secteur='Services informatiques', poids_indiciel=1.46, chiffre_affaire_euros=15850000000, capitalisation_euros=27880000000, date_entree=(1988, 8, 3)),\n",
       " Entreprise(nom='Groupe Carrefour', lien='https://fr.wikipedia.org/wiki/Groupe_Carrefour', secteur='Grande distribution', poids_indiciel=0.67, chiffre_affaire_euros=69970000000, capitalisation_euros=12570000000, date_entree=(1987, 12, 31)),\n",
       " Entreprise(nom='Crédit agricole', lien='https://fr.wikipedia.org/wiki/Cr%C3%A9dit_agricole', secteur='Banque', poids_indiciel=1.39, chiffre_affaire_euros=20500000000, capitalisation_euros=26420000000, date_entree=(1999, 9, 7)),\n",
       " Entreprise(nom='Danone', lien='https://fr.wikipedia.org/wiki/Danone', secteur='Agroalimentaire', poids_indiciel=1.93, chiffre_affaire_euros=23620000000, capitalisation_euros=36020000000, date_entree=(1987, 12, 31)),\n",
       " Entreprise(nom='Dassault Systèmes', lien='https://fr.wikipedia.org/wiki/Dassault_Syst%C3%A8mes', secteur='Services informatiques', poids_indiciel=2.47, chiffre_affaire_euros=4450000000, capitalisation_euros=47090000000, date_entree=(2018, 9, 24)),\n",
       " Entreprise(nom='Engie', lien='https://fr.wikipedia.org/wiki/Engie', secteur='Énergie (économie)', poids_indiciel=1.43, chiffre_affaire_euros=55750000000, capitalisation_euros=27260000000, date_entree=(1987, 12, 31)),\n",
       " Entreprise(nom='EssilorLuxottica', lien='https://fr.wikipedia.org/wiki/EssilorLuxottica', secteur='Optique', poids_indiciel=3.34, chiffre_affaire_euros=14430000000, capitalisation_euros=64360000000, date_entree=(1987, 12, 31)),\n",
       " Entreprise(nom='Eurofins Scientific', lien='https://fr.wikipedia.org/wiki/Eurofins_Scientific', secteur='Biotechnologie', poids_indiciel=0.76, chiffre_affaire_euros=5440000000, capitalisation_euros=14470000000, date_entree=(2021, 9, 17)),\n",
       " Entreprise(nom='Hermès International', lien='https://fr.wikipedia.org/wiki/Herm%C3%A8s_International', secteur='Luxe', poids_indiciel=5.91, chiffre_affaire_euros=6390000000, capitalisation_euros=112480000000, date_entree=(2018, 6, 18)),\n",
       " Entreprise(nom='Kering', lien='https://fr.wikipedia.org/wiki/Kering', secteur='Luxe', poids_indiciel=3.19, chiffre_affaire_euros=13100000000, capitalisation_euros=60760000000, date_entree=(1995, 2, 9)),\n",
       " Entreprise(nom='Legrand (entreprise)', lien='https://fr.wikipedia.org/wiki/Legrand_(entreprise)', secteur='Matériel électrique', poids_indiciel=0.99, chiffre_affaire_euros=6100000000, capitalisation_euros=18710000000, date_entree=(1987, 12, 31)),\n",
       " Entreprise(nom=\"L'Oréal\", lien='https://fr.wikipedia.org/wiki/L%27Or%C3%A9al', secteur='Cosmétique', poids_indiciel=9.28, chiffre_affaire_euros=27990000000, capitalisation_euros=176650000000, date_entree=(1987, 12, 31)),\n",
       " Entreprise(nom='LVMH - Moët Hennessy Louis Vuitton', lien='https://fr.wikipedia.org/wiki/LVMH_-_Mo%C3%ABt_Hennessy_Louis_Vuitton', secteur='Luxe', poids_indiciel=15.38, chiffre_affaire_euros=44650000000, capitalisation_euros=292760000000, date_entree=(1987, 12, 31)),\n",
       " Entreprise(nom='Michelin', lien='https://fr.wikipedia.org/wiki/Michelin', secteur='Pneumatique (véhicule)', poids_indiciel=0.25, chiffre_affaire_euros=20470000000, capitalisation_euros=18690000000, date_entree=(1987, 12, 31)),\n",
       " Entreprise(nom='Orange (entreprise)', lien='https://fr.wikipedia.org/wiki/Orange_(entreprise)', secteur='Télécommunications', poids_indiciel=1.58, chiffre_affaire_euros=42270000000, capitalisation_euros=30010000000, date_entree=(1997, 11, 12)),\n",
       " Entreprise(nom='Pernod Ricard', lien='https://fr.wikipedia.org/wiki/Pernod_Ricard', secteur='Spiritueux', poids_indiciel=2.41, chiffre_affaire_euros=8449999999, capitalisation_euros=45210000000, date_entree=(1987, 12, 31)),\n",
       " Entreprise(nom='Publicis Groupe', lien='https://fr.wikipedia.org/wiki/Publicis_Groupe', secteur='Publicité', poids_indiciel=0.62, chiffre_affaire_euros=10790000000, capitalisation_euros=11820000000, date_entree=(2004, 10, 1)),\n",
       " Entreprise(nom='Renault', lien='https://fr.wikipedia.org/wiki/Renault', secteur='Automobile', poids_indiciel=0.38, chiffre_affaire_euros=43470000000, capitalisation_euros=7200000000, date_entree=(1995, 2, 9)),\n",
       " Entreprise(nom='Safran (entreprise)', lien='https://fr.wikipedia.org/wiki/Safran_(entreprise)', secteur='Aéronautique', poids_indiciel=2.13, chiffre_affaire_euros=16629999999, capitalisation_euros=40630000000, date_entree=(2011, 9, 19)),\n",
       " Entreprise(nom='Saint-Gobain', lien='https://fr.wikipedia.org/wiki/Saint-Gobain', secteur='Matériaux de construction', poids_indiciel=1.13, chiffre_affaire_euros=38130000000, capitalisation_euros=21350000000, date_entree=(1987, 12, 31)),\n",
       " Entreprise(nom='Sanofi', lien='https://fr.wikipedia.org/wiki/Sanofi', secteur='Pharmacie', poids_indiciel=6.47, chiffre_affaire_euros=36040000000, capitalisation_euros=123390000000, date_entree=(1987, 12, 31)),\n",
       " Entreprise(nom='Schneider Electric', lien='https://fr.wikipedia.org/wiki/Schneider_Electric', secteur='Matériel électrique', poids_indiciel=3.34, chiffre_affaire_euros=25160000000, capitalisation_euros=63340000000, date_entree=(1987, 12, 31)),\n",
       " Entreprise(nom='Société générale', lien='https://fr.wikipedia.org/wiki/Soci%C3%A9t%C3%A9_g%C3%A9n%C3%A9rale', secteur='Banque', poids_indiciel=0.91, chiffre_affaire_euros=22110000000, capitalisation_euros=17420000000, date_entree=(1987, 12, 31)),\n",
       " Entreprise(nom='Stellantis', lien='https://fr.wikipedia.org/wiki/Stellantis', secteur='Automobile', poids_indiciel=1.93, chiffre_affaire_euros=86680000000, capitalisation_euros=36810000000, date_entree=(1987, 12, 31)),\n",
       " Entreprise(nom='STMicroelectronics', lien='https://fr.wikipedia.org/wiki/STMicroelectronics', secteur='Technologie', poids_indiciel=1.39, chiffre_affaire_euros=9090000000, capitalisation_euros=26520000000, date_entree=(2017, 9, 18)),\n",
       " Entreprise(nom='Teleperformance', lien='https://fr.wikipedia.org/wiki/Teleperformance', secteur='Société de services', poids_indiciel=0.91, chiffre_affaire_euros=5730000000, capitalisation_euros=17490000000, date_entree=(2020, 6, 22)),\n",
       " Entreprise(nom='Thales', lien='https://fr.wikipedia.org/wiki/Thales', secteur='Équipementier aéronautique', poids_indiciel=1.35, chiffre_affaire_euros=16989999999, capitalisation_euros=25640000000, date_entree=(2019, 6, 24)),\n",
       " Entreprise(nom='TotalEnergies', lien='https://fr.wikipedia.org/wiki/TotalEnergies', secteur='Industrie pétrolière', poids_indiciel=6.87, chiffre_affaire_euros=125630000000, capitalisation_euros=131350000000, date_entree=(1987, 12, 31)),\n",
       " Entreprise(nom='Unibail-Rodamco-Westfield', lien='https://fr.wikipedia.org/wiki/Unibail-Rodamco-Westfield', secteur='Immobilier', poids_indiciel=0.36, chiffre_affaire_euros=1900000000, capitalisation_euros=6810000000, date_entree=(2007, 6, 18)),\n",
       " Entreprise(nom='Veolia', lien='https://fr.wikipedia.org/wiki/Veolia', secteur='Environnement', poids_indiciel=0.87, chiffre_affaire_euros=26010000000, capitalisation_euros=16550000000, date_entree=(1987, 12, 31)),\n",
       " Entreprise(nom='Vinci (entreprise)', lien='https://fr.wikipedia.org/wiki/Vinci_(entreprise)', secteur='BTP', poids_indiciel=2.67, chiffre_affaire_euros=43930000000, capitalisation_euros=51230000000, date_entree=(2002, 4, 3)),\n",
       " Entreprise(nom='Vivendi', lien='https://fr.wikipedia.org/wiki/Vivendi', secteur='Média', poids_indiciel=0.56, chiffre_affaire_euros=16090000000, capitalisation_euros=10610000000, date_entree=(1987, 12, 31)),\n",
       " Entreprise(nom='Worldline', lien='https://fr.wikipedia.org/wiki/Worldline', secteur='Technologie financière', poids_indiciel=0.52, chiffre_affaire_euros=2750000000, capitalisation_euros=9960000000, date_entree=(2020, 3, 23))]"
      ]
     },
     "execution_count": 79,
     "metadata": {},
     "output_type": "execute_result"
    }
   ],
   "source": [
    "resultat_final"
   ]
  },
  {
   "cell_type": "markdown",
   "metadata": {},
   "source": [
    "**EXERCICE** Utiliser `pyserde` et modifier la dataclass `Entreprise` pour sérialiser vers `json` et `yaml` le résultat final dans des fichiers `stockage.json` et `stockage.yaml`."
   ]
  },
  {
   "cell_type": "code",
   "execution_count": 80,
   "metadata": {},
   "outputs": [],
   "source": [
    "code_json = to_json(resultat_final)"
   ]
  },
  {
   "cell_type": "code",
   "execution_count": 81,
   "metadata": {},
   "outputs": [],
   "source": [
    "with open(\"stockage.json\", \"w\") as fichier:\n",
    "    fichier.write(code_json)"
   ]
  },
  {
   "cell_type": "code",
   "execution_count": 82,
   "metadata": {},
   "outputs": [],
   "source": [
    "with open(\"stockage.json\", \"r\") as fichier:\n",
    "    contenu_fichier = fichier.read()"
   ]
  },
  {
   "cell_type": "code",
   "execution_count": 83,
   "metadata": {},
   "outputs": [
    {
     "name": "stdout",
     "output_type": "stream",
     "text": [
      "[{\"nom\":\"Air liquide\",\"lien\":\"https://fr.wikipedia.org/wiki/Air_liquide\",\"secteur\":\"Gaz industriel\",\"poids_indiciel\":3.5,\"chiffre_affaire_euros\":20490000000,\"capitalisation_euros\":66560000000,\"date_entree\":[1987,12,31]},{\"nom\":\"Airbus (groupe)\",\"lien\":\"https://fr.wikipedia.org/wiki/Airbus_(groupe)\",\"secteur\":\"Aéronautique\",\"poids_indiciel\":3.87,\"chiffre_affaire_euros\":49910000000,\"capitalisation_euros\":74870000000,\"date_entree\":[1990,2,5]},{\"nom\":\"Alstom\",\"lien\":\"https://fr.wikipedia.org/wiki/Alstom\",\"secteur\":\"Constructeur ferroviaire\",\"poids_indiciel\":0.43,\"chiffre_affaire_euros\":8780000000,\"capitalisation_euros\":8170000000,\"date_entree\":[2020,9,21]},{\"nom\":\"ArcelorMittal\",\"lien\":\"https://fr.wikipedia.org/wiki/ArcelorMittal\",\"secteur\":\"Acier\",\"poids_indiciel\":1.16,\"chiffre_affaire_euros\":47570000000,\"capitalisation_euros\":18980000000,\"date_entree\":[2003,11,21]},{\"nom\":\"Axa\",\"lien\":\"https://fr.wikipedia.org/wiki/Axa\",\"secteur\":\"Assurance\",\"poids_indiciel\":2.69,\"chiffre_affaire_euros\":93910000000,\"capitalisation_euros\":50760000000,\"date_entree\":[1987,12,31]},{\"nom\":\"BNP Paribas\",\"lien\":\"https://fr.wikipedia.org/wiki/BNP_Paribas\",\"secteur\":\"Banque\",\"poids_indiciel\":2.94,\"chiffre_affaire_euros\":44270000000,\"capitalisation_euros\":55930000000,\"date_entree\":[1987,12,31]},{\"nom\":\"Bouygues\",\"lien\":\"https://fr.wikipedia.org/wiki/Bouygues\",\"secteur\":\"BTP\",\"poids_indiciel\":0.58,\"chiffre_affaire_euros\":34690000000,\"capitalisation_euros\":11020000000,\"date_entree\":[1987,12,31]},{\"nom\":\"Capgemini\",\"lien\":\"https://fr.wikipedia.org/wiki/Capgemini\",\"secteur\":\"Services informatiques\",\"poids_indiciel\":1.46,\"chiffre_affaire_euros\":15850000000,\"capitalisation_euros\":27880000000,\"date_entree\":[1988,8,3]},{\"nom\":\"Groupe Carrefour\",\"lien\":\"https://fr.wikipedia.org/wiki/Groupe_Carrefour\",\"secteur\":\"Grande distribution\",\"poids_indiciel\":0.67,\"chiffre_affaire_euros\":69970000000,\"capitalisation_euros\":12570000000,\"date_entree\":[1987,12,31]},{\"nom\":\"Crédit agricole\",\"lien\":\"https://fr.wikipedia.org/wiki/Cr%C3%A9dit_agricole\",\"secteur\":\"Banque\",\"poids_indiciel\":1.39,\"chiffre_affaire_euros\":20500000000,\"capitalisation_euros\":26420000000,\"date_entree\":[1999,9,7]},{\"nom\":\"Danone\",\"lien\":\"https://fr.wikipedia.org/wiki/Danone\",\"secteur\":\"Agroalimentaire\",\"poids_indiciel\":1.93,\"chiffre_affaire_euros\":23620000000,\"capitalisation_euros\":36020000000,\"date_entree\":[1987,12,31]},{\"nom\":\"Dassault Systèmes\",\"lien\":\"https://fr.wikipedia.org/wiki/Dassault_Syst%C3%A8mes\",\"secteur\":\"Services informatiques\",\"poids_indiciel\":2.47,\"chiffre_affaire_euros\":4450000000,\"capitalisation_euros\":47090000000,\"date_entree\":[2018,9,24]},{\"nom\":\"Engie\",\"lien\":\"https://fr.wikipedia.org/wiki/Engie\",\"secteur\":\"Énergie (économie)\",\"poids_indiciel\":1.43,\"chiffre_affaire_euros\":55750000000,\"capitalisation_euros\":27260000000,\"date_entree\":[1987,12,31]},{\"nom\":\"EssilorLuxottica\",\"lien\":\"https://fr.wikipedia.org/wiki/EssilorLuxottica\",\"secteur\":\"Optique\",\"poids_indiciel\":3.34,\"chiffre_affaire_euros\":14430000000,\"capitalisation_euros\":64360000000,\"date_entree\":[1987,12,31]},{\"nom\":\"Eurofins Scientific\",\"lien\":\"https://fr.wikipedia.org/wiki/Eurofins_Scientific\",\"secteur\":\"Biotechnologie\",\"poids_indiciel\":0.76,\"chiffre_affaire_euros\":5440000000,\"capitalisation_euros\":14470000000,\"date_entree\":[2021,9,17]},{\"nom\":\"Hermès International\",\"lien\":\"https://fr.wikipedia.org/wiki/Herm%C3%A8s_International\",\"secteur\":\"Luxe\",\"poids_indiciel\":5.91,\"chiffre_affaire_euros\":6390000000,\"capitalisation_euros\":112480000000,\"date_entree\":[2018,6,18]},{\"nom\":\"Kering\",\"lien\":\"https://fr.wikipedia.org/wiki/Kering\",\"secteur\":\"Luxe\",\"poids_indiciel\":3.19,\"chiffre_affaire_euros\":13100000000,\"capitalisation_euros\":60760000000,\"date_entree\":[1995,2,9]},{\"nom\":\"Legrand (entreprise)\",\"lien\":\"https://fr.wikipedia.org/wiki/Legrand_(entreprise)\",\"secteur\":\"Matériel électrique\",\"poids_indiciel\":0.99,\"chiffre_affaire_euros\":6100000000,\"capitalisation_euros\":18710000000,\"date_entree\":[1987,12,31]},{\"nom\":\"L'Oréal\",\"lien\":\"https://fr.wikipedia.org/wiki/L%27Or%C3%A9al\",\"secteur\":\"Cosmétique\",\"poids_indiciel\":9.28,\"chiffre_affaire_euros\":27990000000,\"capitalisation_euros\":176650000000,\"date_entree\":[1987,12,31]},{\"nom\":\"LVMH - Moët Hennessy Louis Vuitton\",\"lien\":\"https://fr.wikipedia.org/wiki/LVMH_-_Mo%C3%ABt_Hennessy_Louis_Vuitton\",\"secteur\":\"Luxe\",\"poids_indiciel\":15.38,\"chiffre_affaire_euros\":44650000000,\"capitalisation_euros\":292760000000,\"date_entree\":[1987,12,31]},{\"nom\":\"Michelin\",\"lien\":\"https://fr.wikipedia.org/wiki/Michelin\",\"secteur\":\"Pneumatique (véhicule)\",\"poids_indiciel\":0.25,\"chiffre_affaire_euros\":20470000000,\"capitalisation_euros\":18690000000,\"date_entree\":[1987,12,31]},{\"nom\":\"Orange (entreprise)\",\"lien\":\"https://fr.wikipedia.org/wiki/Orange_(entreprise)\",\"secteur\":\"Télécommunications\",\"poids_indiciel\":1.58,\"chiffre_affaire_euros\":42270000000,\"capitalisation_euros\":30010000000,\"date_entree\":[1997,11,12]},{\"nom\":\"Pernod Ricard\",\"lien\":\"https://fr.wikipedia.org/wiki/Pernod_Ricard\",\"secteur\":\"Spiritueux\",\"poids_indiciel\":2.41,\"chiffre_affaire_euros\":8449999999,\"capitalisation_euros\":45210000000,\"date_entree\":[1987,12,31]},{\"nom\":\"Publicis Groupe\",\"lien\":\"https://fr.wikipedia.org/wiki/Publicis_Groupe\",\"secteur\":\"Publicité\",\"poids_indiciel\":0.62,\"chiffre_affaire_euros\":10790000000,\"capitalisation_euros\":11820000000,\"date_entree\":[2004,10,1]},{\"nom\":\"Renault\",\"lien\":\"https://fr.wikipedia.org/wiki/Renault\",\"secteur\":\"Automobile\",\"poids_indiciel\":0.38,\"chiffre_affaire_euros\":43470000000,\"capitalisation_euros\":7200000000,\"date_entree\":[1995,2,9]},{\"nom\":\"Safran (entreprise)\",\"lien\":\"https://fr.wikipedia.org/wiki/Safran_(entreprise)\",\"secteur\":\"Aéronautique\",\"poids_indiciel\":2.13,\"chiffre_affaire_euros\":16629999999,\"capitalisation_euros\":40630000000,\"date_entree\":[2011,9,19]},{\"nom\":\"Saint-Gobain\",\"lien\":\"https://fr.wikipedia.org/wiki/Saint-Gobain\",\"secteur\":\"Matériaux de construction\",\"poids_indiciel\":1.13,\"chiffre_affaire_euros\":38130000000,\"capitalisation_euros\":21350000000,\"date_entree\":[1987,12,31]},{\"nom\":\"Sanofi\",\"lien\":\"https://fr.wikipedia.org/wiki/Sanofi\",\"secteur\":\"Pharmacie\",\"poids_indiciel\":6.47,\"chiffre_affaire_euros\":36040000000,\"capitalisation_euros\":123390000000,\"date_entree\":[1987,12,31]},{\"nom\":\"Schneider Electric\",\"lien\":\"https://fr.wikipedia.org/wiki/Schneider_Electric\",\"secteur\":\"Matériel électrique\",\"poids_indiciel\":3.34,\"chiffre_affaire_euros\":25160000000,\"capitalisation_euros\":63340000000,\"date_entree\":[1987,12,31]},{\"nom\":\"Société générale\",\"lien\":\"https://fr.wikipedia.org/wiki/Soci%C3%A9t%C3%A9_g%C3%A9n%C3%A9rale\",\"secteur\":\"Banque\",\"poids_indiciel\":0.91,\"chiffre_affaire_euros\":22110000000,\"capitalisation_euros\":17420000000,\"date_entree\":[1987,12,31]},{\"nom\":\"Stellantis\",\"lien\":\"https://fr.wikipedia.org/wiki/Stellantis\",\"secteur\":\"Automobile\",\"poids_indiciel\":1.93,\"chiffre_affaire_euros\":86680000000,\"capitalisation_euros\":36810000000,\"date_entree\":[1987,12,31]},{\"nom\":\"STMicroelectronics\",\"lien\":\"https://fr.wikipedia.org/wiki/STMicroelectronics\",\"secteur\":\"Technologie\",\"poids_indiciel\":1.39,\"chiffre_affaire_euros\":9090000000,\"capitalisation_euros\":26520000000,\"date_entree\":[2017,9,18]},{\"nom\":\"Teleperformance\",\"lien\":\"https://fr.wikipedia.org/wiki/Teleperformance\",\"secteur\":\"Société de services\",\"poids_indiciel\":0.91,\"chiffre_affaire_euros\":5730000000,\"capitalisation_euros\":17490000000,\"date_entree\":[2020,6,22]},{\"nom\":\"Thales\",\"lien\":\"https://fr.wikipedia.org/wiki/Thales\",\"secteur\":\"Équipementier aéronautique\",\"poids_indiciel\":1.35,\"chiffre_affaire_euros\":16989999999,\"capitalisation_euros\":25640000000,\"date_entree\":[2019,6,24]},{\"nom\":\"TotalEnergies\",\"lien\":\"https://fr.wikipedia.org/wiki/TotalEnergies\",\"secteur\":\"Industrie pétrolière\",\"poids_indiciel\":6.87,\"chiffre_affaire_euros\":125630000000,\"capitalisation_euros\":131350000000,\"date_entree\":[1987,12,31]},{\"nom\":\"Unibail-Rodamco-Westfield\",\"lien\":\"https://fr.wikipedia.org/wiki/Unibail-Rodamco-Westfield\",\"secteur\":\"Immobilier\",\"poids_indiciel\":0.36,\"chiffre_affaire_euros\":1900000000,\"capitalisation_euros\":6810000000,\"date_entree\":[2007,6,18]},{\"nom\":\"Veolia\",\"lien\":\"https://fr.wikipedia.org/wiki/Veolia\",\"secteur\":\"Environnement\",\"poids_indiciel\":0.87,\"chiffre_affaire_euros\":26010000000,\"capitalisation_euros\":16550000000,\"date_entree\":[1987,12,31]},{\"nom\":\"Vinci (entreprise)\",\"lien\":\"https://fr.wikipedia.org/wiki/Vinci_(entreprise)\",\"secteur\":\"BTP\",\"poids_indiciel\":2.67,\"chiffre_affaire_euros\":43930000000,\"capitalisation_euros\":51230000000,\"date_entree\":[2002,4,3]},{\"nom\":\"Vivendi\",\"lien\":\"https://fr.wikipedia.org/wiki/Vivendi\",\"secteur\":\"Média\",\"poids_indiciel\":0.56,\"chiffre_affaire_euros\":16090000000,\"capitalisation_euros\":10610000000,\"date_entree\":[1987,12,31]},{\"nom\":\"Worldline\",\"lien\":\"https://fr.wikipedia.org/wiki/Worldline\",\"secteur\":\"Technologie financière\",\"poids_indiciel\":0.52,\"chiffre_affaire_euros\":2750000000,\"capitalisation_euros\":9960000000,\"date_entree\":[2020,3,23]}]\n"
     ]
    }
   ],
   "source": [
    "print(contenu_fichier)"
   ]
  },
  {
   "cell_type": "code",
   "execution_count": 84,
   "metadata": {},
   "outputs": [
    {
     "data": {
      "text/plain": [
       "str"
      ]
     },
     "execution_count": 84,
     "metadata": {},
     "output_type": "execute_result"
    }
   ],
   "source": [
    "type(contenu_fichier)"
   ]
  },
  {
   "cell_type": "code",
   "execution_count": 85,
   "metadata": {},
   "outputs": [],
   "source": [
    "reconstitution = from_json(List[Entreprise], contenu_fichier)"
   ]
  },
  {
   "cell_type": "code",
   "execution_count": 86,
   "metadata": {},
   "outputs": [
    {
     "data": {
      "text/plain": [
       "list"
      ]
     },
     "execution_count": 86,
     "metadata": {},
     "output_type": "execute_result"
    }
   ],
   "source": [
    "type(reconstitution)"
   ]
  },
  {
   "cell_type": "code",
   "execution_count": 87,
   "metadata": {},
   "outputs": [
    {
     "data": {
      "text/plain": [
       "Entreprise(nom='Air liquide', lien='https://fr.wikipedia.org/wiki/Air_liquide', secteur='Gaz industriel', poids_indiciel=3.5, chiffre_affaire_euros=20490000000, capitalisation_euros=66560000000, date_entree=(1987, 12, 31))"
      ]
     },
     "execution_count": 87,
     "metadata": {},
     "output_type": "execute_result"
    }
   ],
   "source": [
    "reconstitution[0]"
   ]
  },
  {
   "cell_type": "markdown",
   "metadata": {},
   "source": [
    "# Problème avec les requêtes http pures"
   ]
  },
  {
   "cell_type": "code",
   "execution_count": 74,
   "metadata": {},
   "outputs": [],
   "source": [
    "req = get(\"https://www.leboncoin.fr/recherche?text=appartement&locations=Tours_37000__47.38846_0.68957_5000\")"
   ]
  },
  {
   "cell_type": "code",
   "execution_count": 75,
   "metadata": {},
   "outputs": [
    {
     "data": {
      "text/plain": [
       "403"
      ]
     },
     "execution_count": 75,
     "metadata": {},
     "output_type": "execute_result"
    }
   ],
   "source": [
    "req.status_code"
   ]
  },
  {
   "cell_type": "code",
   "execution_count": 76,
   "metadata": {},
   "outputs": [
    {
     "data": {
      "text/plain": [
       "'<html><head><title>leboncoin.fr</title><meta property=\"og:title\" content=\"Rendez-vous sur leboncoin pour découvrir cette annonce !\" />\\r\\n<meta property=\"og:image\" content=\"https://img.datadome.co/captcha/page-customization/1872/866d27bc-26b6-476e-b41d-496f3e0a7fb4.jpeg\" /><style>#cmsg{animation: A 1.5s;}@keyframes A{0%{opacity:0;}99%{opacity:0;}100%{opacity:1;}}</style></head><body style=\"margin:0\"><p id=\"cmsg\">Please enable JS and disable any ad blocker</p><script data-cfasync=\"false\">var dd={\\'cid\\':\\'AHrlqAAAAAMAhKGTnx-7bE8AVsQ_mw==\\',\\'hsh\\':\\'05B30BD9055986BD2EE8F5A199D973\\',\\'t\\':\\'bv\\',\\'s\\':2089,\\'e\\':\\'c34e3101506f7addcc479eaf45c6cc301f66f33a8a23b7549fbfb8fa5a8fbd1d\\',\\'host\\':\\'geo.captcha-delivery.com\\'}</script><script data-cfasync=\"false\" src=\"https://ct.captcha-delivery.com/c.js\"></script></body></html>\\n'"
      ]
     },
     "execution_count": 76,
     "metadata": {},
     "output_type": "execute_result"
    }
   ],
   "source": [
    "req.text"
   ]
  },
  {
   "cell_type": "code",
   "execution_count": null,
   "metadata": {},
   "outputs": [],
   "source": []
  }
 ],
 "metadata": {
  "kernelspec": {
   "display_name": "Python 3 (ipykernel)",
   "language": "python",
   "name": "python3"
  },
  "language_info": {
   "codemirror_mode": {
    "name": "ipython",
    "version": 3
   },
   "file_extension": ".py",
   "mimetype": "text/x-python",
   "name": "python",
   "nbconvert_exporter": "python",
   "pygments_lexer": "ipython3",
   "version": "3.9.10"
  }
 },
 "nbformat": 4,
 "nbformat_minor": 4
}
