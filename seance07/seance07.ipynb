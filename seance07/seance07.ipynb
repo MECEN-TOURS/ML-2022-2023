{
 "cells": [
  {
   "cell_type": "markdown",
   "metadata": {},
   "source": [
    "# Objectif"
   ]
  },
  {
   "cell_type": "markdown",
   "metadata": {},
   "source": [
    "Récuperer le fichier:\n",
    "`https://github.com/VPerrollaz/immobilier/blob/master/donnees/brute.json`\n",
    "\n",
    "puis transformer le en un dataset permettant de faire de l'apprentissage."
   ]
  },
  {
   "cell_type": "markdown",
   "metadata": {},
   "source": [
    "# Récupération fichier"
   ]
  },
  {
   "cell_type": "code",
   "execution_count": 2,
   "metadata": {},
   "outputs": [],
   "source": [
    "from requests import get"
   ]
  },
  {
   "cell_type": "code",
   "execution_count": 6,
   "metadata": {},
   "outputs": [],
   "source": [
    "ADRESSE = \"https://raw.githubusercontent.com/VPerrollaz/immobilier/master/donnees/brute.json\""
   ]
  },
  {
   "cell_type": "code",
   "execution_count": 7,
   "metadata": {},
   "outputs": [
    {
     "data": {
      "text/plain": [
       "200"
      ]
     },
     "execution_count": 7,
     "metadata": {},
     "output_type": "execute_result"
    }
   ],
   "source": [
    "requete = get(ADRESSE)\n",
    "requete.status_code"
   ]
  },
  {
   "cell_type": "code",
   "execution_count": 8,
   "metadata": {},
   "outputs": [
    {
     "data": {
      "text/plain": [
       "'OK'"
      ]
     },
     "execution_count": 8,
     "metadata": {},
     "output_type": "execute_result"
    }
   ],
   "source": [
    "requete.reason"
   ]
  },
  {
   "cell_type": "code",
   "execution_count": 9,
   "metadata": {},
   "outputs": [],
   "source": [
    "contenu = requete.text"
   ]
  },
  {
   "cell_type": "code",
   "execution_count": 10,
   "metadata": {},
   "outputs": [
    {
     "data": {
      "text/plain": [
       "str"
      ]
     },
     "execution_count": 10,
     "metadata": {},
     "output_type": "execute_result"
    }
   ],
   "source": [
    "type(contenu)"
   ]
  },
  {
   "cell_type": "code",
   "execution_count": 11,
   "metadata": {},
   "outputs": [
    {
     "data": {
      "text/plain": [
       "'{\"id\": \"annonce-138905473-376235\", \"genre\": \"Appartement\", \"prix\": \"374 400 \\\\u20ac\", \"pcs\": \"3 p 2 ch 90 m\\\\u00b2\", \"desc\": \"Appartement type 3 - TOURS CATH\\\\u00c9DRALE TOURS CATH\\\\u00c9DRALE: Ravissant appartement type 3 d\\'environ 90 m\\\\u00b2 dans r\\\\u00e9sidence de standing (~50 lots) avec cave et parking. Entr\\\\u00e9e,...\\\\n\\\\u00c7a m\\'int\\\\u00e9resse\", \"lien\": \"https://www.seloger.com/annonces/achat/appartement/tours-37/cathedrale/138905473.htm\"}\\n{\"id\": \"annonce-140620177-376235\", \"genre\": \"Appartement\", \"prix\": \"499 200 \\\\u20ac\", \"pcs\": \"5 p 4 ch 146,27 m\\\\u00b2\", \"desc\": \"TOURS HYPERCENTRE - Appartement TOURS HYPERCENTRE: Superbe appartement de 146,37 m\\\\u00b2 (LOI CARREZ) dans un immeuble de caract\\\\u00e8re avec ascenseur. Entr\\\\u00e9e, s\\\\u00e9jour SUD, vaste...\\\\n\\\\u00c7a m\\'int\\\\u00e9resse\", \"lien\": \"https://www.seloger.com/annonces/achat/appartement/tours-37/centre/140620177.htm\"}\\n{\"id\": \"annonce-140620179-376235\", \"genre\": \"Appartement\", \"prix\": \"499 200 \\\\u20ac\", \"pcs\": \"5 p 3 ch 110 m\\\\u00b2\",'"
      ]
     },
     "execution_count": 11,
     "metadata": {},
     "output_type": "execute_result"
    }
   ],
   "source": [
    "contenu[:1000]"
   ]
  },
  {
   "cell_type": "code",
   "execution_count": 12,
   "metadata": {},
   "outputs": [
    {
     "data": {
      "text/plain": [
       "'es avec jardin ou appartements du 2 au 3 pi\\\\u00e8ces: faites votre choix - Exceptionnel: une cuisine Blanchet d\\'Huismes am\\\\u00e9nag\\\\u00e9e et install\\\\u00e9e dans...\\\\n\\\\u00c7a m\\'int\\\\u00e9resse\", \"lien\": \"https://www.selogerneuf.com/annonces/achat/maison/tours-37/138636083/#?cmp=INTSL_ListToDetail\"}\\n{\"id\": \"annonce-137873909-139524\", \"genre\": \"Boutique\", \"prix\": \"195 000 \\\\u20ac\", \"pcs\": \"173 m\\\\u00b2\", \"desc\": \"Place Saint \\\\u00c9loi, Local commercial de 173m\\\\u00b2 avec acc\\\\u00e8s PMR. Il comprend des espaces bureaux en rez-de-chauss\\\\u00e9e de 92m\\\\u00b2 environ et 79m\\\\u00b2 \\\\u00e0 l\\'\\\\u00e9tage. Belle fa\\\\u00e7ade.\\\\n\\\\u00c7a m\\'int\\\\u00e9resse\", \"lien\": \"https://www.seloger.com/annonces/achat/boutique/tours-37/137873909.htm\"}\\n{\"id\": \"annonce-136457803-733454\", \"genre\": \"Parking\", \"prix\": \"15 000 \\\\u20ac\", \"pcs\": \"13 m\\\\u00b2\", \"desc\": \"GRAMMONT.PLACE DE LA LIBERT\\\\u00c9. Garage en sous-sol.\\\\n\\\\u00c7a m\\'int\\\\u00e9resse\", \"lien\": \"https://www.seloger.com/annonces/achat/parking/tours-37/136457803.htm\"}\\n'"
      ]
     },
     "execution_count": 12,
     "metadata": {},
     "output_type": "execute_result"
    }
   ],
   "source": [
    "contenu[-1000:]"
   ]
  },
  {
   "cell_type": "markdown",
   "metadata": {},
   "source": [
    "# Décodage du json\n",
    "\n",
    "Délicat car construction à la main sans librairie de sérialisation (i.e. `pyserde`)!"
   ]
  },
  {
   "cell_type": "code",
   "execution_count": 13,
   "metadata": {},
   "outputs": [],
   "source": [
    "import json"
   ]
  },
  {
   "cell_type": "code",
   "execution_count": 16,
   "metadata": {},
   "outputs": [
    {
     "ename": "JSONDecodeError",
     "evalue": "Extra data: line 2 column 1 (char 445)",
     "output_type": "error",
     "traceback": [
      "\u001b[1;31m---------------------------------------------------------------------------\u001b[0m",
      "\u001b[1;31mJSONDecodeError\u001b[0m                           Traceback (most recent call last)",
      "\u001b[1;32m<ipython-input-16-6562aeba8693>\u001b[0m in \u001b[0;36m<module>\u001b[1;34m\u001b[0m\n\u001b[1;32m----> 1\u001b[1;33m \u001b[0mjson\u001b[0m\u001b[1;33m.\u001b[0m\u001b[0mloads\u001b[0m\u001b[1;33m(\u001b[0m\u001b[0mcontenu\u001b[0m\u001b[1;33m)\u001b[0m\u001b[1;33m\u001b[0m\u001b[1;33m\u001b[0m\u001b[0m\n\u001b[0m",
      "\u001b[1;32mc:\\programdata\\miniconda3\\lib\\json\\__init__.py\u001b[0m in \u001b[0;36mloads\u001b[1;34m(s, encoding, cls, object_hook, parse_float, parse_int, parse_constant, object_pairs_hook, **kw)\u001b[0m\n\u001b[0;32m    346\u001b[0m             \u001b[0mparse_int\u001b[0m \u001b[1;32mis\u001b[0m \u001b[1;32mNone\u001b[0m \u001b[1;32mand\u001b[0m \u001b[0mparse_float\u001b[0m \u001b[1;32mis\u001b[0m \u001b[1;32mNone\u001b[0m \u001b[1;32mand\u001b[0m\u001b[1;33m\u001b[0m\u001b[1;33m\u001b[0m\u001b[0m\n\u001b[0;32m    347\u001b[0m             parse_constant is None and object_pairs_hook is None and not kw):\n\u001b[1;32m--> 348\u001b[1;33m         \u001b[1;32mreturn\u001b[0m \u001b[0m_default_decoder\u001b[0m\u001b[1;33m.\u001b[0m\u001b[0mdecode\u001b[0m\u001b[1;33m(\u001b[0m\u001b[0ms\u001b[0m\u001b[1;33m)\u001b[0m\u001b[1;33m\u001b[0m\u001b[1;33m\u001b[0m\u001b[0m\n\u001b[0m\u001b[0;32m    349\u001b[0m     \u001b[1;32mif\u001b[0m \u001b[0mcls\u001b[0m \u001b[1;32mis\u001b[0m \u001b[1;32mNone\u001b[0m\u001b[1;33m:\u001b[0m\u001b[1;33m\u001b[0m\u001b[1;33m\u001b[0m\u001b[0m\n\u001b[0;32m    350\u001b[0m         \u001b[0mcls\u001b[0m \u001b[1;33m=\u001b[0m \u001b[0mJSONDecoder\u001b[0m\u001b[1;33m\u001b[0m\u001b[1;33m\u001b[0m\u001b[0m\n",
      "\u001b[1;32mc:\\programdata\\miniconda3\\lib\\json\\decoder.py\u001b[0m in \u001b[0;36mdecode\u001b[1;34m(self, s, _w)\u001b[0m\n\u001b[0;32m    338\u001b[0m         \u001b[0mend\u001b[0m \u001b[1;33m=\u001b[0m \u001b[0m_w\u001b[0m\u001b[1;33m(\u001b[0m\u001b[0ms\u001b[0m\u001b[1;33m,\u001b[0m \u001b[0mend\u001b[0m\u001b[1;33m)\u001b[0m\u001b[1;33m.\u001b[0m\u001b[0mend\u001b[0m\u001b[1;33m(\u001b[0m\u001b[1;33m)\u001b[0m\u001b[1;33m\u001b[0m\u001b[1;33m\u001b[0m\u001b[0m\n\u001b[0;32m    339\u001b[0m         \u001b[1;32mif\u001b[0m \u001b[0mend\u001b[0m \u001b[1;33m!=\u001b[0m \u001b[0mlen\u001b[0m\u001b[1;33m(\u001b[0m\u001b[0ms\u001b[0m\u001b[1;33m)\u001b[0m\u001b[1;33m:\u001b[0m\u001b[1;33m\u001b[0m\u001b[1;33m\u001b[0m\u001b[0m\n\u001b[1;32m--> 340\u001b[1;33m             \u001b[1;32mraise\u001b[0m \u001b[0mJSONDecodeError\u001b[0m\u001b[1;33m(\u001b[0m\u001b[1;34m\"Extra data\"\u001b[0m\u001b[1;33m,\u001b[0m \u001b[0ms\u001b[0m\u001b[1;33m,\u001b[0m \u001b[0mend\u001b[0m\u001b[1;33m)\u001b[0m\u001b[1;33m\u001b[0m\u001b[1;33m\u001b[0m\u001b[0m\n\u001b[0m\u001b[0;32m    341\u001b[0m         \u001b[1;32mreturn\u001b[0m \u001b[0mobj\u001b[0m\u001b[1;33m\u001b[0m\u001b[1;33m\u001b[0m\u001b[0m\n\u001b[0;32m    342\u001b[0m \u001b[1;33m\u001b[0m\u001b[0m\n",
      "\u001b[1;31mJSONDecodeError\u001b[0m: Extra data: line 2 column 1 (char 445)"
     ]
    }
   ],
   "source": [
    "json.loads(contenu)"
   ]
  },
  {
   "cell_type": "code",
   "execution_count": 17,
   "metadata": {},
   "outputs": [
    {
     "data": {
      "text/plain": [
       "'tm\"}\\n{\"id\"'"
      ]
     },
     "execution_count": 17,
     "metadata": {},
     "output_type": "execute_result"
    }
   ],
   "source": [
    "contenu[440:450]"
   ]
  },
  {
   "cell_type": "code",
   "execution_count": 19,
   "metadata": {},
   "outputs": [
    {
     "name": "stdout",
     "output_type": "stream",
     "text": [
      "{\"id\": \"annonce-138905473-376235\", \"genre\": \"Appartement\", \"prix\": \"374 400 \\u20ac\", \"pcs\": \"3 p 2 ch 90 m\\u00b2\", \"desc\": \"Appartement type 3 - TOURS CATH\\u00c9DRALE TOURS CATH\\u00c9DRALE: Ravissant appartement type 3 d'environ 90 m\\u00b2 dans r\\u00e9sidence de standing (~50 lots) avec cave et parking. Entr\\u00e9e,...\\n\\u00c7a m'int\\u00e9resse\", \"lien\": \"https://www.seloger.com/annonces/achat/appartement/tours-37/cathedrale/138905473.htm\"}\n",
      "{\"id\"\n"
     ]
    }
   ],
   "source": [
    "print(contenu[:450])"
   ]
  },
  {
   "cell_type": "markdown",
   "metadata": {},
   "source": [
    "On voit qu'on a juste une juxtaposition d'annonces représentées par des dictionnaires.\n",
    "Il faut rajouter les virgules et les crochets pour transformer le contenu en une liste de dictionnaires."
   ]
  },
  {
   "cell_type": "markdown",
   "metadata": {},
   "source": [
    "**REMARQUE** le `\\\\u00b2` représente 6 caractères alors que `\\u00b2` représente un caractère via sa numérotation unicode!"
   ]
  },
  {
   "cell_type": "code",
   "execution_count": 20,
   "metadata": {},
   "outputs": [
    {
     "name": "stdout",
     "output_type": "stream",
     "text": [
      "\\u00b2\n"
     ]
    }
   ],
   "source": [
    "print(\"\\\\u00b2\")"
   ]
  },
  {
   "cell_type": "code",
   "execution_count": 21,
   "metadata": {},
   "outputs": [
    {
     "name": "stdout",
     "output_type": "stream",
     "text": [
      "²\n"
     ]
    }
   ],
   "source": [
    "print(\"\\u00b2\")"
   ]
  },
  {
   "cell_type": "code",
   "execution_count": 26,
   "metadata": {},
   "outputs": [],
   "source": [
    "annonces = json.loads(\"[\" + contenu[:-1].replace(\"\\n\", \",\") + \"]\")"
   ]
  },
  {
   "cell_type": "code",
   "execution_count": 27,
   "metadata": {},
   "outputs": [
    {
     "data": {
      "text/plain": [
       "list"
      ]
     },
     "execution_count": 27,
     "metadata": {},
     "output_type": "execute_result"
    }
   ],
   "source": [
    "type(annonces)"
   ]
  },
  {
   "cell_type": "code",
   "execution_count": 29,
   "metadata": {},
   "outputs": [
    {
     "data": {
      "text/plain": [
       "dict"
      ]
     },
     "execution_count": 29,
     "metadata": {},
     "output_type": "execute_result"
    }
   ],
   "source": [
    "type(annonces[0])"
   ]
  },
  {
   "cell_type": "code",
   "execution_count": 30,
   "metadata": {},
   "outputs": [
    {
     "data": {
      "text/plain": [
       "{'id': 'annonce-138905473-376235',\n",
       " 'genre': 'Appartement',\n",
       " 'prix': '374 400 €',\n",
       " 'pcs': '3 p 2 ch 90 m²',\n",
       " 'desc': \"Appartement type 3 - TOURS CATHÉDRALE TOURS CATHÉDRALE: Ravissant appartement type 3 d'environ 90 m² dans résidence de standing (~50 lots) avec cave et parking. Entrée,...\\nÇa m'intéresse\",\n",
       " 'lien': 'https://www.seloger.com/annonces/achat/appartement/tours-37/cathedrale/138905473.htm'}"
      ]
     },
     "execution_count": 30,
     "metadata": {},
     "output_type": "execute_result"
    }
   ],
   "source": [
    "annonces[0]"
   ]
  },
  {
   "cell_type": "code",
   "execution_count": 31,
   "metadata": {},
   "outputs": [
    {
     "data": {
      "text/plain": [
       "1818"
      ]
     },
     "execution_count": 31,
     "metadata": {},
     "output_type": "execute_result"
    }
   ],
   "source": [
    "len(annonces)"
   ]
  },
  {
   "cell_type": "markdown",
   "metadata": {},
   "source": [
    "# Extraire l'information pertinente des colonnes\n",
    "\n",
    "e.g. \n",
    "- id (str), \n",
    "- genre (catégorie), \n",
    "- prix (int), \n",
    "- surface (int), \n",
    "- pieces (int), \n",
    "- neuf (bool), \n",
    "- quartier (categorie?)\n",
    "- ?"
   ]
  },
  {
   "cell_type": "code",
   "execution_count": 32,
   "metadata": {},
   "outputs": [],
   "source": [
    "import pandas as pd"
   ]
  },
  {
   "cell_type": "code",
   "execution_count": 34,
   "metadata": {},
   "outputs": [],
   "source": [
    "df = pd.DataFrame(annonces)"
   ]
  },
  {
   "cell_type": "code",
   "execution_count": 35,
   "metadata": {},
   "outputs": [
    {
     "data": {
      "text/html": [
       "<div>\n",
       "<style scoped>\n",
       "    .dataframe tbody tr th:only-of-type {\n",
       "        vertical-align: middle;\n",
       "    }\n",
       "\n",
       "    .dataframe tbody tr th {\n",
       "        vertical-align: top;\n",
       "    }\n",
       "\n",
       "    .dataframe thead th {\n",
       "        text-align: right;\n",
       "    }\n",
       "</style>\n",
       "<table border=\"1\" class=\"dataframe\">\n",
       "  <thead>\n",
       "    <tr style=\"text-align: right;\">\n",
       "      <th></th>\n",
       "      <th>id</th>\n",
       "      <th>genre</th>\n",
       "      <th>prix</th>\n",
       "      <th>pcs</th>\n",
       "      <th>desc</th>\n",
       "      <th>lien</th>\n",
       "    </tr>\n",
       "  </thead>\n",
       "  <tbody>\n",
       "    <tr>\n",
       "      <th>count</th>\n",
       "      <td>1818</td>\n",
       "      <td>1818</td>\n",
       "      <td>1818</td>\n",
       "      <td>1818</td>\n",
       "      <td>1818</td>\n",
       "      <td>1818</td>\n",
       "    </tr>\n",
       "    <tr>\n",
       "      <th>unique</th>\n",
       "      <td>1798</td>\n",
       "      <td>16</td>\n",
       "      <td>1152</td>\n",
       "      <td>1140</td>\n",
       "      <td>1591</td>\n",
       "      <td>1798</td>\n",
       "    </tr>\n",
       "    <tr>\n",
       "      <th>top</th>\n",
       "      <td>annonce-139534407-749291</td>\n",
       "      <td>Appartement</td>\n",
       "      <td>155 000 €</td>\n",
       "      <td>3 p 2 ch 65 m²</td>\n",
       "      <td>Livraison: Octobre 2020 - Rare, plein centre d...</td>\n",
       "      <td>https://www.selogerneuf.com/annonces/investiss...</td>\n",
       "    </tr>\n",
       "    <tr>\n",
       "      <th>freq</th>\n",
       "      <td>2</td>\n",
       "      <td>1041</td>\n",
       "      <td>11</td>\n",
       "      <td>30</td>\n",
       "      <td>19</td>\n",
       "      <td>2</td>\n",
       "    </tr>\n",
       "  </tbody>\n",
       "</table>\n",
       "</div>"
      ],
      "text/plain": [
       "                              id        genre       prix             pcs  \\\n",
       "count                       1818         1818       1818            1818   \n",
       "unique                      1798           16       1152            1140   \n",
       "top     annonce-139534407-749291  Appartement  155 000 €  3 p 2 ch 65 m²   \n",
       "freq                           2         1041         11              30   \n",
       "\n",
       "                                                     desc  \\\n",
       "count                                                1818   \n",
       "unique                                               1591   \n",
       "top     Livraison: Octobre 2020 - Rare, plein centre d...   \n",
       "freq                                                   19   \n",
       "\n",
       "                                                     lien  \n",
       "count                                                1818  \n",
       "unique                                               1798  \n",
       "top     https://www.selogerneuf.com/annonces/investiss...  \n",
       "freq                                                    2  "
      ]
     },
     "execution_count": 35,
     "metadata": {},
     "output_type": "execute_result"
    }
   ],
   "source": [
    "df.describe()"
   ]
  },
  {
   "cell_type": "code",
   "execution_count": 36,
   "metadata": {},
   "outputs": [
    {
     "data": {
      "text/html": [
       "<div>\n",
       "<style scoped>\n",
       "    .dataframe tbody tr th:only-of-type {\n",
       "        vertical-align: middle;\n",
       "    }\n",
       "\n",
       "    .dataframe tbody tr th {\n",
       "        vertical-align: top;\n",
       "    }\n",
       "\n",
       "    .dataframe thead th {\n",
       "        text-align: right;\n",
       "    }\n",
       "</style>\n",
       "<table border=\"1\" class=\"dataframe\">\n",
       "  <thead>\n",
       "    <tr style=\"text-align: right;\">\n",
       "      <th></th>\n",
       "      <th>id</th>\n",
       "      <th>genre</th>\n",
       "      <th>prix</th>\n",
       "      <th>pcs</th>\n",
       "      <th>desc</th>\n",
       "      <th>lien</th>\n",
       "    </tr>\n",
       "  </thead>\n",
       "  <tbody>\n",
       "    <tr>\n",
       "      <th>0</th>\n",
       "      <td>annonce-138905473-376235</td>\n",
       "      <td>Appartement</td>\n",
       "      <td>374 400 €</td>\n",
       "      <td>3 p 2 ch 90 m²</td>\n",
       "      <td>Appartement type 3 - TOURS CATHÉDRALE TOURS CA...</td>\n",
       "      <td>https://www.seloger.com/annonces/achat/apparte...</td>\n",
       "    </tr>\n",
       "    <tr>\n",
       "      <th>1</th>\n",
       "      <td>annonce-140620177-376235</td>\n",
       "      <td>Appartement</td>\n",
       "      <td>499 200 €</td>\n",
       "      <td>5 p 4 ch 146,27 m²</td>\n",
       "      <td>TOURS HYPERCENTRE - Appartement TOURS HYPERCEN...</td>\n",
       "      <td>https://www.seloger.com/annonces/achat/apparte...</td>\n",
       "    </tr>\n",
       "    <tr>\n",
       "      <th>2</th>\n",
       "      <td>annonce-140620179-376235</td>\n",
       "      <td>Appartement</td>\n",
       "      <td>499 200 €</td>\n",
       "      <td>5 p 3 ch 110 m²</td>\n",
       "      <td>TOURS PRÉBENDES NORD - APPARTEMENT TOURS PRÉBE...</td>\n",
       "      <td>https://www.seloger.com/annonces/achat/apparte...</td>\n",
       "    </tr>\n",
       "    <tr>\n",
       "      <th>3</th>\n",
       "      <td>annonce-133494153-376235</td>\n",
       "      <td>Maison / Villa</td>\n",
       "      <td>508 000 €</td>\n",
       "      <td>6 p 4 ch 132 m²</td>\n",
       "      <td>TOURS PRÉBENDES - PARTICULIER TOURANGEAUX TOUR...</td>\n",
       "      <td>https://www.seloger.com/annonces/achat/maison/...</td>\n",
       "    </tr>\n",
       "    <tr>\n",
       "      <th>4</th>\n",
       "      <td>annonce-137425993-376235</td>\n",
       "      <td>Maison / Villa</td>\n",
       "      <td>676 000 €</td>\n",
       "      <td>7 p 5 ch 185 m²</td>\n",
       "      <td>TOURS STRASBOURG / RABELAIS - Maison TOURS STR...</td>\n",
       "      <td>https://www.seloger.com/annonces/achat-de-pres...</td>\n",
       "    </tr>\n",
       "  </tbody>\n",
       "</table>\n",
       "</div>"
      ],
      "text/plain": [
       "                         id           genre       prix                 pcs  \\\n",
       "0  annonce-138905473-376235     Appartement  374 400 €      3 p 2 ch 90 m²   \n",
       "1  annonce-140620177-376235     Appartement  499 200 €  5 p 4 ch 146,27 m²   \n",
       "2  annonce-140620179-376235     Appartement  499 200 €     5 p 3 ch 110 m²   \n",
       "3  annonce-133494153-376235  Maison / Villa  508 000 €     6 p 4 ch 132 m²   \n",
       "4  annonce-137425993-376235  Maison / Villa  676 000 €     7 p 5 ch 185 m²   \n",
       "\n",
       "                                                desc  \\\n",
       "0  Appartement type 3 - TOURS CATHÉDRALE TOURS CA...   \n",
       "1  TOURS HYPERCENTRE - Appartement TOURS HYPERCEN...   \n",
       "2  TOURS PRÉBENDES NORD - APPARTEMENT TOURS PRÉBE...   \n",
       "3  TOURS PRÉBENDES - PARTICULIER TOURANGEAUX TOUR...   \n",
       "4  TOURS STRASBOURG / RABELAIS - Maison TOURS STR...   \n",
       "\n",
       "                                                lien  \n",
       "0  https://www.seloger.com/annonces/achat/apparte...  \n",
       "1  https://www.seloger.com/annonces/achat/apparte...  \n",
       "2  https://www.seloger.com/annonces/achat/apparte...  \n",
       "3  https://www.seloger.com/annonces/achat/maison/...  \n",
       "4  https://www.seloger.com/annonces/achat-de-pres...  "
      ]
     },
     "execution_count": 36,
     "metadata": {},
     "output_type": "execute_result"
    }
   ],
   "source": [
    "df.head()"
   ]
  },
  {
   "cell_type": "code",
   "execution_count": 37,
   "metadata": {},
   "outputs": [
    {
     "data": {
      "text/plain": [
       "id       object\n",
       "genre    object\n",
       "prix     object\n",
       "pcs      object\n",
       "desc     object\n",
       "lien     object\n",
       "dtype: object"
      ]
     },
     "execution_count": 37,
     "metadata": {},
     "output_type": "execute_result"
    }
   ],
   "source": [
    "df.dtypes"
   ]
  },
  {
   "cell_type": "code",
   "execution_count": 38,
   "metadata": {},
   "outputs": [
    {
     "data": {
      "text/plain": [
       "array(['Appartement', 'Maison / Villa', 'Appartement neuf',\n",
       "       'Projet de construction', 'Maison / Villa neuve', 'Bâtiment',\n",
       "       'Parking', 'Bureau', 'Local commercial', 'Immeuble', 'Boutique',\n",
       "       'Terrain', 'Divers', 'Loft/Atelier/Surface', 'Château',\n",
       "       'Hôtel particulier'], dtype=object)"
      ]
     },
     "execution_count": 38,
     "metadata": {},
     "output_type": "execute_result"
    }
   ],
   "source": [
    "df.genre.unique()"
   ]
  },
  {
   "cell_type": "code",
   "execution_count": 39,
   "metadata": {},
   "outputs": [],
   "source": [
    "equivalent_appartements = {'Appartement', 'Appartement neuf'}\n",
    "equivalent_maisons = {'Maison / Villa', 'Maison / Villa neuve', 'Château', 'Hôtel particulier'}"
   ]
  },
  {
   "cell_type": "code",
   "execution_count": 42,
   "metadata": {},
   "outputs": [],
   "source": [
    "df[\"appartement\"] = df.eval(\"genre in @equivalent_appartements\")"
   ]
  },
  {
   "cell_type": "code",
   "execution_count": 43,
   "metadata": {},
   "outputs": [],
   "source": [
    "df[\"maison\"] = df.eval(\"genre in @equivalent_maisons\")"
   ]
  },
  {
   "cell_type": "code",
   "execution_count": 49,
   "metadata": {},
   "outputs": [],
   "source": [
    "df[\"a_supprimer\"] = df.eval(\"not (maison | appartement)\")"
   ]
  },
  {
   "cell_type": "code",
   "execution_count": 50,
   "metadata": {},
   "outputs": [
    {
     "data": {
      "text/html": [
       "<div>\n",
       "<style scoped>\n",
       "    .dataframe tbody tr th:only-of-type {\n",
       "        vertical-align: middle;\n",
       "    }\n",
       "\n",
       "    .dataframe tbody tr th {\n",
       "        vertical-align: top;\n",
       "    }\n",
       "\n",
       "    .dataframe thead th {\n",
       "        text-align: right;\n",
       "    }\n",
       "</style>\n",
       "<table border=\"1\" class=\"dataframe\">\n",
       "  <thead>\n",
       "    <tr style=\"text-align: right;\">\n",
       "      <th></th>\n",
       "      <th>id</th>\n",
       "      <th>genre</th>\n",
       "      <th>prix</th>\n",
       "      <th>pcs</th>\n",
       "      <th>desc</th>\n",
       "      <th>lien</th>\n",
       "      <th>appartement</th>\n",
       "      <th>maison</th>\n",
       "      <th>a_supprimer</th>\n",
       "    </tr>\n",
       "  </thead>\n",
       "  <tbody>\n",
       "    <tr>\n",
       "      <th>count</th>\n",
       "      <td>1818</td>\n",
       "      <td>1818</td>\n",
       "      <td>1818</td>\n",
       "      <td>1818</td>\n",
       "      <td>1818</td>\n",
       "      <td>1818</td>\n",
       "      <td>1818</td>\n",
       "      <td>1818</td>\n",
       "      <td>1818</td>\n",
       "    </tr>\n",
       "    <tr>\n",
       "      <th>unique</th>\n",
       "      <td>1798</td>\n",
       "      <td>16</td>\n",
       "      <td>1152</td>\n",
       "      <td>1140</td>\n",
       "      <td>1591</td>\n",
       "      <td>1798</td>\n",
       "      <td>2</td>\n",
       "      <td>2</td>\n",
       "      <td>2</td>\n",
       "    </tr>\n",
       "    <tr>\n",
       "      <th>top</th>\n",
       "      <td>annonce-139534407-749291</td>\n",
       "      <td>Appartement</td>\n",
       "      <td>155 000 €</td>\n",
       "      <td>3 p 2 ch 65 m²</td>\n",
       "      <td>Livraison: Octobre 2020 - Rare, plein centre d...</td>\n",
       "      <td>https://www.selogerneuf.com/annonces/investiss...</td>\n",
       "      <td>True</td>\n",
       "      <td>False</td>\n",
       "      <td>False</td>\n",
       "    </tr>\n",
       "    <tr>\n",
       "      <th>freq</th>\n",
       "      <td>2</td>\n",
       "      <td>1041</td>\n",
       "      <td>11</td>\n",
       "      <td>30</td>\n",
       "      <td>19</td>\n",
       "      <td>2</td>\n",
       "      <td>1253</td>\n",
       "      <td>1406</td>\n",
       "      <td>1665</td>\n",
       "    </tr>\n",
       "  </tbody>\n",
       "</table>\n",
       "</div>"
      ],
      "text/plain": [
       "                              id        genre       prix             pcs  \\\n",
       "count                       1818         1818       1818            1818   \n",
       "unique                      1798           16       1152            1140   \n",
       "top     annonce-139534407-749291  Appartement  155 000 €  3 p 2 ch 65 m²   \n",
       "freq                           2         1041         11              30   \n",
       "\n",
       "                                                     desc  \\\n",
       "count                                                1818   \n",
       "unique                                               1591   \n",
       "top     Livraison: Octobre 2020 - Rare, plein centre d...   \n",
       "freq                                                   19   \n",
       "\n",
       "                                                     lien appartement maison  \\\n",
       "count                                                1818        1818   1818   \n",
       "unique                                               1798           2      2   \n",
       "top     https://www.selogerneuf.com/annonces/investiss...        True  False   \n",
       "freq                                                    2        1253   1406   \n",
       "\n",
       "       a_supprimer  \n",
       "count         1818  \n",
       "unique           2  \n",
       "top          False  \n",
       "freq          1665  "
      ]
     },
     "execution_count": 50,
     "metadata": {},
     "output_type": "execute_result"
    }
   ],
   "source": [
    "df.describe()"
   ]
  },
  {
   "cell_type": "code",
   "execution_count": 52,
   "metadata": {},
   "outputs": [],
   "source": [
    "equivalent_neufs = {'Appartement neuf', 'Maison / Villa neuve'}\n",
    "df[\"neuf\"] = df.eval(\"genre in @equivalent_neufs\")"
   ]
  },
  {
   "cell_type": "code",
   "execution_count": 72,
   "metadata": {},
   "outputs": [],
   "source": [
    "masque = df[\"prix\"].str.replace(\"€\", \"\").str.replace(\" \", \"\").str.replace(\"HT\", \"\").str.replace(\"HH\", \"\").str.isdecimal()"
   ]
  },
  {
   "cell_type": "code",
   "execution_count": 73,
   "metadata": {},
   "outputs": [
    {
     "data": {
      "text/plain": [
       "843    €\n",
       "Name: prix, dtype: object"
      ]
     },
     "execution_count": 73,
     "metadata": {},
     "output_type": "execute_result"
    }
   ],
   "source": [
    "df[\"prix\"].loc[masque == False]"
   ]
  }
 ],
 "metadata": {
  "kernelspec": {
   "display_name": "Python 3",
   "language": "python",
   "name": "python3"
  },
  "language_info": {
   "codemirror_mode": {
    "name": "ipython",
    "version": 3
   },
   "file_extension": ".py",
   "mimetype": "text/x-python",
   "name": "python",
   "nbconvert_exporter": "python",
   "pygments_lexer": "ipython3",
   "version": "3.7.4"
  }
 },
 "nbformat": 4,
 "nbformat_minor": 4
}
